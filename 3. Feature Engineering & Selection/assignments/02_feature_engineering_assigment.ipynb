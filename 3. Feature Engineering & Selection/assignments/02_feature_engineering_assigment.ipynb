{
 "cells": [
  {
   "cell_type": "markdown",
   "metadata": {},
   "source": [
    "# Authorship Classification\n",
    "\n",
    "![](../../images/books.jpg)\n",
    "\n",
    "Each author has their own distinct writing style. Authorship analysis is the science of discriminating between writing styles of authors.  \n",
    "\n",
    "Your goal is to create a classification system that can determine the author of a given piece of text purely based on the textual information present. For this purpose, we assume a given author always creates content within the same genre - no reason to expect a BuzzFeed-style article from Jane Austen. \n",
    "\n",
    "**ASSIGNMENT**: Discuss in small groups what features you would engineer for this type of problem. \n",
    "\n",
    "These features could, for instance, be related to: \n",
    "- **Content:** In order to use text data for classification purposes, the text must be converted to a set of representative numerical features. One of the simplest methods is of encoding text data is by _word counts_. This may be used to get a feeling for content, e.g. by identifying topics through keywords. \n",
    "- **Lexical features**: features based on the words present in the document, e.g. average document length. \n",
    "- **Syntactic features**: features based on the underlying grammar of the document. Assume you have access to a part-of-speech tagger which can identify the word classes (e.g. noun, verb, adjective, adverbs, etc.) for all the words in the document. [Example](http://www.nltk.org/book/ch05.html).\n",
    "\n",
    "\n",
    " "
   ]
  },
  {
   "cell_type": "markdown",
   "metadata": {},
   "source": [
    "## Your notes & ideas here! \n"
   ]
  },
  {
   "cell_type": "raw",
   "metadata": {},
   "source": [
    ".... "
   ]
  }
 ],
 "metadata": {
  "kernelspec": {
   "display_name": "Python 3",
   "language": "python",
   "name": "python3"
  },
  "language_info": {
   "codemirror_mode": {
    "name": "ipython",
    "version": 3
   },
   "file_extension": ".py",
   "mimetype": "text/x-python",
   "name": "python",
   "nbconvert_exporter": "python",
   "pygments_lexer": "ipython3",
   "version": "3.8.3"
  }
 },
 "nbformat": 4,
 "nbformat_minor": 4
}
