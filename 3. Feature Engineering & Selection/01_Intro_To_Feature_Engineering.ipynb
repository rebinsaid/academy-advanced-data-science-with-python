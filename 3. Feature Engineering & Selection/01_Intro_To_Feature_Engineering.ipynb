{
 "cells": [
  {
   "cell_type": "markdown",
   "metadata": {},
   "source": [
    "<img src='images/gdd-logo.png' width='250px' align='right' style=\"padding: 15px\">\n",
    "\n",
    "# Feature Engineering\n",
    "\n",
    "How good a machine learning model performs is partly dependent on how you choose to represent your data. Feature engineering is the **practice of creating new features** from your **existing** and **additional** data sources to improve model performance and/or model interpretability. It is often where the biggest improvements in model performance happen—not through fancy algorithms, but by giving the model better representations of the data. \n"
   ]
  },
  {
   "cell_type": "markdown",
   "metadata": {},
   "source": [
    "## Introduction to Feature Engineering\n",
    "<mark>**Exercise: Share examples from your work**</mark>\n",
    "\n",
    "In this section, you'll explore the concept of feature engineering through a discussion in groups. \n",
    "\n",
    "Before we dive into code, take a few minutes to consider the questions below. You can think about your past projects, your current work, or hypothetical use cases relevant to your domain. Feel free to jot down your thoughts, then we’ll discuss as a group.\n",
    "\n",
    "#### Questions\n",
    "1. What kinds of **raw data** have you worked with, and what **transformations** have you applied before modeling?\n",
    "2. Have you ever engineered features based on **time or sequence** (e.g., time since last event, rolling averages)? What did you do?\n",
    "3. Have you ever created **interaction terms or polynomial features**? Can you describe what these are and what you did?\n",
    "4. Can you describe a time when feature engineering made a **significant difference** in model performance?\n",
    "5. What are the **trade-offs** between automated feature engineering (like Featuretools or autoML) vs. manual approaches?\n",
    "6. How can you **validate** whether a new feature is truly valuable to the model?"
   ]
  },
  {
   "cell_type": "raw",
   "metadata": {},
   "source": [
    "Add notes here"
   ]
  }
 ],
 "metadata": {
  "kernelspec": {
   "display_name": "Python [conda env:base] *",
   "language": "python",
   "name": "conda-base-py"
  },
  "language_info": {
   "codemirror_mode": {
    "name": "ipython",
    "version": 3
   },
   "file_extension": ".py",
   "mimetype": "text/x-python",
   "name": "python",
   "nbconvert_exporter": "python",
   "pygments_lexer": "ipython3",
   "version": "3.12.7"
  }
 },
 "nbformat": 4,
 "nbformat_minor": 4
}
