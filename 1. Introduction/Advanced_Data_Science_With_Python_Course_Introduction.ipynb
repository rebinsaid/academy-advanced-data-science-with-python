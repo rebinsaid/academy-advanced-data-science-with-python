{
 "cells": [
  {
   "cell_type": "markdown",
   "metadata": {},
   "source": [
    "<img src='images/gdd-logo.png' align='right' width=300px>\n",
    "\n",
    "# Advanced Data Science with Python\n",
    "\n",
    "Welcome to the Advanced Data Science with Python course run by Xebia Data!\n",
    "\n",
    "## Course Objectives\n",
    "\n",
    "After the training, you'll be able to:\n",
    "\n",
    "- Apply best practices for building machine learning models with sklearn, such as using model pipeline.\n",
    "- Explore how to use feature engineering and selection.\n",
    "- Build classifiers that are robust to class imbalance.\n",
    "- Create your own custom scikit-learn objects that are composable with scikit-learn pipelines.\n",
    "\n",
    "And practice what you have learned with hackathons at the end of each day.\n"
   ]
  },
  {
   "cell_type": "markdown",
   "metadata": {},
   "source": [
    "----\n",
    "\n",
    "<img src='images/checklist.png' align='recht' width=300px style='padding:10px'>\n",
    "\n",
    "## Agenda\n",
    "\n",
    "### Day 1\n",
    "- Sklearn & ML refresher\n",
    "- Sklearn best practices\n",
    "    - transformers, pipelines, cross-validation, hyperparameter tuning using grid search\n",
    "- *<mark>Hackathon</mark>*\n",
    "\n",
    "### Day 2\n",
    "- Feature engineering: discussion\n",
    "- Feature selection\n",
    "- Introduction to OOP\n",
    "- The Sklearn API\n",
    "    - Custom methods & transformers\n",
    "- *<mark>Hackathon:</mark> Build a full pipeline to predict crime using best practices.*"
   ]
  },
  {
   "cell_type": "markdown",
   "metadata": {},
   "source": [
    "--- \n",
    "## Jupyter Notebook\n",
    "\n",
    "Throughout the 2 days, we will be using Jupyter Notebooks because they:\n",
    "\n",
    "- Display code/information in-line for easy-to-read documents\n",
    "- Allow for interactive coding\n",
    "- Great for deep-dives and data exploration\n",
    "\n",
    "Here is a brief reminder about how to use Jupyter Notebook:"
   ]
  },
  {
   "cell_type": "code",
   "execution_count": null,
   "metadata": {},
   "outputs": [
    {
     "data": {
      "text/plain": [
       "20"
      ]
     },
     "execution_count": 4,
     "metadata": {},
     "output_type": "execute_result"
    }
   ],
   "source": [
    "x = 10 + 10\n",
    "x \n",
    "str(x).upper()\n",
    "\n",
    "#testing checkpoints"
   ]
  },
  {
   "cell_type": "markdown",
   "metadata": {},
   "source": [
    "### Jupyter Notebook shortcuts\n",
    "All necessary commands have corresponding buttons at the top of the screen.\n",
    "As you become more familiar with using Jupyter Notebook, you'll become more\n",
    "efficient by using hotkeys instead. A list of some useful ones (use ⌘ or \n",
    "`command` instead of `ctrl` on a *Mac*):\n",
    "\n",
    "- `ctrl  + enter` : run cell\n",
    "- `shift + enter` : run cell and create / select the one after\n",
    "- `ctrl  + s`     : save notebook\n",
    "- `esc`           : enter command mode\n",
    "\n",
    "Command mode — introduced above — is opposite to Insert mode. \n",
    "In Insert mode you can input your code or text. In Command mode — as the \n",
    "name implies, you can execute commands that mostly influence the notebook:\n",
    "\n",
    "- `↑`/`↓` : browser through different cells\n",
    "- `y`     : changes cell to a code cell\n",
    "- `m`     : changes cell to a [markdown](https://en.wikipedia.org/wiki/Markdown) cell\n",
    "- `a`     : create new cell above\n",
    "- `b`     : create new cell below\n",
    "- `dd`    : delete cell"
   ]
  },
  {
   "cell_type": "markdown",
   "metadata": {},
   "source": [
    "---\n",
    "\n",
    "## Get the most out of your training!\n",
    "\n",
    "Here are some tips/expectations for you that, if you follow, will help you make the most out of your training:\n",
    "\n",
    "- Code along during demo\n",
    "- Paired/mob programming during activities\n",
    "- Sharing answers/screens\n",
    "- Ask questions!"
   ]
  }
 ],
 "metadata": {
  "kernelspec": {
   "display_name": "Python 3",
   "language": "python",
   "name": "python3"
  },
  "language_info": {
   "codemirror_mode": {
    "name": "ipython",
    "version": 3
   },
   "file_extension": ".py",
   "mimetype": "text/x-python",
   "name": "python",
   "nbconvert_exporter": "python",
   "pygments_lexer": "ipython3",
   "version": "3.12.1"
  }
 },
 "nbformat": 4,
 "nbformat_minor": 4
}
