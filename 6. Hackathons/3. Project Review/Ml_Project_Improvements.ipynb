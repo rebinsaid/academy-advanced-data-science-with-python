{
 "cells": [
  {
   "cell_type": "markdown",
   "metadata": {},
   "source": [
    "## ML project\n",
    "\n",
    "### The setup\n",
    "\n",
    "A former colleague of yours was working on a promising data-focused project, but unfortunately he recently got fired (for unknown reasons), so you are taking the project over. **Your goal** will be to kickstart this project, and turn it into a successful data-driven use case rather than an immature experimental notebook that it is right now. You will have to **improve the approach** started by your colleague, **rethink** some of the more immature techniques, **substantially expand and reinforce** the project, as well as verify that it actually brings business value.\n",
    "\n",
    "<img src=\"images/coworker.jpg\" width=400>\n",
    "\n",
    "### Project background\n",
    "\n",
    "You are working for a bike rental company that hopes to optimize its bicycle availability at various rental locations. You have access to their past data that contains the hourly and daily count of bike rentals between years 2011 and 2012 with the corresponding weather and seasonal information. Our target variable is **cnt** - the number of bikes rented out at a particular moment. Below is a description of the remaining variables:\n",
    "\n",
    "- **datetime**: date and time when each log of bike rentals was made\n",
    "- **weathersit**: weather situation at the moment of the log \n",
    "    1: Clear, Few clouds, Partly cloudy, Partly cloudy\n",
    "    2: Mist + Cloudy, Mist + Broken clouds, Mist + Few clouds, Mist\n",
    "    3: Light Snow, Light Rain + Thunderstorm + Scattered clouds, Light Rain + Scattered clouds\n",
    "    4: Heavy Rain + Ice Pallets + Thunderstorm + Mist, Snow + Fog\n",
    "- **temp**: Normalized temperature in Celsius. The values are derived via (t-tmin)/(tmax-tmin), tmin=-8, t_max=+39 \n",
    "- **atemp**: Normalized feeling temperature in Celsius. The values are derived via (t-tmin)/(tmax-tmin), tmin=-16, t_max=+50\n",
    "- **hum**: Normalized humidity. The values are divided to 100 (max)\n",
    "- **windspeed**: Normalized wind speed. The values are divided to 67 (max)\n",
    "- **registered**: count of registered users among those who rented bikes\n",
    "- **cnt**: count of all rental bikes including both unregistered and registered users\n",
    "\n",
    "**Important assumption**: additional research of the bike rental company showed that each rental location at each moment in time can be considered *independent* of every other bike rental log in the dataset.\n",
    "\n",
    "The dataset can be seen below:"
   ]
  },
  {
   "cell_type": "code",
   "execution_count": null,
   "metadata": {},
   "outputs": [],
   "source": [
    "import pandas as pd\n",
    "\n",
    "bikes_df = pd.read_csv('data/bike_rentals.csv')\n",
    "bikes_df.head()"
   ]
  },
  {
   "cell_type": "markdown",
   "metadata": {},
   "source": [
    "## The New Project\n",
    "\n",
    "Here we will try to redevelop this project, while combining all of the concerns about the old project. We will gradually address each part of the project and hopefully end up with a usable application in the end!\n",
    "\n",
    "*Note:* each block will be turned into a several preprocessing functions which we will later combine together to turn raw data into data ready for ML pipelines\n",
    "\n",
    "*Note 2:* when creating these preprocessing functions, we should be particularly mindful whether we may further introduce any data leakage into the train-test split as well as whether we may doubt about some preprocessing steps and wish to rather use them as a part of a ML pipeline"
   ]
  },
  {
   "cell_type": "code",
   "execution_count": null,
   "metadata": {},
   "outputs": [],
   "source": []
  },
  {
   "cell_type": "markdown",
   "metadata": {},
   "source": [
    "## 1. Data Inspection & Quality Concerns\n",
    "\n",
    "Here we will inspect the quality of the dataset and determine whether there are any serious issues + suggest how we are going to solve them further on"
   ]
  },
  {
   "cell_type": "code",
   "execution_count": null,
   "metadata": {},
   "outputs": [],
   "source": []
  },
  {
   "cell_type": "markdown",
   "metadata": {},
   "source": [
    "## 2. Feature Engineering\n",
    "\n",
    "Here we will use our domain knowledge determine which useful features can be extracted manually, and which ones can be added using some automatic feature generators"
   ]
  },
  {
   "cell_type": "code",
   "execution_count": null,
   "metadata": {},
   "outputs": [],
   "source": []
  },
  {
   "cell_type": "markdown",
   "metadata": {},
   "source": [
    "## 3. ML applicability\n",
    "\n",
    "Here we will explore and justify whether this problem and the available data actually allow us to use a ML approach. This would not be the case in two situations:\n",
    "\n",
    "- The problem is too simple (there are features ~99% correlated with the target)\n",
    "- The problem is too complex & there is not enough information (the features are rather unrelated to the problem)"
   ]
  },
  {
   "cell_type": "code",
   "execution_count": null,
   "metadata": {},
   "outputs": [],
   "source": []
  },
  {
   "cell_type": "markdown",
   "metadata": {},
   "source": [
    "## 4. Building a preprocessing ML pipeline\n",
    "\n",
    "Here we will focus on assembling any preprocessing blocks of a ML pipeline that we are going to use in combination with a ML model later"
   ]
  },
  {
   "cell_type": "code",
   "execution_count": null,
   "metadata": {},
   "outputs": [],
   "source": []
  },
  {
   "cell_type": "markdown",
   "metadata": {},
   "source": [
    "## 5. Choosing and setting up ML model(s)\n",
    "\n",
    "Here we will decide on which ML models may be a good choice for us in this application, and set them up"
   ]
  },
  {
   "cell_type": "code",
   "execution_count": null,
   "metadata": {},
   "outputs": [],
   "source": []
  },
  {
   "cell_type": "markdown",
   "metadata": {},
   "source": [
    "## 6. Parameter Tuning\n",
    "\n",
    "Here we will select the best parameters for each model"
   ]
  },
  {
   "cell_type": "code",
   "execution_count": null,
   "metadata": {},
   "outputs": [],
   "source": []
  },
  {
   "cell_type": "markdown",
   "metadata": {},
   "source": [
    "## 7. Model Optimization and Packaging\n",
    "\n",
    "Here we will make the last preparations to turn our selected pipeline into a forecasting application"
   ]
  },
  {
   "cell_type": "code",
   "execution_count": null,
   "metadata": {},
   "outputs": [],
   "source": []
  }
 ],
 "metadata": {
  "kernelspec": {
   "display_name": "Python 3 (ipykernel)",
   "language": "python",
   "name": "python3"
  },
  "language_info": {
   "codemirror_mode": {
    "name": "ipython",
    "version": 3
   },
   "file_extension": ".py",
   "mimetype": "text/x-python",
   "name": "python",
   "nbconvert_exporter": "python",
   "pygments_lexer": "ipython3",
   "version": "3.9.15"
  }
 },
 "nbformat": 4,
 "nbformat_minor": 4
}
