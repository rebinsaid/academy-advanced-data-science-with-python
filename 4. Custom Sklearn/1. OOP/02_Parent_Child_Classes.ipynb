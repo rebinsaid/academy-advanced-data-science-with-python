{
 "cells": [
  {
   "cell_type": "markdown",
   "metadata": {},
   "source": [
    "<img src='images/gdd-logo.png' width='300px' align='right' style=\"padding: 15px\">\n",
    "\n",
    "# <mark style='background-color:white;color:#364069'>Object Oriented Programming</mark>\n",
    "\n",
    "Now that you have a `Deck` of cards, this notebook will demonstrate how to use inheritance to make parent/child classes.\n",
    "\n",
    "- [Recap of the `Deck` of cards](#recap)\n",
    "\n",
    "- [Parent and child classes](#parent-child)\n",
    "    - [Creating a parent deck](#parent)\n",
    "    - [Creating a child deck](#child)\n",
    "    - [<mark>Exercise</mark>](#ex-theme)\n",
    "    - [<mark>Bonus Exercises</mark>](#ex-bonus)\n",
    "\n",
    "- [Conclusion](#conclusion)"
   ]
  },
  {
   "cell_type": "markdown",
   "metadata": {},
   "source": [
    "---\n",
    "<a id='deck'></a>\n",
    "# Recap of the `Deck` of cards\n",
    "\n",
    "In the previous notebook you implemented a class called `Deck`, which represents a (French) card deck. \n",
    "\n",
    "<img src='images/french-card.jpeg'>"
   ]
  },
  {
   "cell_type": "code",
   "execution_count": 1,
   "metadata": {},
   "outputs": [
    {
     "data": {
      "text/plain": [
       "[Card(rank='A', suit='♣')]"
      ]
     },
     "execution_count": 1,
     "metadata": {},
     "output_type": "execute_result"
    }
   ],
   "source": [
    "import collections\n",
    "\n",
    "Card = collections.namedtuple('Card', ['rank', 'suit'])\n",
    "\n",
    "class Deck:\n",
    "    ranks = '23456789TJQKA'\n",
    "    suits = '♠♥♦♣'\n",
    "    \n",
    "    def __init__(self):\n",
    "        self.cards = [\n",
    "            Card(rank, suit)\n",
    "            for suit in self.suits\n",
    "            for rank in self.ranks\n",
    "        ]\n",
    "        self.dealt_cards = []\n",
    "    \n",
    "    def deal(self):\n",
    "        dealt_card = self.cards.pop()\n",
    "        self.dealt_cards.append(dealt_card)\n",
    "        return dealt_card\n",
    "    \n",
    "    def size(self):\n",
    "        return len(self.cards)\n",
    "    \n",
    "    def check_ace(self):\n",
    "        return self.cards[-1].rank == 'A'\n",
    "    \n",
    "deck = Deck()\n",
    "deck.deal()\n",
    "deck.dealt_cards"
   ]
  },
  {
   "cell_type": "markdown",
   "metadata": {},
   "source": [
    "---\n",
    "<a id='parent-child'></a>\n",
    "\n",
    "## Parent and child classes\n",
    "Until now you only considered a French card with 52 cards. But maybe somebody would like to use the deck for another game with custom cards. Could you make the deck more generic, while still keeping the logic of the French card deck?\n",
    "\n",
    "<a id='parent'></a>\n",
    "### Creating a parent Deck\n",
    "\n",
    "Yes! You can do so by creating a generic *parent* class called `Deck`:"
   ]
  },
  {
   "cell_type": "code",
   "execution_count": 2,
   "metadata": {},
   "outputs": [],
   "source": [
    "import collections\n",
    "\n",
    "class Deck:\n",
    "    def __init__(self):\n",
    "        Card = collections.namedtuple('Card', ['rank', 'suit'])\n",
    "        self.cards = [\n",
    "            Card(rank, suit)\n",
    "            for suit in self.suits\n",
    "            for rank in self.ranks\n",
    "        ]\n",
    "        self.dealt_cards = []\n",
    "\n",
    "    def size(self):\n",
    "        return len(self.cards)\n",
    "    \n",
    "    def deal(self):\n",
    "        dealt_card = self.cards.pop()\n",
    "        self.dealt_cards.append(dealt_card)\n",
    "        return dealt_card"
   ]
  },
  {
   "cell_type": "markdown",
   "metadata": {},
   "source": [
    "<a id='child'></a>\n",
    "\n",
    "### Creating a child deck\n",
    "\n",
    "Then you can make a more specific *child* class called `French52Deck` by passing the parent class name as an argument when defining the child class."
   ]
  },
  {
   "cell_type": "code",
   "execution_count": 3,
   "metadata": {},
   "outputs": [
    {
     "data": {
      "text/plain": [
       "Card(rank='A', suit='♣')"
      ]
     },
     "execution_count": 3,
     "metadata": {},
     "output_type": "execute_result"
    }
   ],
   "source": [
    "class French52Deck(Deck):\n",
    "    ranks = '23456789TJQKA'\n",
    "    suits = '♠♥♦♣'\n",
    "        \n",
    "    def check_ace(self):\n",
    "        return self.cards[-1].rank == 'A'\n",
    "        \n",
    "french_deck = French52Deck()\n",
    "\n",
    "french_deck.deal()"
   ]
  },
  {
   "cell_type": "markdown",
   "metadata": {},
   "source": [
    "*note:* `__init__()` function is called automatically every time the class is being used to create a new object, but we do not have to use it. Importantly though, a child's `__init__()` function overrides the inheritance of the parent's `__init__()` function if one exists in both."
   ]
  },
  {
   "cell_type": "markdown",
   "metadata": {},
   "source": [
    "<a id=ex-theme></a>\n",
    "\n",
    "## <mark>Exercise: Make a themed card set</mark>\n",
    "\n",
    "Now you can also make another deck, with a different theme but keeping all the functionality from the parent.\n",
    "Create a new deck of cards with a certain theme - Eg. a Harry Potter deck where all the suits are the hogwarts houses, ranks are the characters etc."
   ]
  },
  {
   "cell_type": "code",
   "execution_count": 4,
   "metadata": {},
   "outputs": [],
   "source": [
    "class MyCustomDeck:\n",
    "    \n",
    "    def __init__():\n",
    "        pass"
   ]
  },
  {
   "cell_type": "markdown",
   "metadata": {},
   "source": [
    "<img src=images/avatar.png align=right width=400px style=padding-left:20px>\n",
    "\n",
    "If you don't have a deck of cards you are dying to make, you can use the **Avatar: The Last Air Bender** example.\n",
    "\n",
    "Let's make a deck of cards with the following suits:\n",
    "- `Water`, `Air`, `Fire`, `Earth`\n",
    "\n",
    "And the following ranks:\n",
    "- `2`, `3`, `4`, `5`, `6`, `7`, `8`, `9`, `Toph`, `Sokka`, `Katara`, `Zuko`, `Aang`"
   ]
  },
  {
   "cell_type": "markdown",
   "metadata": {},
   "source": [
    "**Answers**: Uncomment and run the following to see a solution for the Avatar deck"
   ]
  },
  {
   "cell_type": "code",
   "execution_count": 5,
   "metadata": {},
   "outputs": [
    {
     "data": {
      "text/plain": [
       "[Card(rank='2', suit='Water'),\n",
       " Card(rank='3', suit='Water'),\n",
       " Card(rank='4', suit='Water'),\n",
       " Card(rank='5', suit='Water'),\n",
       " Card(rank='6', suit='Water'),\n",
       " Card(rank='7', suit='Water'),\n",
       " Card(rank='8', suit='Water'),\n",
       " Card(rank='9', suit='Water'),\n",
       " Card(rank='Toph', suit='Water'),\n",
       " Card(rank='Sokka', suit='Water'),\n",
       " Card(rank='Katara', suit='Water'),\n",
       " Card(rank='Zuko', suit='Water'),\n",
       " Card(rank='Aang', suit='Water'),\n",
       " Card(rank='2', suit='Air'),\n",
       " Card(rank='3', suit='Air'),\n",
       " Card(rank='4', suit='Air'),\n",
       " Card(rank='5', suit='Air'),\n",
       " Card(rank='6', suit='Air'),\n",
       " Card(rank='7', suit='Air'),\n",
       " Card(rank='8', suit='Air'),\n",
       " Card(rank='9', suit='Air'),\n",
       " Card(rank='Toph', suit='Air'),\n",
       " Card(rank='Sokka', suit='Air'),\n",
       " Card(rank='Katara', suit='Air'),\n",
       " Card(rank='Zuko', suit='Air'),\n",
       " Card(rank='Aang', suit='Air'),\n",
       " Card(rank='2', suit='Fire'),\n",
       " Card(rank='3', suit='Fire'),\n",
       " Card(rank='4', suit='Fire'),\n",
       " Card(rank='5', suit='Fire'),\n",
       " Card(rank='6', suit='Fire'),\n",
       " Card(rank='7', suit='Fire'),\n",
       " Card(rank='8', suit='Fire'),\n",
       " Card(rank='9', suit='Fire'),\n",
       " Card(rank='Toph', suit='Fire'),\n",
       " Card(rank='Sokka', suit='Fire'),\n",
       " Card(rank='Katara', suit='Fire'),\n",
       " Card(rank='Zuko', suit='Fire'),\n",
       " Card(rank='Aang', suit='Fire'),\n",
       " Card(rank='2', suit='Earth'),\n",
       " Card(rank='3', suit='Earth'),\n",
       " Card(rank='4', suit='Earth'),\n",
       " Card(rank='5', suit='Earth'),\n",
       " Card(rank='6', suit='Earth'),\n",
       " Card(rank='7', suit='Earth'),\n",
       " Card(rank='8', suit='Earth'),\n",
       " Card(rank='9', suit='Earth'),\n",
       " Card(rank='Toph', suit='Earth'),\n",
       " Card(rank='Sokka', suit='Earth'),\n",
       " Card(rank='Katara', suit='Earth'),\n",
       " Card(rank='Zuko', suit='Earth'),\n",
       " Card(rank='Aang', suit='Earth')]"
      ]
     },
     "execution_count": 5,
     "metadata": {},
     "output_type": "execute_result"
    }
   ],
   "source": [
    "# %load answers/ex-themed-card-set.py\n",
    "class AvatarDeck(Deck):\n",
    "    ranks = list('23456789') + ['Toph', 'Sokka', 'Katara', 'Zuko', 'Aang']\n",
    "    suits = ['Water', 'Air', 'Fire', 'Earth']\n",
    "    \n",
    "avatar_deck = AvatarDeck()\n",
    "avatar_deck.cards\n"
   ]
  },
  {
   "cell_type": "markdown",
   "metadata": {},
   "source": [
    "<img src=images/conclusion.png align=right>\n",
    "<a id=conclusion></a>\n",
    "\n",
    "# Conclusion\n",
    "\n",
    "Now you can see how importance inheritance is, which is how Python itself works. Everything in Python inherits from the type `object`."
   ]
  }
 ],
 "metadata": {
  "kernelspec": {
   "display_name": "Python 3",
   "language": "python",
   "name": "python3"
  },
  "language_info": {
   "codemirror_mode": {
    "name": "ipython",
    "version": 3
   },
   "file_extension": ".py",
   "mimetype": "text/x-python",
   "name": "python",
   "nbconvert_exporter": "python",
   "pygments_lexer": "ipython3",
   "version": "3.12.1"
  }
 },
 "nbformat": 4,
 "nbformat_minor": 4
}
