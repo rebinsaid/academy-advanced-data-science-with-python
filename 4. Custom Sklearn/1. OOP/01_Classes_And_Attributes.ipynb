{
 "cells": [
  {
   "cell_type": "markdown",
   "metadata": {},
   "source": [
    "<img src='images/gdd-logo.png' width='300px' align='right' style=\"padding: 15px\">\n",
    "\n",
    "# Object Oriented Programming\n",
    "<br>\n",
    "\n",
    "> <font size=3>***\"Everything in Python is an object.\"***</font>  \n",
    "\n",
    "Hearing that phrase is very common, but understanding it - really understanding it - is something else. \n",
    "\n",
    "In this notebook, you will work with objects and classes to understand object-oriented programming and how that applies in the Python data model.\n",
    "\n",
    "**Agenda**\n",
    "\n",
    "- [Introduction to OOP](#intro)\n",
    "    - [What is OOP?](#oop)\n",
    "    - [The learning investment](#invest)\n",
    "    - [Acknowledgements](#ack)\n",
    "\n",
    "- [Building a `Deck` of cards](#deck)\n",
    "    - [Classes, attributes and methods](#cam)\n",
    "    - [<mark>Exercise - Attributes and Methods</mark>](#ex-am)\n",
    "    - [Making a simple list of cards](#list)\n",
    "- [Creating the class for `Deck`](#class)\n",
    "    - [The `__init__` method](#init)\n",
    "    - [Adding attributes](#atts)\n",
    "       \n",
    "- [Class Methods](#methods)\n",
    "    - [Add the deal method](#deal)\n",
    "    - [<mark>Exercise - Count the cards</mark>](#ex-count)\n",
    "\n",
    "- [Conclusion](#conclusion)"
   ]
  },
  {
   "cell_type": "markdown",
   "metadata": {},
   "source": [
    "---\n",
    "<a id='intro'></a>\n",
    "## Introduction to Object Oriented Programming\n",
    "\n",
    "> <font size=3>***\"Everything in Python is an object.\"***</font>  \n",
    "\n",
    "This tutorial will **add sense and understanding to this phrase** by introducing Object Oriented Programming (OOP) in Python to understand **the Python data model**. \n",
    "\n",
    "<a id='oop'></a>\n",
    "### What is OOP?\n",
    "\n",
    "Object-oriented programming (OOP) is a style of programming characterized by:\n",
    "- The identification of **classes of objects**\n",
    "    - which share common characteristics (*attributes*)\n",
    "    - and can do similar things (*methods*)\n",
    "- The idea that **attributes and methods** can be taken from **other classes**\n",
    "\n",
    "Python supports all the basic features of an OOP language with this paradigm having some benefits:\n",
    "1. Code can be modularized\n",
    "2. Increasing understandablity and scalability,\n",
    "2. which makes collaboration easier,  \n",
    "3. and leads to better software maintainability. \n",
    "\n",
    "\n",
    "<a id='invest'></a>\n",
    "### The learning investment\n",
    "\n",
    "Learning this programming paradigm provides two benefits:\n",
    "- Understanding the Python data model to improve your understanding of Python and work more effectively with code\n",
    "- Being able to extend the Python language following consistent programming principles\n",
    "\n",
    "> **Note**: This is not a recommendation to only use OOP going forward, but a deep dive into the Python programming language to better understand its implementation. Whether you choose to use this (or not) as a way of working going forward is up to you.\n",
    "\n",
    "\n",
    "<a id='ack'></a>\n",
    "### Acknowledgements\n",
    "The example is inspired on the card deck in the excellent book:\n",
    "\n",
    "> *Fluent Python (second edition) by Luciano Ramalho (O'Reilly). Copyright 2022 Luciano Ramalho*"
   ]
  },
  {
   "cell_type": "markdown",
   "metadata": {},
   "source": [
    "---\n",
    "<a id='deck'></a>\n",
    "# Building a Deck of cards\n",
    "\n",
    "In this tutorial you will implement a class called `Deck`, which represents a (French) card deck. \n",
    "\n",
    "<img src='images/french-card.jpeg'>"
   ]
  },
  {
   "cell_type": "markdown",
   "metadata": {},
   "source": [
    "<a id='cam'></a>\n",
    "### Classes, Attributes and Methods\n",
    "\n",
    "OOP uses the concept of objects and classes. A class can be thought of as a 'blueprint' for objects. \n",
    "\n",
    "Each class can have their own:\n",
    "\n",
    "- **Attributes:** Characteristics they possess \n",
    "- **Methods:** Actions they perform"
   ]
  },
  {
   "cell_type": "markdown",
   "metadata": {},
   "source": [
    "<a id='ex-am'></a>\n",
    "### <mark>Exercise - Attributes and Methods</mark>\n",
    "\n",
    "Discuss with another participant the attributes and methods you would have with a deck of cards - fill in the below with 2-3 of each.\n",
    "\n",
    "1. What attributes does a deck of cards have?"
   ]
  },
  {
   "cell_type": "raw",
   "metadata": {
    "vscode": {
     "languageId": "raw"
    }
   },
   "source": [
    "1. color\n",
    "2. number\n",
    "3. suit\n",
    "..."
   ]
  },
  {
   "cell_type": "markdown",
   "metadata": {},
   "source": [
    "2. What methods (actions) can you perform on a deck of cards?"
   ]
  },
  {
   "cell_type": "raw",
   "metadata": {
    "vscode": {
     "languageId": "raw"
    }
   },
   "source": [
    "1. shuffle\n",
    "2. sort\n",
    "3. delete\n",
    "..."
   ]
  },
  {
   "cell_type": "markdown",
   "metadata": {},
   "source": [
    "<a id='list'></a>\n",
    "## Making a simple list of cards"
   ]
  },
  {
   "cell_type": "markdown",
   "metadata": {},
   "source": [
    "## Making one card\n",
    "\n",
    "First let's make just one card using [collections.namedtuple](https://realpython.com/python-namedtuple/) called `Card`.\n",
    "\n",
    "> `collections.namedtuple` is specially designed to make your code more Pythonic when working with tuples. With `namedtuple()`, you can create a python variable in which you can access values using a specified field names and the dot notation. "
   ]
  },
  {
   "cell_type": "code",
   "execution_count": 1,
   "metadata": {},
   "outputs": [],
   "source": [
    "import collections\n",
    "\n",
    "Card = collections.namedtuple('Card', ['rank', 'suit'])\n",
    "        \n",
    "card_example = Card('A','♠')"
   ]
  },
  {
   "cell_type": "markdown",
   "metadata": {},
   "source": [
    "`Card` is now a Python variable with both a `rank` and a `suit` which can be usef to return the assigned value:"
   ]
  },
  {
   "cell_type": "code",
   "execution_count": 2,
   "metadata": {},
   "outputs": [
    {
     "name": "stdout",
     "output_type": "stream",
     "text": [
      "Card(rank='A', suit='♠')\n",
      "This card has rank: A\n",
      "This card has suit: ♠\n"
     ]
    }
   ],
   "source": [
    "print(card_example)\n",
    "\n",
    "print(f'This card has rank: {card_example.rank}')\n",
    "print(f'This card has suit: {card_example.suit}')"
   ]
  },
  {
   "cell_type": "markdown",
   "metadata": {},
   "source": [
    "## Making all 52 cards\n",
    "\n",
    "Now let's think about how you would make a deck of cards.\n",
    "\n",
    "In a deck, there are four suits `♠♥♦♣` and 13 ranks `A23456789TJQK`, in total that makes 52 card (4 suits $\\times$ 13 ranks) in one deck.\n",
    "\n",
    "To make the full deck, a list comprehension can be used with two for-loops to get all 52 (4 $\\times$ 13) cards:"
   ]
  },
  {
   "cell_type": "code",
   "execution_count": 3,
   "metadata": {},
   "outputs": [
    {
     "name": "stdout",
     "output_type": "stream",
     "text": [
      "[Card(rank='A', suit='♠'), Card(rank='2', suit='♠'), Card(rank='3', suit='♠'), Card(rank='4', suit='♠'), Card(rank='5', suit='♠'), Card(rank='6', suit='♠'), Card(rank='7', suit='♠'), Card(rank='8', suit='♠'), Card(rank='9', suit='♠'), Card(rank='T', suit='♠'), Card(rank='J', suit='♠'), Card(rank='Q', suit='♠'), Card(rank='K', suit='♠'), Card(rank='A', suit='♥'), Card(rank='2', suit='♥'), Card(rank='3', suit='♥'), Card(rank='4', suit='♥'), Card(rank='5', suit='♥'), Card(rank='6', suit='♥'), Card(rank='7', suit='♥'), Card(rank='8', suit='♥'), Card(rank='9', suit='♥'), Card(rank='T', suit='♥'), Card(rank='J', suit='♥'), Card(rank='Q', suit='♥'), Card(rank='K', suit='♥'), Card(rank='A', suit='♦'), Card(rank='2', suit='♦'), Card(rank='3', suit='♦'), Card(rank='4', suit='♦'), Card(rank='5', suit='♦'), Card(rank='6', suit='♦'), Card(rank='7', suit='♦'), Card(rank='8', suit='♦'), Card(rank='9', suit='♦'), Card(rank='T', suit='♦'), Card(rank='J', suit='♦'), Card(rank='Q', suit='♦'), Card(rank='K', suit='♦'), Card(rank='A', suit='♣'), Card(rank='2', suit='♣'), Card(rank='3', suit='♣'), Card(rank='4', suit='♣'), Card(rank='5', suit='♣'), Card(rank='6', suit='♣'), Card(rank='7', suit='♣'), Card(rank='8', suit='♣'), Card(rank='9', suit='♣'), Card(rank='T', suit='♣'), Card(rank='J', suit='♣'), Card(rank='Q', suit='♣'), Card(rank='K', suit='♣')]\n"
     ]
    }
   ],
   "source": [
    "ranks_example = 'A23456789TJQK'\n",
    "suits_example = '♠♥♦♣'\n",
    "\n",
    "# list comprehension to get each card as a tuple\n",
    "cards_example = [Card(rank, suit)\n",
    "                for suit in suits_example\n",
    "                for rank in ranks_example\n",
    "                ]\n",
    "\n",
    "print(cards_example)"
   ]
  },
  {
   "cell_type": "markdown",
   "metadata": {},
   "source": [
    "`cards_example` is now a Python variable containing all cards, representing a standard French deck.\n",
    "\n",
    "However, can this list simulate all the typical properties we tend to associate with a deck of cards?\n",
    "- deal a card\n",
    "- count the cards left in the deck\n",
    "- split the deck\n",
    "- draw a hand\n",
    "- shuffle the deck\n",
    "- etc."
   ]
  },
  {
   "cell_type": "markdown",
   "metadata": {},
   "source": [
    "---\n",
    "<a id='class'></a>\n",
    "## Creating the class for `Deck`\n",
    "\n",
    "Now that you know how to create a simple list of cards, you are going to convert this into a class so that it can support new programming paradigms that only apply to a deck of cards."
   ]
  },
  {
   "cell_type": "markdown",
   "metadata": {},
   "source": [
    "<a id='init'></a>\n",
    "### The `__init__` method\n",
    "\n",
    "Below you have an empty class with no methods (except the `__init__` method). "
   ]
  },
  {
   "cell_type": "code",
   "execution_count": 4,
   "metadata": {},
   "outputs": [],
   "source": [
    "class Deck:\n",
    "\n",
    "    def __init__(self):\n",
    "        pass"
   ]
  },
  {
   "cell_type": "markdown",
   "metadata": {},
   "source": [
    "Note that the `__init__` method looks just like function, however the indentation binds it to the class `Deck` making it a *method* bound to the class."
   ]
  },
  {
   "cell_type": "markdown",
   "metadata": {},
   "source": [
    "`__init__` is a special reserved method in python classes. It is called a **constructor** in object-oriented terminology. This method is called when an object is created from a class and it allows the class to initialize the attributes of the class.\n",
    "\n",
    "The `self` variable represents the instance of the object itself. Most object-oriented languages pass this as a hidden parameter to the methods defined on an object - Python does not. You have to declare it explicitly, but you do not declare it when you instantiate the object `Deck()`.\n",
    "\n",
    "The name `self` is a convention (and highly recommended) and can take other names, but it **has to be the first parameter of any method in the class**."
   ]
  },
  {
   "cell_type": "markdown",
   "metadata": {},
   "source": [
    "## Instantiating the class\n",
    "\n",
    "Right now, `Deck` is a class, meaning it's a blueprint for how a deck of cards should look. "
   ]
  },
  {
   "cell_type": "code",
   "execution_count": 5,
   "metadata": {},
   "outputs": [
    {
     "data": {
      "text/plain": [
       "type"
      ]
     },
     "execution_count": 5,
     "metadata": {},
     "output_type": "execute_result"
    }
   ],
   "source": [
    "type(Deck)"
   ]
  },
  {
   "cell_type": "markdown",
   "metadata": {},
   "source": [
    "The next step is to instantiate the class and save it as a Python variable. This will ensure you can perform methods (which you will add further down in this notebook)."
   ]
  },
  {
   "cell_type": "code",
   "execution_count": 6,
   "metadata": {},
   "outputs": [
    {
     "data": {
      "text/plain": [
       "__main__.Deck"
      ]
     },
     "execution_count": 6,
     "metadata": {},
     "output_type": "execute_result"
    }
   ],
   "source": [
    "deck = Deck()\n",
    "type(deck)"
   ]
  },
  {
   "cell_type": "markdown",
   "metadata": {},
   "source": [
    "---\n",
    "<a id='atts'></a>\n",
    "## Class attributes\n",
    "Let's think about the attributes\n",
    "\n",
    "- `ranks`\n",
    "- `suits`\n",
    "- `cards`\n",
    "\n",
    "Since `cards` is generated from the ranks and suits, you can initialize cards in the `__init__` method. This will also allow you to scale this class later say if you want to switch up the kind of deck we are using."
   ]
  },
  {
   "cell_type": "code",
   "execution_count": 7,
   "metadata": {},
   "outputs": [],
   "source": [
    "import collections\n",
    "\n",
    "Card = collections.namedtuple('Card', ['rank', 'suit'])\n",
    "\n",
    "class Deck:\n",
    "    ranks = 'A23456789TJQK'\n",
    "    suits = '♠♥♦♣'\n",
    "    \n",
    "    def __init__(self):\n",
    "        self.cards = [\n",
    "            Card(rank, suit)\n",
    "            for suit in self.suits\n",
    "            for rank in self.ranks\n",
    "        ]"
   ]
  },
  {
   "cell_type": "markdown",
   "metadata": {},
   "source": [
    "Now that the blueprint for the deck is in Python, you can use this to instantiate it as `deck`. "
   ]
  },
  {
   "cell_type": "code",
   "execution_count": 8,
   "metadata": {},
   "outputs": [],
   "source": [
    "deck = Deck()"
   ]
  },
  {
   "cell_type": "markdown",
   "metadata": {},
   "source": [
    "Now you can access the attributes from `deck` using dot accessor."
   ]
  },
  {
   "cell_type": "code",
   "execution_count": 9,
   "metadata": {},
   "outputs": [
    {
     "data": {
      "text/plain": [
       "'A23456789TJQK'"
      ]
     },
     "execution_count": 9,
     "metadata": {},
     "output_type": "execute_result"
    }
   ],
   "source": [
    "deck.ranks"
   ]
  },
  {
   "cell_type": "markdown",
   "metadata": {},
   "source": [
    "Note that while you have the attributes `deck.ranks`, `deck.suits` and `deck.cards` which are strings and a list, you actually have created a new type of object."
   ]
  },
  {
   "cell_type": "markdown",
   "metadata": {},
   "source": [
    "---\n",
    "<a id='methods'></a>\n",
    "## Class methods"
   ]
  },
  {
   "cell_type": "markdown",
   "metadata": {},
   "source": [
    "Alright! You now have a `Deck` class with attributes that when initialized, creates a new pack of cards. Now let's add some methods!\n",
    "\n",
    "<a id=deal></a>\n",
    "\n",
    "### Add the method `deck.deal()`\n",
    "\n",
    "Add a method to deal one card from the `Deck`. \n",
    "\n",
    "To do this, you need a method that returns the last item from the list of cards, as well as removing that card from the original deck. The `pop` method will do this for any list:"
   ]
  },
  {
   "cell_type": "code",
   "execution_count": 20,
   "metadata": {},
   "outputs": [
    {
     "data": {
      "text/plain": [
       "[1, 2, 3]"
      ]
     },
     "execution_count": 20,
     "metadata": {},
     "output_type": "execute_result"
    }
   ],
   "source": [
    "a_list = [1, 2, 3, 4]\n",
    "a_list.pop()\n",
    "a_list"
   ]
  },
  {
   "cell_type": "markdown",
   "metadata": {},
   "source": [
    "Above you see the last item of the list, let's check the original list"
   ]
  },
  {
   "cell_type": "code",
   "execution_count": 21,
   "metadata": {},
   "outputs": [
    {
     "data": {
      "text/plain": [
       "[1, 2, 3]"
      ]
     },
     "execution_count": 21,
     "metadata": {},
     "output_type": "execute_result"
    }
   ],
   "source": [
    "a_list"
   ]
  },
  {
   "cell_type": "markdown",
   "metadata": {},
   "source": [
    "This is exactly the functionality you want in your deck! Let's add it into the class."
   ]
  },
  {
   "cell_type": "code",
   "execution_count": 12,
   "metadata": {},
   "outputs": [],
   "source": [
    "class Deck:\n",
    "    ranks = '23456789TJQKA'\n",
    "    suits = '♠♥♦♣'\n",
    "    \n",
    "    def __init__(self):\n",
    "        self.cards = [\n",
    "            Card(rank, suit)\n",
    "            for suit in self.suits\n",
    "            for rank in self.ranks\n",
    "        ]\n",
    "    \n",
    "    def deal(self):\n",
    "        return self.cards.pop()\n",
    "\n",
    "deck = Deck()"
   ]
  },
  {
   "cell_type": "markdown",
   "metadata": {},
   "source": [
    "The cell above has also instantiated the deck as variable `deck`, which can be used to call the method `deal`"
   ]
  },
  {
   "cell_type": "code",
   "execution_count": 22,
   "metadata": {
    "scrolled": true
   },
   "outputs": [
    {
     "data": {
      "text/plain": [
       "(Card(rank='A', suit='♣'), 51)"
      ]
     },
     "execution_count": 22,
     "metadata": {},
     "output_type": "execute_result"
    }
   ],
   "source": [
    "deck.deal(), len(deck.cards)"
   ]
  },
  {
   "cell_type": "markdown",
   "metadata": {},
   "source": [
    "Notice the difference between *methods of a class* like `deck.deal()` and *attributes of a class* like `deck.ranks`. "
   ]
  },
  {
   "cell_type": "code",
   "execution_count": 14,
   "metadata": {},
   "outputs": [
    {
     "data": {
      "text/plain": [
       "('23456789TJQKA', '♠♥♦♣')"
      ]
     },
     "execution_count": 14,
     "metadata": {},
     "output_type": "execute_result"
    }
   ],
   "source": [
    "deck.ranks, deck.suits"
   ]
  },
  {
   "cell_type": "markdown",
   "metadata": {},
   "source": [
    "Let's repeat this to play more cards!"
   ]
  },
  {
   "cell_type": "code",
   "execution_count": 15,
   "metadata": {},
   "outputs": [
    {
     "name": "stdout",
     "output_type": "stream",
     "text": [
      "Card(rank='K', suit='♣')\n",
      "Card(rank='Q', suit='♣')\n",
      "Card(rank='J', suit='♣')\n",
      "Card(rank='T', suit='♣')\n",
      "Card(rank='9', suit='♣')\n",
      "Card(rank='8', suit='♣')\n",
      "Card(rank='7', suit='♣')\n",
      "Card(rank='6', suit='♣')\n",
      "Card(rank='5', suit='♣')\n",
      "Card(rank='4', suit='♣')\n",
      "41 cards are left in the deck\n"
     ]
    }
   ],
   "source": [
    "for x in range(10):\n",
    "    print(deck.deal())\n",
    "\n",
    "print(f'{len(deck.cards)} cards are left in the deck')"
   ]
  },
  {
   "cell_type": "markdown",
   "metadata": {},
   "source": [
    "**Note on the use of parentheses `()`** \n",
    "\n",
    "Can you think of any objects where you are already using this kind of syntax?\n",
    "<br><br>\n",
    "<details>\n",
    "    <summary><span style=\"color:blue\">Show answer</span></summary>\n",
    "\n",
    "One example are Dataframes in Pandas: `df.shape` is an *attribute* while `df.describe()` is a *method*.\n",
    "\n",
    "</details>"
   ]
  },
  {
   "cell_type": "markdown",
   "metadata": {},
   "source": [
    "<a id='ex-count'></a>\n",
    "### <mark>Exercise:</mark> Add methods!\n",
    "\n",
    "Over to you to add some more methods! \n",
    "\n",
    "1. Implement a **method** to get the number of cards in the deck."
   ]
  },
  {
   "cell_type": "code",
   "execution_count": null,
   "metadata": {},
   "outputs": [
    {
     "data": {
      "text/plain": [
       "True"
      ]
     },
     "execution_count": 31,
     "metadata": {},
     "output_type": "execute_result"
    }
   ],
   "source": [
    "class Deck:\n",
    "    ranks = '23456789TJQKA'\n",
    "    suits = '♠♥♦♣'\n",
    "    \n",
    "    def __init__(self):\n",
    "        dealt_cards = []\n",
    "        self.cards = [\n",
    "            Card(rank, suit)\n",
    "            for suit in self.suits\n",
    "            for rank in self.ranks\n",
    "        ]\n",
    "    \n",
    "    def deal(self):\n",
    "        return self.cards.pop()\n",
    "    \n",
    "    ## Add new methods here:\n",
    "    def size(self):\n",
    "        return len(self.cards)\n",
    "    \n",
    "    def isAce(self):\n",
    "        return\n",
    "    \n",
    "    def top_card_is_ace(self):\n",
    "        return self.cards[-1].rank == 'A'\n",
    "\n",
    "deck = Deck()\n",
    "deck.size()\n",
    "deck.top_card_is_ace()"
   ]
  },
  {
   "cell_type": "markdown",
   "metadata": {},
   "source": [
    "2. Implement a **method** that checks whether the next card is an Ace (e.g., you want to take a sneak peek at the next card).\n",
    "\n",
    "    *Warning: Make sure you don't have any side effects (e.g., peaking should not remove the card from the deck)!*"
   ]
  },
  {
   "cell_type": "code",
   "execution_count": null,
   "metadata": {},
   "outputs": [],
   "source": []
  },
  {
   "cell_type": "markdown",
   "metadata": {},
   "source": [
    "3. Add an **attribute** called `dealt_cards`. This attribute should initialize as an empty list when the class is instantiated and update by adding the card that was removed each time `deal` is called."
   ]
  },
  {
   "cell_type": "code",
   "execution_count": null,
   "metadata": {},
   "outputs": [],
   "source": []
  },
  {
   "cell_type": "markdown",
   "metadata": {},
   "source": [
    "**Answers**: Uncomment and run the following to see solutions"
   ]
  },
  {
   "cell_type": "code",
   "execution_count": 26,
   "metadata": {},
   "outputs": [],
   "source": [
    "# %load answers/ex-methods-1.py\n",
    "class Deck:\n",
    "    ranks = '23456789TJQKA'\n",
    "    suits = '♠♥♦♣'\n",
    "    \n",
    "    def __init__(self):\n",
    "        self.cards = [\n",
    "            Card(rank, suit)\n",
    "            for suit in self.suits\n",
    "            for rank in self.ranks\n",
    "        ]\n",
    "            \n",
    "    def deal(self):\n",
    "        return self.cards.pop()\n",
    "    \n",
    "    def size(self):\n",
    "        return len(self.cards)\n",
    "    \n",
    "deck = Deck()\n",
    "deck.size()"
   ]
  },
  {
   "cell_type": "code",
   "execution_count": 28,
   "metadata": {},
   "outputs": [],
   "source": [
    "# %load answers/ex-methods-2.py\n",
    "class Deck:\n",
    "    ranks = '23456789TJQKA'\n",
    "    suits = '♠♥♦♣'\n",
    "    \n",
    "    def __init__(self):\n",
    "        self.cards = [\n",
    "            Card(rank, suit)\n",
    "            for suit in self.suits\n",
    "            for rank in self.ranks\n",
    "        ]\n",
    "            \n",
    "    def deal(self):\n",
    "        return self.cards.pop()\n",
    "    \n",
    "    def size(self):\n",
    "        return len(self.cards)\n",
    "    \n",
    "    def top_card_is_ace(self):\n",
    "        return self.cards[-1].rank == 'A'\n",
    "\n",
    "deck = Deck()\n",
    "deck.top_card_is_ace()"
   ]
  },
  {
   "cell_type": "code",
   "execution_count": 32,
   "metadata": {},
   "outputs": [],
   "source": [
    "# %load answers/ex-methods-3.py\n",
    "class Deck:\n",
    "    ranks = '23456789TJQKA'\n",
    "    suits = '♠♥♦♣'\n",
    "    \n",
    "    def __init__(self):\n",
    "        self.cards = [\n",
    "            Card(rank, suit)\n",
    "            for suit in self.suits\n",
    "            for rank in self.ranks\n",
    "        ]\n",
    "        self.dealt_cards = []\n",
    "    \n",
    "    def deal(self):\n",
    "        dealt_card = self.cards.pop()\n",
    "        self.dealt_cards.append(dealt_card)\n",
    "        return dealt_card\n",
    "    \n",
    "    def size(self):\n",
    "        return len(self.cards)\n",
    "    \n",
    "    def top_card_is_ace(self):\n",
    "        return self.cards[-1].rank == 'A'\n",
    "    \n",
    "deck = Deck()\n",
    "deck.deal()\n",
    "deck.dealt_cards"
   ]
  },
  {
   "cell_type": "markdown",
   "metadata": {},
   "source": [
    "Nice, you have written your own methods!"
   ]
  },
  {
   "cell_type": "markdown",
   "metadata": {},
   "source": [
    "---\n",
    "\n",
    "<img src=images/conclusion.png align=right>\n",
    "<a id=conclusion></a>\n",
    "\n",
    "# Conclusion\n",
    "\n",
    "In this tutorial you have written class definitions that act as blueprints for the creation of custom objects. \n",
    "\n",
    "***Everything in Python is an object***\n",
    "\n",
    "Now that you know these fundamental building blocks, you can better understand how objects in Python are implemented. \n",
    "\n",
    "In particular, this notebook has covered:\n",
    "\n",
    "- What is object-oriented programming (OOP) in Python and the benefits of learning this language feature.\n",
    "- Building a class and instantiating objects by working with a deck of cards.\n",
    "- Adding attributes and methods\n",
    "- Understanding the difference between class and instance variables"
   ]
  }
 ],
 "metadata": {
  "kernelspec": {
   "display_name": "Python 3",
   "language": "python",
   "name": "python3"
  },
  "language_info": {
   "codemirror_mode": {
    "name": "ipython",
    "version": 3
   },
   "file_extension": ".py",
   "mimetype": "text/x-python",
   "name": "python",
   "nbconvert_exporter": "python",
   "pygments_lexer": "ipython3",
   "version": "3.12.1"
  }
 },
 "nbformat": 4,
 "nbformat_minor": 4
}
