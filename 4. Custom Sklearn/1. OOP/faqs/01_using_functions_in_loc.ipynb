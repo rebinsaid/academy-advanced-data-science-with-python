{
 "cells": [
  {
   "cell_type": "markdown",
   "metadata": {},
   "source": [
    "<img src='images/python.png' width='300px' align=left>\n",
    "<img src='images/gdd-logo.png' width='200px' align='right' style=\"padding: 15px\">"
   ]
  },
  {
   "cell_type": "markdown",
   "metadata": {},
   "source": [
    "# Why should I use `try/finally` when writing a context manager that sets up a SQL connection (in a functional way)?"
   ]
  },
  {
   "cell_type": "markdown",
   "metadata": {},
   "source": [
    "### Getting familiar with `try`, `except` and `finally`"
   ]
  },
  {
   "cell_type": "markdown",
   "metadata": {},
   "source": [
    "If you are already familiar, feel free to skip to [Using `try` and `finally` in a context manager for a SQL connection](#sql)"
   ]
  },
  {
   "cell_type": "markdown",
   "metadata": {},
   "source": [
    "In Python, the `try`, `except`, and `finally` blocks are used for exception handling. They allow you to handle and respond to potential errors or exceptions that may occur during the execution of your code.\n",
    "\n",
    "Suppose you have a function that performs division:"
   ]
  },
  {
   "cell_type": "code",
   "execution_count": null,
   "metadata": {},
   "outputs": [],
   "source": [
    "def divide_numbers(a, b):\n",
    "    result = None\n",
    "    try:\n",
    "        result = a / b\n",
    "    except ZeroDivisionError:\n",
    "        print(\"Error: Cannot divide by zero!\")\n",
    "    finally:\n",
    "        print(\"Division operation completed.\")\n",
    "    return result"
   ]
  },
  {
   "cell_type": "markdown",
   "metadata": {},
   "source": [
    "In this example, we have the following components:\n",
    "\n",
    "- `try` block: This block contains the code that may potentially raise an exception. In our case, the division operation `a / b` could result in a `ZeroDivisionError` if `b` is zero.\n",
    "\n",
    "- `except` block: This block is executed if an exception occurs within the corresponding `try` block. Here, we catch the `ZeroDivisionError` specifically and print an error message.\n",
    "\n",
    "- `finally` block: This block is always executed, regardless of whether an exception occurred or not. It provides a cleanup mechanism and is useful for releasing resources or performing any necessary finalization steps. In our example, we simply print a message indicating the completion of the division operation.\n",
    "\n",
    "Let's try this out with two different sets of numbers:"
   ]
  },
  {
   "cell_type": "code",
   "execution_count": null,
   "metadata": {},
   "outputs": [],
   "source": [
    "print(divide_numbers(6, 3))  "
   ]
  },
  {
   "cell_type": "markdown",
   "metadata": {},
   "source": [
    "The division operation succeeds (`6 / 3`), and the result is returned as `2.0`. The `finally` block is executed, printing the completion message."
   ]
  },
  {
   "cell_type": "code",
   "execution_count": null,
   "metadata": {},
   "outputs": [],
   "source": [
    "print(divide_numbers(4, 0))  "
   ]
  },
  {
   "cell_type": "markdown",
   "metadata": {},
   "source": [
    "Here a `ZeroDivisionError` occurs because we are dividing by zero. The exception is caught by the `except` block, which prints the error message. Again, the `finally` block is executed afterward, ensuring the completion message is printed."
   ]
  },
  {
   "cell_type": "markdown",
   "metadata": {},
   "source": [
    "**The `try` block is where you place the code that might raise an exception, the `except` block is for handling specific exceptions if they occur, and the `finally` block is for code that should always execute, regardless of whether an exception occurred or not.**"
   ]
  },
  {
   "cell_type": "markdown",
   "metadata": {},
   "source": [
    "<a id=sql></a>\n",
    "\n",
    "## Using `try` and `finally` in a context manager for a SQL connection"
   ]
  },
  {
   "cell_type": "markdown",
   "metadata": {},
   "source": [
    "Using a `try/finally` block within your decorated function when writing a context manager that opens and closes a MySQL connection is important for ensuring that the connection is properly closed, even in the case of exceptions or errors occurring within the decorated function.\n",
    "\n",
    "Here's why you should use `try/finally` in this context:\n",
    "\n",
    "1. Exception handling: The `try/finally` block allows you to catch and handle any exceptions that might occur within the decorated function. If an exception occurs, the `finally` block will still be executed, ensuring that the connection is closed properly.\n",
    "\n",
    "2. Resource cleanup: A MySQL connection is a finite resource, and it's important to release it when you're done with it. By using `try/finally`, you guarantee that the connection is closed regardless of whether an exception occurs or not. This prevents potential resource leaks and ensures efficient use of system resources.\n",
    "\n",
    "3. Robustness and reliability: Incorporating `try/finally` in your context manager enhances the reliability and robustness of your code. It provides a consistent and predictable way to handle the MySQL connection, making your code more maintainable and less prone to errors.\n",
    "\n",
    "Here's an example of how you could use `try/finally` in a context manager decorator that opens and closes a MySQL connection:\n",
    "\n",
    "```python\n",
    "from contextlib import contextmanager\n",
    "\n",
    "@contextmanager\n",
    "def mysql_connection():\n",
    "    connection = None\n",
    "    try:\n",
    "        # Open the connection\n",
    "        con = pymysql.connect() # Fill with your connection details\n",
    "        cur = con.cursor()\n",
    "        yield cur\n",
    "    finally:\n",
    "        # Ensure the connection is always closed\n",
    "        if con:\n",
    "            con.close()\n",
    "```\n",
    "\n",
    "In the example above, the `try` block is responsible for opening the MySQL connection, and the `yield` statement allows the decorated function to use the connection within a context. The `finally` block ensures that the connection is closed even if an exception occurs or when the decorated function finishes its execution.\n",
    "\n",
    "By using this approach, you can safely manage the lifecycle of the MySQL connection, allowing your code to be more resilient and resource-efficient."
   ]
  }
 ],
 "metadata": {
  "kernelspec": {
   "display_name": "Python 3 (ipykernel)",
   "language": "python",
   "name": "python3"
  },
  "language_info": {
   "codemirror_mode": {
    "name": "ipython",
    "version": 3
   },
   "file_extension": ".py",
   "mimetype": "text/x-python",
   "name": "python",
   "nbconvert_exporter": "python",
   "pygments_lexer": "ipython3",
   "version": "3.9.13"
  }
 },
 "nbformat": 4,
 "nbformat_minor": 4
}
