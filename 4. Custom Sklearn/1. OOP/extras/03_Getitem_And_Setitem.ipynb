{
 "cells": [
  {
   "cell_type": "markdown",
   "metadata": {},
   "source": [
    "<img src='../images/cards.png' width='150px' align='right' style=\"padding: 15px\">\n",
    "\n",
    "# A closer look at `__getitem__` and `__setitem__`\n",
    "\n",
    "\n",
    "The __getitem__ and __setitem__ dunder methods are really powerful. \n",
    "\n",
    "This notebook shows how it allows to iterate and index class objects.\n",
    "\n",
    "---\n",
    "\n",
    "- [Using `__getitem__`](#getitem)\n",
    "    - [Iterate over the deck](#iterate)\n",
    "    - [Other standard functions](#other)\n",
    "    - [Alternative to check if card in deck](#contains)\n",
    "    \n",
    "---\n",
    "    \n",
    "- [Using `__setitem__`](#setitem)\n",
    "    - [Overwriting card values](#overwriting)\n",
    "    - [Shuffling the deck](#shuffling)\n",
    "    \n",
    "---"
   ]
  },
  {
   "cell_type": "markdown",
   "metadata": {},
   "source": [
    "---\n",
    "\n",
    "<a id=getitem></a>\n",
    "\n",
    "## Using `__getitem__`\n",
    "\n",
    "Let's recreate the deck class but this we shall add the dunder method `__getitem__`. "
   ]
  },
  {
   "cell_type": "code",
   "execution_count": null,
   "metadata": {},
   "outputs": [],
   "source": [
    "import collections\n",
    "\n",
    "Card = collections.namedtuple('Card', ['rank', 'suit'])\n",
    "\n",
    "class Deck:\n",
    "    ranks = '23456789TJQKA'\n",
    "    suits = '♠♥♦♣'\n",
    "    \n",
    "    def __init__(self):\n",
    "        self._cards = [\n",
    "            Card(rank, suit)\n",
    "            for suit in self.suits\n",
    "            for rank in self.ranks\n",
    "        ]\n",
    "        \n",
    "    def __str__(self):\n",
    "        return f'Deck(suits={self.suits}, ranks={self.ranks})'\n",
    "    \n",
    "    def __len__(self):\n",
    "        return len(self._cards)\n",
    "    \n",
    "    def __getitem__(self, idx):\n",
    "        return self._cards[idx]\n",
    "    \n",
    "    def deal(self):\n",
    "        return self._cards.pop()\n",
    "    "
   ]
  },
  {
   "cell_type": "code",
   "execution_count": null,
   "metadata": {},
   "outputs": [],
   "source": [
    "deck = Deck()"
   ]
  },
  {
   "cell_type": "markdown",
   "metadata": {},
   "source": [
    "<a id=iterate></a>\n",
    "\n",
    "### Iterate over the deck\n",
    "\n",
    "The `__getitem__` dunder methods allows us to iterate over our deck:"
   ]
  },
  {
   "cell_type": "code",
   "execution_count": null,
   "metadata": {},
   "outputs": [],
   "source": [
    "for card in deck[:5]:\n",
    "    print(card)"
   ]
  },
  {
   "cell_type": "markdown",
   "metadata": {},
   "source": [
    "The `__getitem__` dunder method delegates the `[]` operator so we can do even more:"
   ]
  },
  {
   "cell_type": "code",
   "execution_count": null,
   "metadata": {},
   "outputs": [],
   "source": [
    "deck = Deck()\n",
    "deck[10]         # select items"
   ]
  },
  {
   "cell_type": "code",
   "execution_count": null,
   "metadata": {},
   "outputs": [],
   "source": [
    "deck[10:20]      # select slices"
   ]
  },
  {
   "cell_type": "code",
   "execution_count": null,
   "metadata": {},
   "outputs": [],
   "source": [
    "deck[3::13]      # with step size"
   ]
  },
  {
   "cell_type": "markdown",
   "metadata": {},
   "source": [
    "<a id=other></a>\n",
    "\n",
    "### Other standard functions\n",
    "\n",
    "It works with other standard funcitons too!"
   ]
  },
  {
   "cell_type": "code",
   "execution_count": null,
   "metadata": {
    "scrolled": true
   },
   "outputs": [],
   "source": [
    "reversed(deck)  # reverse the deck"
   ]
  },
  {
   "cell_type": "code",
   "execution_count": null,
   "metadata": {},
   "outputs": [],
   "source": [
    "from random import choice\n",
    "\n",
    "choice(deck)     # random choice"
   ]
  },
  {
   "cell_type": "markdown",
   "metadata": {},
   "source": [
    "It also allows us to check whether a card is in a deck:"
   ]
  },
  {
   "cell_type": "code",
   "execution_count": null,
   "metadata": {},
   "outputs": [],
   "source": [
    "Card('T', '♥') in deck"
   ]
  },
  {
   "cell_type": "code",
   "execution_count": null,
   "metadata": {},
   "outputs": [],
   "source": [
    "Card('10', '+') in deck"
   ]
  },
  {
   "cell_type": "markdown",
   "metadata": {},
   "source": [
    "<a id=contains></a>\n",
    "\n",
    "### Alternative to check if card in deck\n",
    "\n",
    "Alternatively, we could directly implement the `__contains__` methods to more efficiently verify that the card is in the deck."
   ]
  },
  {
   "cell_type": "code",
   "execution_count": null,
   "metadata": {},
   "outputs": [],
   "source": [
    "class Deck:\n",
    "    ranks = '23456789TJQKA'\n",
    "    suits = '♠♥♦♣'\n",
    "    \n",
    "    def __init__(self):\n",
    "        self._cards = [\n",
    "            Card(rank, suit)\n",
    "            for suit in self.suits\n",
    "            for rank in self.ranks\n",
    "        ]\n",
    "        \n",
    "    def __str__(self):\n",
    "        return f'Deck(suits={self.suits}, ranks={self.ranks})'\n",
    "    \n",
    "    def __len__(self):\n",
    "        return len(self._cards)\n",
    "    \n",
    "#     def __getitem__(self, idx):\n",
    "#         return self._cards[idx]\n",
    "    \n",
    "    def __contains__(self, value):\n",
    "        return value in self._cards\n",
    "    \n",
    "    def show_cards(self):\n",
    "        return self._cards\n",
    "    \n",
    "    def deal(self):\n",
    "        return self._cards.pop()\n",
    "    "
   ]
  },
  {
   "cell_type": "code",
   "execution_count": null,
   "metadata": {},
   "outputs": [],
   "source": [
    "deck = Deck()\n",
    "Card('T', '♥') in deck, Card('10', '+') in deck"
   ]
  },
  {
   "cell_type": "markdown",
   "metadata": {},
   "source": [
    "---\n",
    "\n",
    "<a id=setitem></a>\n",
    "\n",
    "## Using `__setitem__`\n",
    "\n",
    "For the `__setitem__` dunder method, the following syntax is used:\n",
    "```python\n",
    "    def __setitiem__(self, p, e):\n",
    "        s[p] = e\n",
    "```\n",
    "\n",
    "This allows Python to set the value of e in position p, and therefore overwriting exist items. This is the method that gets invoked when `random.shuffle` is used on the object."
   ]
  },
  {
   "cell_type": "code",
   "execution_count": null,
   "metadata": {},
   "outputs": [],
   "source": [
    "class Deck:\n",
    "    ranks = '23456789TJQKA'\n",
    "    suits = '♠♥♦♣'\n",
    "    \n",
    "    def __init__(self):\n",
    "        self._cards = [\n",
    "            Card(rank, suit)\n",
    "            for suit in self.suits\n",
    "            for rank in self.ranks\n",
    "        ]\n",
    "        \n",
    "    def __str__(self):\n",
    "        return f'Deck(suits={self.suits}, ranks={self.ranks})'\n",
    "    \n",
    "    def __len__(self):\n",
    "        return len(self._cards)\n",
    "    \n",
    "    def __getitem__(self, idx):\n",
    "        return self._cards[idx]\n",
    "    \n",
    "    def __contains__(self, value):\n",
    "        return value in self._cards\n",
    "    \n",
    "    def __setitem__(self, key, value):\n",
    "        self._cards[key] = value\n",
    "    \n",
    "    def deal(self):\n",
    "        return self._cards.pop()"
   ]
  },
  {
   "cell_type": "markdown",
   "metadata": {},
   "source": [
    "<a id=overwriting></a>\n",
    "\n",
    "### Overwriting values\n",
    "\n",
    "Now we can extract a card using the `[]` accessor and overwrite it"
   ]
  },
  {
   "cell_type": "code",
   "execution_count": null,
   "metadata": {},
   "outputs": [],
   "source": [
    "deck = Deck()\n",
    "print(\"First two cards before overwriting:\", deck[:2])\n",
    "\n",
    "deck[0] = Card('T', '♦')\n",
    "print(\"First two cards after overwriting:\", deck[:2])"
   ]
  },
  {
   "cell_type": "markdown",
   "metadata": {},
   "source": [
    "<a id=shuffling></a>\n",
    "\n",
    "### Shuffling the deck\n",
    "\n",
    "The above demonstrates the way we can overwrite a single location of a card with another value, however this isn't very useful. Using the `random.shuffle` function is probably more useful for our deck.\n",
    "\n",
    "The `random.shuffle` function will implicity invoke the `__setitem__` method for each card value and card index, overwriting each card with a new card value at random."
   ]
  },
  {
   "cell_type": "code",
   "execution_count": null,
   "metadata": {},
   "outputs": [],
   "source": [
    "deck = Deck()\n",
    "\n",
    "from random import shuffle\n",
    "\n",
    "shuffle(deck)\n",
    "print(deck._cards)"
   ]
  },
  {
   "cell_type": "markdown",
   "metadata": {},
   "source": [
    "# Conclusion\n",
    "\n",
    "This notebook has shown the implementation of the two dunder methods `__setitem__` and `__getitem__`, as well as a small look at `__contains__`\n",
    "\n",
    "`__getitem__` is a method used for getting the value of an item. It is implicitly invoked when you access the cards of the deck\n",
    "\n",
    "`__setitem__` is a method used for assigning a value to an item. It is implicitly invoked when you set a value (potentially a new card value) to a card of your deck and when you call `random.shuffle`"
   ]
  }
 ],
 "metadata": {
  "kernelspec": {
   "display_name": "Python 3 (ipykernel)",
   "language": "python",
   "name": "python3"
  },
  "language_info": {
   "codemirror_mode": {
    "name": "ipython",
    "version": 3
   },
   "file_extension": ".py",
   "mimetype": "text/x-python",
   "name": "python",
   "nbconvert_exporter": "python",
   "pygments_lexer": "ipython3",
   "version": "3.9.7"
  }
 },
 "nbformat": 4,
 "nbformat_minor": 4
}
