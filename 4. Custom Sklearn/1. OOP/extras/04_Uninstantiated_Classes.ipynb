{
 "cells": [
  {
   "cell_type": "markdown",
   "metadata": {},
   "source": [
    "<img src='../images/cards.png' width='150px' align='right' style=\"padding: 15px\">\n",
    "\n",
    "# Unistantiated classes\n",
    "\n",
    "## Goal\n",
    "\n",
    "In this notebook we shall explore the `@classmethod` and `@staticmethod` decorators.\n",
    "\n",
    "## Uninstantiated class objects\n",
    "\n",
    "So far we have only worked with class objects after instantiating them (e.g. `deck = French52Deck()`). But what if we want to do something before or even without instantiating such objects?\n",
    "\n",
    "This is where the `@classmethod` (and often some other) decorators can come in very handy.\n",
    "\n",
    "**@classmethod** can be used to create class functions that can be called from an uninstantiated class object, while implicitly getting the class as its first input. This is most useful when we want to create a *factory method*. For example, we may want to allow alternative ways of instantiating our French52Deck class by for example using a different set of suits present in a given list:"
   ]
  },
  {
   "cell_type": "code",
   "execution_count": null,
   "metadata": {},
   "outputs": [],
   "source": [
    "import collections \n",
    "\n",
    "class Deck:\n",
    "   \n",
    "    def __len__(self):\n",
    "        return len(self._cards)\n",
    "        \n",
    "    def __str__(self):\n",
    "        return f'Deck(suits={self.suits}, ranks={self.ranks})'\n",
    "    \n",
    "    def __getitem__(self, position):\n",
    "        return self._cards[position]\n",
    "    \n",
    "    def __setitem__(self, ind, value):\n",
    "        self._cards[ind] = value\n",
    "    \n",
    "    def deal(self):\n",
    "        return self._cards.pop()\n",
    "    \n",
    "    def check_ace(self):\n",
    "        return self.cards[-1].rank == 'A'\n",
    "    \n",
    "    \n",
    "class French52Deck(Deck):\n",
    "    ranks = '23456789TJQKA'\n",
    "    suits = '♠♥♦♣'\n",
    "    \n",
    "    def __init__(self, init_suits = None):\n",
    "        if init_suits != None:\n",
    "            self.suits = init_suits\n",
    "        Card = collections.namedtuple('Card', ['rank', 'suit'])\n",
    "        self._cards = [\n",
    "            Card(rank, suit)\n",
    "            for suit in self.suits\n",
    "            for rank in self.ranks\n",
    "        ]\n",
    "        \n",
    "    @classmethod\n",
    "    def from_custom_suits_list(cls, suits_list):\n",
    "        return cls(set(list(suits_list)))\n",
    "\n",
    "deck = French52Deck.from_custom_suits_list('xoyuox')\n",
    "print(f'used suits: {deck.suits}')\n",
    "deck[:2]"
   ]
  },
  {
   "cell_type": "code",
   "execution_count": null,
   "metadata": {},
   "outputs": [],
   "source": [
    "#this still works as before\n",
    "deck = French52Deck()\n",
    "print(f'used suits: {deck.suits}')\n",
    "deck[:2]"
   ]
  },
  {
   "cell_type": "markdown",
   "metadata": {},
   "source": [
    "This is a simple example, though in practice such class decorators can largely extend our class functionality and flexibility. \n",
    "\n",
    "Another such decorator is the **`@staticmethod`**. This decorator is similar to `@classmethod`, in that it can be called from an uninstantiated class object, but it does not implicitly get the class as its first input."
   ]
  },
  {
   "cell_type": "code",
   "execution_count": null,
   "metadata": {},
   "outputs": [],
   "source": [
    "import random\n",
    "\n",
    "class French52Deck(Deck):\n",
    "    ranks = '23456789TJQKA'\n",
    "    suits = '♠♥♦♣'\n",
    "    \n",
    "    def __init__(self, init_suits = None):\n",
    "        if init_suits != None:\n",
    "            self.suits = init_suits\n",
    "        Card = collections.namedtuple('Card', ['rank', 'suit'])\n",
    "        self._cards = [\n",
    "            Card(rank, suit)\n",
    "            for suit in self.suits\n",
    "            for rank in self.ranks\n",
    "        ]\n",
    "        \n",
    "    @classmethod\n",
    "    def from_custom_suits_list(cls, suits_list):\n",
    "        return cls(set(list(suits_list)))\n",
    "    \n",
    "    @staticmethod\n",
    "    def roll_dice(sides=6):\n",
    "        if type(sides) is int and sides >= 1:\n",
    "            return random.choice(range(sides)) + 1\n",
    "        else:\n",
    "            raise ValueError('not a valid number of sides for the dice')"
   ]
  },
  {
   "cell_type": "code",
   "execution_count": null,
   "metadata": {},
   "outputs": [],
   "source": [
    "French52Deck.roll_dice()"
   ]
  },
  {
   "cell_type": "markdown",
   "metadata": {},
   "source": [
    "### When to use what?\n",
    "\n",
    "- We generally use class method to create factory methods. Factory methods return class objects ( similar to a constructor ) for different use cases.\n",
    "- We generally use static methods to create utility functions.\n"
   ]
  }
 ],
 "metadata": {
  "kernelspec": {
   "display_name": "Python 3 (ipykernel)",
   "language": "python",
   "name": "python3"
  },
  "language_info": {
   "codemirror_mode": {
    "name": "ipython",
    "version": 3
   },
   "file_extension": ".py",
   "mimetype": "text/x-python",
   "name": "python",
   "nbconvert_exporter": "python",
   "pygments_lexer": "ipython3",
   "version": "3.9.7"
  }
 },
 "nbformat": 4,
 "nbformat_minor": 4
}
