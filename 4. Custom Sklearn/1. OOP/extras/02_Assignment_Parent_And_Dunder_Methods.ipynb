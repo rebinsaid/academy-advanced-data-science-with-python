{
 "cells": [
  {
   "cell_type": "markdown",
   "id": "7d66266d",
   "metadata": {},
   "source": [
    "# Assignment\n",
    "## Parent Classes and Dunder Methods\n",
    "\n",
    "Remember the parent class `Deck`? And its possible children? This notebook is here for you to implement some advanced dunder methods."
   ]
  },
  {
   "cell_type": "code",
   "execution_count": null,
   "id": "f9d53f3d",
   "metadata": {},
   "outputs": [],
   "source": [
    "import collections\n",
    "\n",
    "class Deck:\n",
    "\n",
    "    def __init__(self):\n",
    "        Card = collections.namedtuple('Card', ['rank', 'suit'])\n",
    "        self.cards = [\n",
    "            Card(rank, suit)\n",
    "            for suit in self.suits\n",
    "            for rank in self.ranks\n",
    "        ]\n",
    "        self.dealt_cards = []\n",
    "\n",
    "    def __len__(self):\n",
    "        return len(self.cards)\n",
    "        \n",
    "    def __str__(self):\n",
    "        return f'Deck(suits={self.suits}, ranks={self.ranks})'\n",
    "    \n",
    "    def __getitem__(self, position):\n",
    "        return self.cards[position]\n",
    "    \n",
    "    def __setitem__(self, ind, val):\n",
    "        self.cards[ind] = val\n",
    "    \n",
    "    def deal(self):\n",
    "        return self.cards.pop()\n",
    "\n",
    "class AvatarDeck(Deck):\n",
    "    ranks = list('23456789T') + ['Sokka', 'Katara', 'Zuko', 'Aang']\n",
    "    suits = ['Water', 'Air', 'Fire', 'Water']\n",
    "            \n",
    "class French52Deck(Deck):\n",
    "    ranks = '23456789TJQKA'\n",
    "    suits = '♠♥♦♣'\n",
    "    \n",
    "    def top_card_is_ace(self):\n",
    "        return self.cards[-1].rank == 'A'\n",
    "\n",
    "avatar_deck = AvatarDeck()\n",
    "deck = French52Deck()"
   ]
  },
  {
   "cell_type": "markdown",
   "id": "3c58f582",
   "metadata": {},
   "source": [
    "<a id=ex-bonus></a>\n",
    "\n",
    "### <mark>Bonus Exercises: More methods</mark>\n",
    "\n",
    "1. Implement an `__add__` dunder method to so that you can combine two decks with the `+` operator. There's multiple ways of interpreting what \"combining two decks\" means, try to think about what's the behaviour you'd want of this functionality."
   ]
  },
  {
   "cell_type": "code",
   "execution_count": null,
   "id": "08207ca9",
   "metadata": {
    "scrolled": true
   },
   "outputs": [],
   "source": []
  },
  {
   "cell_type": "markdown",
   "id": "063c4514",
   "metadata": {},
   "source": [
    "2. Make a class called `Dealer` that takes a Deck, shuffles it and is prepared to deal `n` number of cards. (For example in a game of 7-card rummy, the players each get 7 cards once the deck is shuffled)."
   ]
  },
  {
   "cell_type": "code",
   "execution_count": null,
   "id": "772c6f07",
   "metadata": {},
   "outputs": [],
   "source": []
  },
  {
   "cell_type": "markdown",
   "id": "5b49685d",
   "metadata": {},
   "source": [
    "**Hints**:\n",
    "1. `__add__`ing two decks\n",
    "    - You will need to add a new method `__add__` to the parent class\n",
    "    - It will take two parameters, `self`: to represents the current deck, and `other`: to represent the other deck\n",
    "    - To add the decks you will need to access the `_cards` attribute from both decks and concatenate them (remember the cards are stored in a list)\n",
    "\n",
    "\n",
    "2. The `Dealer`\n",
    "    - When initialized the class should use an instantiated deck and an integer to specific the number of cards\n",
    "    - The `__init__` method should \n",
    "        - take in two parameters: `deck` and `num_cards`\n",
    "        - create the attributes `self._deck = deck` and `self._num_cards = num_cards`\n",
    "    - Hand a `deal_hand` method that returns a list of `n` number of cards (as defined by `self._num_cards`)\n",
    "    - The `deal_hand` method should also remove these cards from the `self._deck` (hint: use `self._deck.deal()` for each card to deal)"
   ]
  },
  {
   "cell_type": "markdown",
   "id": "cef0e215",
   "metadata": {},
   "source": [
    "**Answers**"
   ]
  },
  {
   "cell_type": "code",
   "execution_count": null,
   "id": "81518ccc",
   "metadata": {},
   "outputs": [],
   "source": [
    "# %load ../answers/ex-bonus-1-add.py"
   ]
  },
  {
   "cell_type": "code",
   "execution_count": null,
   "id": "db1d2fff",
   "metadata": {},
   "outputs": [],
   "source": [
    "# %load ../answers/ex-bonus-2-dealer.py"
   ]
  }
 ],
 "metadata": {
  "kernelspec": {
   "display_name": "Python 3 (ipykernel)",
   "language": "python",
   "name": "python3"
  },
  "language_info": {
   "codemirror_mode": {
    "name": "ipython",
    "version": 3
   },
   "file_extension": ".py",
   "mimetype": "text/x-python",
   "name": "python",
   "nbconvert_exporter": "python",
   "pygments_lexer": "ipython3",
   "version": "3.9.12"
  }
 },
 "nbformat": 4,
 "nbformat_minor": 5
}
