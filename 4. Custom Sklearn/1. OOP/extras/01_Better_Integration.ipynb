{
 "cells": [
  {
   "cell_type": "markdown",
   "metadata": {},
   "source": [
    "<img src='../images/gdd-logo.png' width='300px' align='right' style=\"padding: 15px\">\n",
    "\n",
    "# <mark style='background-color:white;color:#364069'>Object Oriented Programming</mark>\n",
    "\n",
    "Now that you have a `Deck` of cards, this notebook will demonstrate some best practice and more advanced ways of working with Object Oriented Programming within Python.\n",
    "\n",
    "In particular this notebook covers:\n",
    "\n",
    "- [Recap of the `Deck` of cards](#recap)\n",
    "\n",
    "\n",
    "- [Class and Instance variables: Whether to include attributes in the __init__ function](#class-instance)\n",
    "    \n",
    "    \n",
    "- [Dunder methods](#dunder)\n",
    "    - [Using the in-built `len()` function](#len)\n",
    "    - [`__str__`](#str)\n",
    "    - [<mark>Exercise - Add dunder methods</mark>](#ex-dunder)\n",
    "\n",
    "\n",
    "- [Better integration](#better)\n",
    "    - [Leading underscore](#leading)\n",
    "    - [Protecting variables further](#protected)\n",
    "\n",
    "\n",
    "- [Conclusion](#conclusion)"
   ]
  },
  {
   "cell_type": "code",
   "execution_count": null,
   "metadata": {},
   "outputs": [],
   "source": [
    "import collections"
   ]
  },
  {
   "cell_type": "markdown",
   "metadata": {},
   "source": [
    "---\n",
    "<a id='deck'></a>\n",
    "# Recap of the `Deck` of cards\n",
    "\n",
    "In the previous notebook you implemented a class called `Deck`, which represents a (French) card deck. \n",
    "\n",
    "<img src='../images/french-card.jpeg'>"
   ]
  },
  {
   "cell_type": "code",
   "execution_count": null,
   "metadata": {},
   "outputs": [],
   "source": [
    "Card = collections.namedtuple('Card', ['rank', 'suit'])\n",
    "\n",
    "class Deck:\n",
    "    ranks = '23456789TJQKA'\n",
    "    suits = '♠♥♦♣'\n",
    "    \n",
    "    def __init__(self):\n",
    "        self.cards = [\n",
    "            Card(rank, suit)\n",
    "            for suit in self.suits\n",
    "            for rank in self.ranks\n",
    "        ]\n",
    "        self.dealt_cards = []\n",
    "    \n",
    "    def deal(self):\n",
    "        dealt_card = self.cards.pop()\n",
    "        self.dealt_cards.append(dealt_card)\n",
    "        return dealt_card\n",
    "    \n",
    "    def size(self):\n",
    "        return len(self.cards)\n",
    "    \n",
    "    def check_ace(self):\n",
    "        return self.cards[-1].rank == 'A'\n",
    "    \n",
    "deck = Deck()\n",
    "deck.deal()\n",
    "deck.dealt_cards"
   ]
  },
  {
   "cell_type": "markdown",
   "metadata": {},
   "source": [
    "---\n",
    "\n",
    "<a id='class-instance'></a>\n",
    "## Class and Instance variables: Whether to include attributes in the `__init__` function\n",
    "\n",
    "It is also possible to define variables outside the `__init__` method which will equally be accessible (and mutable) using the `class.attribute` syntax. However, there is a slight difference:\n",
    "\n",
    "- variables defined **outside** the `__init__` method belong to the class (*class variables*),\n",
    "- while variables defined **inside** the `__init__` method belong to an instance of a class (*instance variables*).\n",
    "\n",
    "Luckily, in most cases, this difference often does not matter and your code will probably work both ways.\n",
    "\n",
    "An in-depth discussion can be found [here](https://www.atatus.com/blog/class-variables-vs-instance-variables-in-java/), but for now below it the difference is illustrated on a simple example:"
   ]
  },
  {
   "cell_type": "code",
   "execution_count": null,
   "metadata": {},
   "outputs": [],
   "source": [
    "Card = collections.namedtuple('Card', ['rank', 'suit'])\n",
    "\n",
    "class DeckClassVars:\n",
    "    \n",
    "    # define as class variables\n",
    "    ranks = 'A23456789TJQK'\n",
    "    suits = '♠♥♦♣'\n",
    "      \n",
    "    def __init__(self):\n",
    "        self.cards = [\n",
    "            Card(rank, suit)\n",
    "            for suit in self.suits\n",
    "            for rank in self.ranks\n",
    "        ]"
   ]
  },
  {
   "cell_type": "markdown",
   "metadata": {},
   "source": [
    "Notice that without instantiating the class above, you can already return the `ranks` (or `suits`) attribute:"
   ]
  },
  {
   "cell_type": "code",
   "execution_count": null,
   "metadata": {},
   "outputs": [],
   "source": [
    "DeckClassVars.ranks"
   ]
  },
  {
   "cell_type": "markdown",
   "metadata": {},
   "source": [
    "This because the attributes `ranks` and `suits` belong to the class itself."
   ]
  },
  {
   "cell_type": "markdown",
   "metadata": {},
   "source": [
    "Accordingly, examine what happens when we do make an instance of this class, and then update the class itself."
   ]
  },
  {
   "cell_type": "code",
   "execution_count": null,
   "metadata": {},
   "outputs": [],
   "source": [
    "# make an instance of the class\n",
    "deck_with_class_vars = DeckClassVars()\n",
    "\n",
    "deck_with_class_vars.suits"
   ]
  },
  {
   "cell_type": "code",
   "execution_count": null,
   "metadata": {},
   "outputs": [],
   "source": [
    "# update the class\n",
    "DeckClassVars.suits = ['Water', 'Air', 'Fire', 'Earth']\n",
    "\n",
    "deck_with_class_vars.suits"
   ]
  },
  {
   "cell_type": "markdown",
   "metadata": {},
   "source": [
    "In contrast, take a look at the class below, where `ranks` and `attributes` are part of the `__int__` method:"
   ]
  },
  {
   "cell_type": "code",
   "execution_count": null,
   "metadata": {},
   "outputs": [],
   "source": [
    "Card = collections.namedtuple('Card', ['rank', 'suit'])\n",
    "\n",
    "class DeckInstanceVars:\n",
    "      \n",
    "    def __init__(self):\n",
    "        # define as instance variables\n",
    "        self.ranks = 'A23456789TJQK'\n",
    "        self.suits = '♠♥♦♣'\n",
    "    \n",
    "        self.cards = [\n",
    "            Card(rank, suit)\n",
    "            for suit in self.suits\n",
    "            for rank in self.ranks\n",
    "        ]"
   ]
  },
  {
   "cell_type": "markdown",
   "metadata": {},
   "source": [
    "The class itself does not have a `ranks` (or `suits`) attribute. Uncomment and run the cell below to verify this."
   ]
  },
  {
   "cell_type": "code",
   "execution_count": null,
   "metadata": {},
   "outputs": [],
   "source": [
    "# DeckInstanceVars.ranks"
   ]
  },
  {
   "cell_type": "markdown",
   "metadata": {},
   "source": [
    "Examine what happens when we make an instance of this class, and then update the class itself."
   ]
  },
  {
   "cell_type": "code",
   "execution_count": null,
   "metadata": {},
   "outputs": [],
   "source": [
    "deck_with_instance_vars = DeckInstanceVars()\n",
    "\n",
    "deck_with_instance_vars.suits"
   ]
  },
  {
   "cell_type": "code",
   "execution_count": null,
   "metadata": {},
   "outputs": [],
   "source": [
    "DeckInstanceVars.suits = ['Water', 'Air', 'Fire', 'Earth']\n",
    "\n",
    "deck_with_instance_vars.suits"
   ]
  },
  {
   "cell_type": "markdown",
   "metadata": {},
   "source": [
    "### Bottom line \n",
    "There is a difference between **class** variables and **instance** variables. Often, this difference is not noticable, but it can lead to problems when object attributes are changed with a method or (like in our example) via direct re-assignment.\n",
    "\n",
    "> <mark>**Best practice:**</mark> Define all variables that could differ from instance to instance (think of the `.shape` and `.dtypes` of a `pd.DataFrame`) into the `__init__` method, and define static class variables only if they are shared across all instances of a class (for example, the `pd.DataFrame` class should always only have 2 dimensions)."
   ]
  },
  {
   "cell_type": "markdown",
   "metadata": {},
   "source": [
    "---\n",
    "<a id='dunder'></a>\n",
    "## Dunder methods\n",
    "\n",
    "With the Deck class we made earlier, we can use the `size` method to find out how many cards there are in the deck."
   ]
  },
  {
   "cell_type": "code",
   "execution_count": null,
   "metadata": {},
   "outputs": [],
   "source": [
    "deck = Deck()\n",
    "deck.size()"
   ]
  },
  {
   "cell_type": "markdown",
   "metadata": {},
   "source": [
    "However, there is a more \"pythonic\" way of finding the size of the deck. \n",
    "\n",
    "Currently, other programmers - including the future us - who use your class need to remember the name of the method to return the number of cards. \n",
    "\n",
    "To save mental effort, you are now going to implement a dunder method, that gets invoked when you use an already existing function."
   ]
  },
  {
   "cell_type": "markdown",
   "metadata": {},
   "source": [
    "<a id='len'></a>\n",
    "\n",
    "### Add the dunder method `__len__`"
   ]
  },
  {
   "cell_type": "markdown",
   "metadata": {},
   "source": [
    "How to get the number of items in a list"
   ]
  },
  {
   "cell_type": "code",
   "execution_count": null,
   "metadata": {},
   "outputs": [],
   "source": [
    "my_list = [1, 2, 3, 4]\n",
    "len(my_list)"
   ]
  },
  {
   "cell_type": "markdown",
   "metadata": {},
   "source": [
    "Would it be possible to do the same with Deck?"
   ]
  },
  {
   "cell_type": "code",
   "execution_count": null,
   "metadata": {},
   "outputs": [],
   "source": [
    "deck = Deck()\n",
    "# len(deck)"
   ]
  },
  {
   "cell_type": "markdown",
   "metadata": {},
   "source": [
    "The function `len` works by calling the (dunder) method `__len__` of an object.\n",
    "\n",
    "Let's change the method for counting cards to opearte like this."
   ]
  },
  {
   "cell_type": "code",
   "execution_count": null,
   "metadata": {},
   "outputs": [],
   "source": [
    "class Deck:\n",
    "    ranks = '23456789TJQKA'\n",
    "    suits = '♠♥♦♣'\n",
    "    \n",
    "    def __init__(self):\n",
    "        self.cards = [\n",
    "            Card(rank, suit)\n",
    "            for suit in self.suits\n",
    "            for rank in self.ranks\n",
    "        ]\n",
    "    \n",
    "    def __len__(self):\n",
    "        return len(self.cards)\n",
    "    \n",
    "    def deal(self):\n",
    "        return self.cards.pop()"
   ]
  },
  {
   "cell_type": "markdown",
   "metadata": {},
   "source": [
    "Now that you have a dunder method `__len__` this function gets called when you apply `len` to the instance of `Deck`.\n",
    "\n",
    "Let's try this out..."
   ]
  },
  {
   "cell_type": "code",
   "execution_count": null,
   "metadata": {},
   "outputs": [],
   "source": [
    "deck = Deck()\n",
    "\n",
    "print(len(deck))\n",
    "\n",
    "for _ in range(10): \n",
    "    deck.deal()\n",
    "\n",
    "print(len(deck))"
   ]
  },
  {
   "cell_type": "markdown",
   "metadata": {},
   "source": [
    "After we played a couple cards, we see the length has decreased.\n",
    "\n",
    "Great! Now we have an object that interacts like other python objects. We would like to have more of these tricks!"
   ]
  },
  {
   "cell_type": "markdown",
   "metadata": {},
   "source": [
    "<a id='str'></a>\n",
    "### Dunder method `__str__`"
   ]
  },
  {
   "cell_type": "markdown",
   "metadata": {},
   "source": [
    "Notice the print. It contains the class name, with module `__main__` and the hexidecimal id"
   ]
  },
  {
   "cell_type": "code",
   "execution_count": null,
   "metadata": {},
   "outputs": [],
   "source": [
    "print(deck)"
   ]
  },
  {
   "cell_type": "markdown",
   "metadata": {},
   "source": [
    "While Python can interpret this, it is not a very useful object representation for a user. \n",
    "\n",
    "However, we can use the dunder (double-underscore) method `__str__` to control what will be printed.\n",
    "\n",
    "\n",
    "> To be a little more precise: `__str__` is called by the `str()` built-in function and implicitly used by the `print()` function. It should return a string suitable for display to end users. See python docs [here for `print`](https://docs.python.org/3/library/functions.html#print) and [here for `str`](https://docs.python.org/3/library/stdtypes.html#str)."
   ]
  },
  {
   "cell_type": "markdown",
   "metadata": {},
   "source": [
    "<a id='ex-dunder'></a>\n",
    "### <mark>Exercise - Add a dunder</mark>"
   ]
  },
  {
   "cell_type": "markdown",
   "metadata": {},
   "source": [
    "1. Implement a `method` such that when you called `print(deck)` it prints the string `Deck(suits=♠♥♦♣, ranks=23456789TJQKA)`"
   ]
  },
  {
   "cell_type": "code",
   "execution_count": null,
   "metadata": {},
   "outputs": [],
   "source": []
  },
  {
   "cell_type": "markdown",
   "metadata": {},
   "source": [
    "2. Look up the dunder method [`__getitem__`](https://docs.python.org/3/reference/datamodel.html#object.__getitem__):\n",
    "\n",
    "    - Implement it for your deck so that you can run `deck[0]` to retrieve the first card in the deck. \n",
    "\n",
    "    - Try out other ways of slicing the deck (eg. select the first 5 cards)"
   ]
  },
  {
   "cell_type": "code",
   "execution_count": null,
   "metadata": {},
   "outputs": [],
   "source": []
  },
  {
   "cell_type": "markdown",
   "metadata": {},
   "source": [
    "3. From the link above, find a dunder method that will be implicitly invoked to set a value to an item of a list. I.e. we should be able to execute the code:\n",
    "```python\n",
    "deck[0] = Card('A', '♦')\n",
    "```\n",
    "\n",
    "**Bonus**: Import the function `random.shuffle` and execute it on the deck of cards. What happens to `deck._cards`?"
   ]
  },
  {
   "cell_type": "code",
   "execution_count": null,
   "metadata": {},
   "outputs": [],
   "source": []
  },
  {
   "cell_type": "markdown",
   "metadata": {},
   "source": [
    "**Answers**: Uncomment and run the following to see solutions"
   ]
  },
  {
   "cell_type": "code",
   "execution_count": null,
   "metadata": {},
   "outputs": [],
   "source": [
    "# %load ../answers/ex-dunder-1.py"
   ]
  },
  {
   "cell_type": "code",
   "execution_count": null,
   "metadata": {},
   "outputs": [],
   "source": [
    "# %load ../answers/ex-dunder-2.py"
   ]
  },
  {
   "cell_type": "code",
   "execution_count": null,
   "metadata": {},
   "outputs": [],
   "source": [
    "# %load ../answers/ex-dunder-3.py"
   ]
  },
  {
   "cell_type": "markdown",
   "metadata": {},
   "source": [
    "### A note on `__getitem__` and `__setitem__`\n",
    "\n",
    "These two dunder methods are the harder ones to understand the implementation when thinking about your card deck. \n",
    "\n",
    "- `__getitem__` is a method used for getting the value of an item\n",
    "- `__setitem__` is a method used for assigning a value to an item\n",
    "\n",
    "More information and examples are covered in the [getitem_and_setitem]() notebook.\n",
    "\n",
    "### Further dunder methods\n",
    "\n",
    "You are getting closer and closer to a \"pythonic\" card deck! In addition to the ones you've seen already, there are many more interesting dunder methods such as:\n",
    "\n",
    "- `__iter__` and `__next__`\n",
    "- `__repr__`\n",
    "- `__add__`, `__sub__`, or `__mul__`\n",
    "- `__eq__`, `__ne__`, `__lt__`, `__gt__`, `__le__` or `__ge__`\n",
    "\n",
    "You can practise implementing these dunder methods in the [Assignment]() notebook. We also recommend looking at the examples given in ***Fluent Python*** and trying them out for yourselves."
   ]
  },
  {
   "cell_type": "markdown",
   "metadata": {},
   "source": [
    "---\n",
    "<a id='better'></a>\n",
    "## Better integration - Leading underscore attributes\n",
    "\n",
    "So far you've managed to build a solid class, but there a few things you can do that is considered more pythonic.\n",
    "\n",
    "Currently you can see all attributes and methods available by instantiating deck, writing `deck.` and hitting `<tab>`.\n",
    "\n",
    "Try this out in the cell below:"
   ]
  },
  {
   "cell_type": "code",
   "execution_count": null,
   "metadata": {},
   "outputs": [],
   "source": []
  },
  {
   "cell_type": "markdown",
   "metadata": {},
   "source": [
    "So to access the deck of cards outside the class itself is simple"
   ]
  },
  {
   "cell_type": "code",
   "execution_count": null,
   "metadata": {},
   "outputs": [],
   "source": [
    "deck.cards[:5]"
   ]
  },
  {
   "cell_type": "markdown",
   "metadata": {},
   "source": [
    "However accessing the cards variable outside the class is a little hacky and dangerous. You only want cards to be assigned when the class is first instantiated, or when deal is called... but a user could easily overwrite this attribute **outside** of the class"
   ]
  },
  {
   "cell_type": "code",
   "execution_count": null,
   "metadata": {},
   "outputs": [],
   "source": [
    "deck.cards = 'my cards'\n",
    "deck.cards"
   ]
  },
  {
   "cell_type": "markdown",
   "metadata": {},
   "source": [
    "oops! \n",
    "\n",
    "<a id=leading></a>\n",
    "\n",
    "### Leading underscore\n",
    "\n",
    "To signal that an attribute should not be 'touched' externally to the class you should add a leading underscore - this indicates a **protected** variable."
   ]
  },
  {
   "cell_type": "code",
   "execution_count": null,
   "metadata": {},
   "outputs": [],
   "source": [
    "class Deck:\n",
    "    ranks = '23456789TJQKA'\n",
    "    suits = '♠♥♦♣'\n",
    "    \n",
    "    def __init__(self):\n",
    "        self._cards = [\n",
    "            Card(rank, suit)\n",
    "            for suit in self.suits\n",
    "            for rank in self.ranks\n",
    "        ]\n",
    "    \n",
    "    def deal(self):\n",
    "        return self._cards.pop()\n",
    "\n",
    "deck = Deck()"
   ]
  },
  {
   "cell_type": "markdown",
   "metadata": {},
   "source": [
    "Now if you use `deck.<tab>` you see that you can no longer see the `cards` attribute."
   ]
  },
  {
   "cell_type": "code",
   "execution_count": null,
   "metadata": {},
   "outputs": [],
   "source": []
  },
  {
   "cell_type": "markdown",
   "metadata": {},
   "source": [
    "Note that it is still possible to access the `_cards` attribute, and therefore it is possible to overwrite it. However the leading underscore is a clear signal to any user of the class that this attribute ***should not be accessed outside of the class*** and therefore great care should be taken to not overwrite the variable."
   ]
  },
  {
   "cell_type": "markdown",
   "metadata": {},
   "source": [
    "<a id=protected></a>\n",
    "\n",
    "### Protecting variables further\n",
    "\n",
    "For Python, using one leading underscore is considered enough to signal to the user that this attribute should not be used/overwritten.\n",
    "\n",
    "**Unlike Java with the private modifier, there is no way to create private variables in Python**. In the notebook [Protect_Private_Variables](), further ways to protect variables with the use of Python's \"private\" variables, along with consideration around Pythonic practices, are discussed and demonstrated."
   ]
  },
  {
   "cell_type": "markdown",
   "metadata": {},
   "source": [
    "<img src=../images/conclusion.png align=right>\n",
    "<a id=conclusion></a>\n",
    "\n",
    "# Conclusion\n",
    "\n",
    "In this tutorial you have used better practice when writing OOP in Python. \n",
    "\n",
    "In particular, this notebook has covered:\n",
    "\n",
    "- Using dunder methods for consistent, Pythonic applications\n",
    "- Using leading underscores for better integration"
   ]
  }
 ],
 "metadata": {
  "kernelspec": {
   "display_name": "Python 3 (ipykernel)",
   "language": "python",
   "name": "python3"
  },
  "language_info": {
   "codemirror_mode": {
    "name": "ipython",
    "version": 3
   },
   "file_extension": ".py",
   "mimetype": "text/x-python",
   "name": "python",
   "nbconvert_exporter": "python",
   "pygments_lexer": "ipython3",
   "version": "3.11.8"
  }
 },
 "nbformat": 4,
 "nbformat_minor": 4
}
