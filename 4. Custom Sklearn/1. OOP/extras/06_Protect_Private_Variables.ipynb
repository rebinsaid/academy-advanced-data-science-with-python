{
 "cells": [
  {
   "cell_type": "markdown",
   "metadata": {},
   "source": [
    "<img src='../images/cards.png' width='120px' align='right' style=\"padding: 15px\">\n",
    "\n",
    "\n",
    "# Protected and \"Private\" variables\n",
    "\n",
    "## Goal\n",
    "\n",
    "This notebook shall demonstrate protected and \"private\" variables, as well as a short introduction to decorators. \n",
    "\n",
    "- [Protected vs. Private variable](#protected)\n",
    "- [Decorators](#decorators)\n",
    "- [Disclaimer*](#disclaimer)\n",
    "\n",
    "*Note that the use of \"private\" variables in Python is not strictly common practice, for reasons that will be explained in this notebook."
   ]
  },
  {
   "cell_type": "markdown",
   "metadata": {},
   "source": [
    "<a id=protected></a>\n",
    "\n",
    "## Protected vs. Private variables\n",
    "\n",
    "All variables prefixed with an `_` are protected. It's advised that you don't use them outside of the class, as they are prone to change upon a new version of the library etc. Private variables are prefixed with `__` and cannot be use outside of the class.\n",
    "\n",
    "For example, let's add a double underscore before the `cards` attribute"
   ]
  },
  {
   "cell_type": "code",
   "execution_count": null,
   "metadata": {},
   "outputs": [],
   "source": [
    "import collections\n",
    "\n",
    "Card = collections.namedtuple('Card', ['rank', 'suit'])\n",
    "\n",
    "class Deck:\n",
    "    ranks = '23456789TJQKA'\n",
    "    suits = '♠♥♦♣'\n",
    "    \n",
    "    def __init__(self, debug_value = False):\n",
    "        self.__cards = [\n",
    "            Card(rank, suit)\n",
    "            for suit in self.suits\n",
    "            for rank in self.ranks\n",
    "        ]\n",
    "   \n",
    "    def __len__(self):\n",
    "        return len(self._cards)\n",
    "        \n",
    "    def __str__(self):\n",
    "        return f'Deck(suits={self.suits}, ranks={self.ranks})'\n",
    "    \n",
    "    def __getitem__(self, position):\n",
    "        return self._cards[position]\n",
    "    \n",
    "    def __setitem__(self, ind, value):\n",
    "        self.__cards[ind] = value\n",
    "    \n",
    "    def deal(self):\n",
    "        return self._cards.pop()\n",
    "    \n",
    "    def check_ace(self):\n",
    "        return self.cards[-1].rank == 'A'\n",
    "        \n",
    "deck = Deck()"
   ]
  },
  {
   "cell_type": "code",
   "execution_count": null,
   "metadata": {},
   "outputs": [],
   "source": [
    "# NBVAL_RAISES_EXCEPTION\n",
    "# deck.__cards"
   ]
  },
  {
   "cell_type": "markdown",
   "metadata": {},
   "source": [
    "Now you can't access `__cards` outside of the class. So how would you check the list of cards? Well you could implement a method for that.\n",
    "\n",
    "### <mark>Exercise: Implement a method to check the cards</mark>\n",
    "\n",
    "Add a new method called `cards` that will simply return the list of cards.\n",
    "\n",
    "**Bonus**: Add the decorator `@property` on the line above your new method. What does that mean for how you look at the cards?"
   ]
  },
  {
   "cell_type": "code",
   "execution_count": null,
   "metadata": {},
   "outputs": [],
   "source": [
    "class Deck:\n",
    "    ranks = '23456789TJQKA'\n",
    "    suits = '♠♥♦♣'\n",
    "    \n",
    "    def __init__(self, debug_value = False):\n",
    "        self.__cards = [\n",
    "            Card(rank, suit)\n",
    "            for suit in self.suits\n",
    "            for rank in self.ranks\n",
    "        ]\n",
    "   \n",
    "    def __len__(self):\n",
    "        return len(self.__cards)\n",
    "        \n",
    "    def __str__(self):\n",
    "        return f'Deck(suits={self.suits}, ranks={self.ranks})'\n",
    "    \n",
    "    def __getitem__(self, position):\n",
    "        return self.__cards[position]\n",
    "    \n",
    "    def __setitem__(self, ind, value):\n",
    "        self.__cards[ind] = value\n",
    "    \n",
    "    def deal(self):\n",
    "        return self.__cards.pop()\n",
    "    \n",
    "    def check_ace(self):\n",
    "        return self.__cards[-1].rank == 'A'\n",
    "    \n",
    "    ## Add method here\n",
    "    \n",
    "        \n",
    "deck = Deck()"
   ]
  },
  {
   "cell_type": "markdown",
   "metadata": {},
   "source": [
    "**Answers**"
   ]
  },
  {
   "cell_type": "code",
   "execution_count": null,
   "metadata": {},
   "outputs": [],
   "source": [
    "# %load ../answers/ex-cards-method.py"
   ]
  },
  {
   "cell_type": "markdown",
   "metadata": {},
   "source": [
    "<a id=decorators></a>\n",
    "## Decorators\n",
    "\n",
    "The use of the `@property` decorator allows us to treat the method as if it were an attribute. This way of working is adopted in lots of common classes in Python, most commonly used by data scientists/analysts is the [pandas.DataFrame.shape](https://github.com/pandas-dev/pandas/blob/main/pandas/core/frame.py#L833) attribute. "
   ]
  },
  {
   "cell_type": "markdown",
   "metadata": {},
   "source": [
    "Look what happens if we tried to overwrite `deck.cards`"
   ]
  },
  {
   "cell_type": "code",
   "execution_count": null,
   "metadata": {},
   "outputs": [],
   "source": [
    "class Deck:\n",
    "    ranks = '23456789TJQKA'\n",
    "    suits = '♠♥♦♣'\n",
    "    \n",
    "    def __init__(self, debug_value = False):\n",
    "        self.__cards = [\n",
    "            Card(rank, suit)\n",
    "            for suit in self.suits\n",
    "            for rank in self.ranks\n",
    "        ]\n",
    "   \n",
    "    def __len__(self):\n",
    "        return len(self.__cards)\n",
    "        \n",
    "    def __str__(self):\n",
    "        return f'Deck(suits={self.suits}, ranks={self.ranks})'\n",
    "    \n",
    "    def __getitem__(self, position):\n",
    "        return self.__cards[position]\n",
    "    \n",
    "    def __setitem__(self, ind, value):\n",
    "        self.__cards[ind] = value\n",
    "    \n",
    "    def deal(self):\n",
    "        return self.__cards.pop()\n",
    "    \n",
    "    def check_ace(self):\n",
    "        return self.__cards[-1].rank == 'A'\n",
    "    \n",
    "    @property\n",
    "    def cards(self):\n",
    "        return self.__cards\n",
    "        \n",
    "deck = Deck()"
   ]
  },
  {
   "cell_type": "code",
   "execution_count": null,
   "metadata": {},
   "outputs": [],
   "source": [
    "# deck.cards = 'Overwrite the attribute'"
   ]
  },
  {
   "cell_type": "markdown",
   "metadata": {},
   "source": [
    "Now the attribute `cards` is very safe, but the user can still access the deck to check all the cards in it. Now if the user were to create a subclass and create a new attribute called `cards` the original attribute would remain untouched. "
   ]
  },
  {
   "cell_type": "markdown",
   "metadata": {},
   "source": [
    "There are many other powerful decorators in the Python library that can be used:\n",
    "- `@cache`: cache the results of your function\n",
    "- `@lru_cache`: cache the result of your functions using the Least Recently Used (LRU) strategy\n",
    "- `@singledispatch`: transform your regular function into a single dispatch generic function - [more info here](https://www.blog.pythonlibrary.org/2016/02/23/python-3-function-overloading-with-singledispatch)"
   ]
  },
  {
   "cell_type": "markdown",
   "metadata": {},
   "source": [
    "<a id=disclaimer></a>\n",
    "\n",
    "## <mark style='background-color:#1EB0E0;color:white'>Disclaimer: A note on \"privacy\" in Python</mark>\n",
    "\n",
    "\n",
    "While this is an interesting look at how to avoid mangling variable in Python, it is not a common practice. Unlike Java with the private modifier, there **is no way to create private variables in Python**. What we have in Python is a simple mechanism to prevent accidental overwriting of a “private” attribute in a subclass.\n",
    "\n",
    "Ian Bicking (creator of pip, virtualenv, and other projects) wrote:\n",
    "\n",
    "> Never, ever use two leading underscores. This is annoyingly private. If name clashes are a concern, use explicit name mangling instead (e.g., _MyThing_blahblah). This is essentially the same thing as double-underscore, only it’s transparent where double underscore obscures.7\n",
    "\n",
    "Therefore a better practice would be to use the single leading underscore, as it still convinces the user to not use that attribute outside the class, and is not hidden/obscured. \n",
    "\n",
    "Let's rename the `__cards` attribute to fit the philosophy of Ian Bicking:"
   ]
  },
  {
   "cell_type": "code",
   "execution_count": null,
   "metadata": {},
   "outputs": [],
   "source": [
    "class Deck:\n",
    "    ranks = '23456789TJQKA'\n",
    "    suits = '♠♥♦♣'\n",
    "    \n",
    "    def __init__(self, debug_value = False):\n",
    "        self._original_cards = [\n",
    "            Card(rank, suit)\n",
    "            for suit in self.suits\n",
    "            for rank in self.ranks\n",
    "        ]\n",
    "   \n",
    "    def __len__(self):\n",
    "        return len(self._original_cards)\n",
    "        \n",
    "    def __str__(self):\n",
    "        return f'Deck(suits={self.suits}, ranks={self.ranks})'\n",
    "    \n",
    "    def __getitem__(self, position):\n",
    "        return self._original_cards[position]\n",
    "    \n",
    "    def __setitem__(self, ind, value):\n",
    "        self._original_cards[ind] = value\n",
    "    \n",
    "    def deal(self):\n",
    "        return self._original_cards.pop()\n",
    "    \n",
    "    def check_ace(self):\n",
    "        return self._original_cards[-1].rank == 'A'\n",
    "    \n",
    "    @property\n",
    "    def cards(self):\n",
    "        return self._original_cards\n",
    "        \n",
    "deck = Deck()"
   ]
  },
  {
   "cell_type": "markdown",
   "metadata": {},
   "source": [
    "The attribute `_original_cards` is still accessible, and not hidden/obscured:"
   ]
  },
  {
   "cell_type": "code",
   "execution_count": null,
   "metadata": {},
   "outputs": [],
   "source": [
    "print(deck._original_cards)"
   ]
  },
  {
   "cell_type": "markdown",
   "metadata": {},
   "source": [
    "But the leading underscore indicates to the user to note use this attribute, instead using the method (with the `@property` decorator) is a better way to access this attribute:"
   ]
  },
  {
   "cell_type": "code",
   "execution_count": null,
   "metadata": {},
   "outputs": [],
   "source": [
    "print(deck.cards)"
   ]
  },
  {
   "cell_type": "markdown",
   "metadata": {},
   "source": [
    "The philosophy around \"private\" variables has been taken from ***Fluent Python, chapter: A Pythonic Object, section: Private and “Protected” Attributes in Python***"
   ]
  }
 ],
 "metadata": {
  "kernelspec": {
   "display_name": "Python 3 (ipykernel)",
   "language": "python",
   "name": "python3"
  },
  "language_info": {
   "codemirror_mode": {
    "name": "ipython",
    "version": 3
   },
   "file_extension": ".py",
   "mimetype": "text/x-python",
   "name": "python",
   "nbconvert_exporter": "python",
   "pygments_lexer": "ipython3",
   "version": "3.11.5"
  }
 },
 "nbformat": 4,
 "nbformat_minor": 4
}
