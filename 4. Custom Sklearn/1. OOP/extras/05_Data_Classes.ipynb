{
 "cells": [
  {
   "cell_type": "markdown",
   "metadata": {
    "slideshow": {
     "slide_type": "slide"
    }
   },
   "source": [
    "<img src='../images/cards.png' width='150px' align='right' style=\"padding: 15px\">\n",
    "\n",
    "# Data Classes\n",
    "\n",
    "## Goal\n",
    "\n",
    "In this notebook we shall explore data classes: convenient interface to create classes that contains mostly data (although no restrictions exists!).\n",
    "\n",
    "## Program\n",
    "\n",
    "- [Motivation]()\n",
    "- [Type hinting]()\n",
    "- [Immutability]()\n",
    "- [NamedTuple vs. Dataclass]()"
   ]
  },
  {
   "cell_type": "markdown",
   "metadata": {},
   "source": [
    "## Motivation\n",
    "\n",
    "Data classes were introduced from Python 3.7 (see PEP [557](https://www.python.org/dev/peps/pep-0557/)).\n",
    "\n",
    "Essentialy they are just regular classes that are geared towards storing state, rather than containing a lot of logic.\n",
    "\n",
    "This means that every time you create a class that mostly consists of attributes, you make a data class.\n",
    "\n",
    "What the **dataclasses** module does is to make it easier to create data classes. It takes care of a lot of boilerplate for you!\n"
   ]
  },
  {
   "cell_type": "markdown",
   "metadata": {
    "slideshow": {
     "slide_type": "slide"
    }
   },
   "source": [
    "Where you would have done this in the past:"
   ]
  },
  {
   "cell_type": "code",
   "execution_count": null,
   "metadata": {
    "slideshow": {
     "slide_type": ""
    }
   },
   "outputs": [],
   "source": [
    "class InventoryItem:\n",
    "    def __init__(self, name: str, unit_price: float, quantity_on_hand: int = 0) -> None:\n",
    "        self.name = name\n",
    "        self.unit_price = unit_price\n",
    "        self.quantity_on_hand = quantity_on_hand\n",
    "        \n",
    "    def __repr__(self):\n",
    "        return (f'InventoryItem(name={self.name!r}, unit_price={self.unit_price!r}, '\n",
    "                f'quantity_on_hand={self.quantity_on_hand!r})')\n",
    "        \n",
    "    def __eq__(self, other):\n",
    "        if other.__class__ is self.__class__:\n",
    "            return (self.name, self.unit_price, self.quantity_on_hand) \\\n",
    "            == (other.name, other.unit_price, other.quantity_on_hand)\n",
    "        return NotImplemented\n",
    "\n",
    "i = InventoryItem('milk', 2, 0)\n",
    "i"
   ]
  },
  {
   "cell_type": "markdown",
   "metadata": {
    "slideshow": {
     "slide_type": "subslide"
    }
   },
   "source": [
    "We can now write this"
   ]
  },
  {
   "cell_type": "code",
   "execution_count": null,
   "metadata": {},
   "outputs": [],
   "source": [
    "from dataclasses import dataclass\n",
    "\n",
    "@dataclass\n",
    "class InventoryItem:\n",
    "    '''Class for keeping track of an item in inventory.'''\n",
    "    name: str\n",
    "    unit_price: float\n",
    "    quantity_on_hand: int = 0\n",
    "\n",
    "    def total_cost(self) -> float:\n",
    "        return self.unit_price * self.quantity_on_hand"
   ]
  },
  {
   "cell_type": "markdown",
   "metadata": {
    "slideshow": {
     "slide_type": "subslide"
    }
   },
   "source": [
    "If our `init` is more complicated (for example, we may have attributes that depend on other attributes), we can use a `__post_init__` method\n",
    "```\n",
    "def __post_init__(self):\n",
    "    self.total_cost = self.unit_price * self.quantity_on_hand\n",
    "```"
   ]
  },
  {
   "cell_type": "code",
   "execution_count": null,
   "metadata": {},
   "outputs": [],
   "source": [
    "from dataclasses import dataclass, field\n",
    "\n",
    "@dataclass\n",
    "class InventoryItem:\n",
    "    '''Class for keeping track of an item in inventory.'''\n",
    "    name: str\n",
    "    unit_price: float\n",
    "    total_cost: float = field(init=False) # Question! What is the effect of setting init to be True?\n",
    "    quantity_on_hand: int = 0\n",
    " \n",
    "\n",
    "    def __post_init__(self):\n",
    "        self.total_cost = self.unit_price * self.quantity_on_hand\n",
    "        \n",
    "i = InventoryItem('milk', 2, 1)\n",
    "i"
   ]
  },
  {
   "cell_type": "markdown",
   "metadata": {
    "slideshow": {
     "slide_type": "slide"
    }
   },
   "source": [
    "## Type hinting\n",
    "Type hint is mandatory when defining the fields in your data class. Without a type hint, the field will not be a part of the data class.\n",
    "\n",
    "However, types are **not** enforced when initializing the class"
   ]
  },
  {
   "cell_type": "code",
   "execution_count": null,
   "metadata": {},
   "outputs": [],
   "source": [
    "i = InventoryItem('milk', 2, 'cow')\n",
    "i"
   ]
  },
  {
   "cell_type": "code",
   "execution_count": null,
   "metadata": {},
   "outputs": [],
   "source": [
    "i.total_cost"
   ]
  },
  {
   "cell_type": "markdown",
   "metadata": {
    "slideshow": {
     "slide_type": "subslide"
    }
   },
   "source": [
    "In this case, you just get some odd behaviour, but you can trigger errors in this way too:"
   ]
  },
  {
   "cell_type": "code",
   "execution_count": null,
   "metadata": {},
   "outputs": [],
   "source": [
    "# NBVAL_RAISES_EXCEPTION\n",
    "InventoryItem('milk', 2, {})"
   ]
  },
  {
   "cell_type": "markdown",
   "metadata": {
    "slideshow": {
     "slide_type": "slide"
    }
   },
   "source": [
    "## Immutability\n",
    "One nice thing about namedtuples is that they're immutable. \n",
    "\n",
    "Data classes can be made immutable (i.e. once initialized, no fields can be changed) by using `@dataclass(frozen=True)`"
   ]
  },
  {
   "cell_type": "code",
   "execution_count": null,
   "metadata": {},
   "outputs": [],
   "source": [
    "from dataclasses import dataclass\n",
    "\n",
    "@dataclass(frozen=True)\n",
    "class FrozenInventoryItem:\n",
    "    '''Class for keeping track of an item in inventory.'''\n",
    "    name: str\n",
    "    unit_price: float\n",
    "    quantity_on_hand: int = 0\n",
    "\n",
    "    def total_cost(self):\n",
    "        return self.unit_price * self.quantity_on_hand"
   ]
  },
  {
   "cell_type": "code",
   "execution_count": null,
   "metadata": {
    "slideshow": {
     "slide_type": "subslide"
    }
   },
   "outputs": [],
   "source": [
    "f = FrozenInventoryItem('milk', 2, 1)"
   ]
  },
  {
   "cell_type": "code",
   "execution_count": null,
   "metadata": {},
   "outputs": [],
   "source": [
    "f.total_cost()"
   ]
  },
  {
   "cell_type": "code",
   "execution_count": null,
   "metadata": {},
   "outputs": [],
   "source": [
    "# NBVAL_RAISES_EXCEPTION\n",
    "f.unit_price = 12"
   ]
  },
  {
   "cell_type": "markdown",
   "metadata": {
    "slideshow": {
     "slide_type": "slide"
    }
   },
   "source": [
    "## NamedTuple vs Dataclass"
   ]
  },
  {
   "cell_type": "markdown",
   "metadata": {},
   "source": [
    "Given the functionality, it's natural to compare `NamedTuples` with `Dataclasses`. The biggest differences between `NamedTuple` and `Dataclass` (apart from availability depending on Python version) are:\n",
    "- `NamedTuple` is immutable by default, and cannot be mutable; `Dataclass` is mutable by default, but can be made immutable\n",
    "- The implementation of `NamedTuple` is based on tuples, whereas `Dataclass` is based on `Dict`. This leads to some differences in behaviour:"
   ]
  },
  {
   "cell_type": "code",
   "execution_count": null,
   "metadata": {
    "slideshow": {
     "slide_type": "subslide"
    }
   },
   "outputs": [],
   "source": [
    "import collections\n",
    "Point = collections.namedtuple('Point', ['x', 'y'])\n",
    "p1 = Point(1,2)\n",
    "p1"
   ]
  },
  {
   "cell_type": "code",
   "execution_count": null,
   "metadata": {},
   "outputs": [],
   "source": [
    "p1[0]"
   ]
  },
  {
   "cell_type": "code",
   "execution_count": null,
   "metadata": {},
   "outputs": [],
   "source": [
    "from dataclasses import dataclass\n",
    "\n",
    "@dataclass(frozen=True)\n",
    "class Pointer:\n",
    "    x: float\n",
    "    y: float\n",
    "p2 = Pointer(1,2)\n",
    "p2"
   ]
  },
  {
   "cell_type": "code",
   "execution_count": null,
   "metadata": {},
   "outputs": [],
   "source": [
    "p2.x"
   ]
  },
  {
   "cell_type": "markdown",
   "metadata": {
    "slideshow": {
     "slide_type": "subslide"
    }
   },
   "source": [
    "`NamedTuple` will allow you to unpack the values, whereas `Dataclass` won't:"
   ]
  },
  {
   "cell_type": "code",
   "execution_count": null,
   "metadata": {},
   "outputs": [],
   "source": [
    "x, y = p1\n",
    "print(x)\n",
    "print(y)"
   ]
  },
  {
   "cell_type": "code",
   "execution_count": null,
   "metadata": {},
   "outputs": [],
   "source": [
    "# NBVAL_RAISES_EXCEPTION\n",
    "x, y = p2"
   ]
  },
  {
   "cell_type": "markdown",
   "metadata": {
    "slideshow": {
     "slide_type": "subslide"
    }
   },
   "source": [
    "Due to the underlying implementation, there are some performance considerations to take into account when choosing between these two data structures. There is a nice blog [here](https://medium.com/@jacktator/dataclass-vs-namedtuple-vs-object-for-performance-optimization-in-python-691e234253b9) that compares the two. In summary:\n",
    "\n",
    "- DataClass is faster at reading the object, nested properties and executing functions.\n",
    "- NamedTuple is faster at only creating the object."
   ]
  },
  {
   "cell_type": "markdown",
   "metadata": {
    "slideshow": {
     "slide_type": "slide"
    }
   },
   "source": [
    "# Summary\n",
    "\n",
    "Dataclasses are a powerful tool in your Python toolbox that allow you to deal with data easily and quickly, without having to define a lot of boilerplate class methods.\n",
    "\n",
    "You can use the `__post_init__` method to do more complex initialization.\n",
    "\n",
    "Dataclasses and NamedTuples are quite similar in terms of usage. The biggest differences:\n",
    "- `NamedTuple` is immutable by default, and cnanot be mutable; `Dataclass` is mutable by default, but can be me made immutable\n",
    "- The implementation of `NamedTuple` is based on tuples, whereas `Dataclass` is based on `Dict`."
   ]
  }
 ],
 "metadata": {
  "kernelspec": {
   "display_name": "Python 3 (ipykernel)",
   "language": "python",
   "name": "python3"
  },
  "language_info": {
   "codemirror_mode": {
    "name": "ipython",
    "version": 3
   },
   "file_extension": ".py",
   "mimetype": "text/x-python",
   "name": "python",
   "nbconvert_exporter": "python",
   "pygments_lexer": "ipython3",
   "version": "3.9.7"
  }
 },
 "nbformat": 4,
 "nbformat_minor": 2
}
