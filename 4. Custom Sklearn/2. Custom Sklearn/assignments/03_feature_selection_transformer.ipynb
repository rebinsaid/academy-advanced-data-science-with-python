{
 "cells": [
  {
   "cell_type": "markdown",
   "id": "a6bbcf82-6a7a-436b-8722-975820fe3731",
   "metadata": {},
   "source": [
    "<img src=\"../images/logo.png\" align='right' width=250px>\n",
    "\n",
    "# Feature Selection as a Transformer\n",
    "\n",
    "In this notebook we will create a custom transformer to perform feature selection."
   ]
  },
  {
   "cell_type": "code",
   "execution_count": null,
   "id": "egyptian-cocktail",
   "metadata": {},
   "outputs": [],
   "source": [
    "import pandas as pd\n",
    "import numpy as np\n",
    "\n",
    "from sklearn.model_selection import train_test_split\n",
    "\n",
    "from sklearn.pipeline import Pipeline\n",
    "from sklearn.preprocessing import MinMaxScaler\n",
    "from sklearn.neighbors import KNeighborsRegressor\n",
    "from sklearn.feature_selection import VarianceThreshold\n",
    "from sklearn.metrics import mean_absolute_error, r2_score"
   ]
  },
  {
   "cell_type": "markdown",
   "id": "11ad11bf-d204-44db-9f70-63f657480b0e",
   "metadata": {},
   "source": [
    "\n",
    "Consider this dataset of food recipes. In total, it has 445 features - way too many! \n",
    "\n",
    "![](https://i.pinimg.com/236x/83/d8/52/83d8524ad3deddf5e7045ba795eb3b98--cartoon-cooking-food-doodles.jpg)\n"
   ]
  },
  {
   "cell_type": "code",
   "execution_count": null,
   "id": "australian-findings",
   "metadata": {},
   "outputs": [],
   "source": [
    "food_df = pd.read_csv(\"../data/food_recipes.csv\")\n",
    "food_df.head()"
   ]
  },
  {
   "cell_type": "code",
   "execution_count": null,
   "id": "warming-letters",
   "metadata": {},
   "outputs": [],
   "source": [
    "y = food_df.dropna()[\"calories\"].reset_index(drop=True)\n",
    "X = (\n",
    "    food_df.dropna()\n",
    "    .drop([\"calories\", \"title\", \"rating\"], axis=\"columns\")\n",
    "    .reset_index(drop=True)\n",
    ")\n",
    "\n",
    "X_train, X_test, y_train, y_test = train_test_split(\n",
    "    X, y, test_size=0.25, random_state=111\n",
    ")"
   ]
  },
  {
   "cell_type": "markdown",
   "id": "monetary-index",
   "metadata": {},
   "source": [
    "### The Baseline Model\n",
    "\n",
    "Create a modelling pipeline for this dataset. \n",
    "* Use `VarianceThreshold` (see [documentation](https://scikit-learn.org/stable/modules/generated/sklearn.feature_selection.VarianceThreshold.html#sklearn.feature_selection.VarianceThreshold) on how to use) to eliminate features based on little variance. A good value would be ~0.05.\n",
    "* Use a scaling technique. \n",
    "* Choose a regression model, preferably one sensistive to irrelevant features. E.g. k-nearest neighbors regressor. "
   ]
  },
  {
   "cell_type": "code",
   "execution_count": null,
   "id": "prepared-brooklyn",
   "metadata": {},
   "outputs": [],
   "source": [
    "# Your code here."
   ]
  },
  {
   "cell_type": "code",
   "execution_count": null,
   "id": "bearing-circus",
   "metadata": {},
   "outputs": [],
   "source": [
    "# %load ../answers/variance_threshold.py"
   ]
  },
  {
   "cell_type": "code",
   "execution_count": null,
   "id": "threatened-globe",
   "metadata": {},
   "outputs": [],
   "source": [
    "# Calculate scores.\n",
    "r2 = r2_score(y_test, y_pred)\n",
    "MAE = mean_absolute_error(y_test, y_pred)\n",
    "\n",
    "# Report.\n",
    "print(f\"r2 score: {r2:.3f}\")\n",
    "print(f\"mea: {MAE:.3f}\")"
   ]
  },
  {
   "cell_type": "markdown",
   "id": "fallen-method",
   "metadata": {},
   "source": [
    "### The Assigment\n",
    "\n",
    "The goal is to only use those features that satisfy the `f_regression` test. The code that did this for you previously is available. However, keep in mind that this code is only compatible with Pandas. While an individual transformer can be compatible with Pandas, a transformer used in a pipeline will receive the output of a previous transformer, i.e. a numpy array.\n",
    "\n",
    "\n",
    "* Create a feature selection transformer based on the `f_regression` test. \n",
    "* Make sure the transformer is compatible with `numpy` arrays, not only Pandas DataFrames.\n",
    "* Let the threshold (0.05 originally) be a tunable hyperparameter.\n"
   ]
  },
  {
   "cell_type": "code",
   "execution_count": null,
   "id": "anonymous-catholic",
   "metadata": {},
   "outputs": [],
   "source": [
    "# OLD CODE.\n",
    "from sklearn.feature_selection import f_regression\n",
    "\n",
    "# Perform test.\n",
    "_, p_values = f_regression(X_train, y_train)\n",
    "\n",
    "# Columns to drop.\n",
    "columns_to_drop = X_train.columns[p_values > 0.05]\n",
    "\n",
    "# Convert data into Pandas dataframe.\n",
    "X_train_reduced = X_train.drop(columns_to_drop, axis=\"columns\")\n",
    "X_test_reduced = X_test.drop(columns_to_drop, axis=\"columns\")"
   ]
  },
  {
   "cell_type": "code",
   "execution_count": null,
   "id": "isolated-muslim",
   "metadata": {},
   "outputs": [],
   "source": [
    "# YOUR CODE."
   ]
  },
  {
   "cell_type": "code",
   "execution_count": null,
   "id": "attractive-choir",
   "metadata": {},
   "outputs": [],
   "source": [
    "# %load ../answers/feature_selector.py"
   ]
  },
  {
   "cell_type": "markdown",
   "id": "funded-casting",
   "metadata": {},
   "source": [
    "In order to test your code, create a pipeline just like the one before that includes your transformer. \n",
    "\n",
    "Experiment with differrent values for the threshold paramter. What value gives the best test performance?"
   ]
  },
  {
   "cell_type": "code",
   "execution_count": null,
   "id": "female-violence",
   "metadata": {},
   "outputs": [],
   "source": [
    "# Your pipeline with feature selection transformer."
   ]
  },
  {
   "cell_type": "code",
   "execution_count": null,
   "id": "political-disabled",
   "metadata": {},
   "outputs": [],
   "source": [
    "# Calculate scores.\n",
    "r2 = r2_score(y_test, y_pred)\n",
    "MAE = mean_absolute_error(y_test, y_pred)\n",
    "\n",
    "# Report.\n",
    "print(f\"r2 score: {r2:.3f}\")\n",
    "print(f\"mea: {MAE:.3f}\")"
   ]
  }
 ],
 "metadata": {
  "kernelspec": {
   "display_name": "Python 3 (ipykernel)",
   "language": "python",
   "name": "python3"
  },
  "language_info": {
   "codemirror_mode": {
    "name": "ipython",
    "version": 3
   },
   "file_extension": ".py",
   "mimetype": "text/x-python",
   "name": "python",
   "nbconvert_exporter": "python",
   "pygments_lexer": "ipython3",
   "version": "3.11.6"
  }
 },
 "nbformat": 4,
 "nbformat_minor": 5
}
