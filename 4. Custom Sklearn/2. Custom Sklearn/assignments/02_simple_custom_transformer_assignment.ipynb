{
 "cells": [
  {
   "cell_type": "markdown",
   "metadata": {},
   "source": [
    "<img src=\"../images/logo.png\" align='right' width=250px>\n",
    "\n",
    "# Custom Transformer Assignment\n",
    "\n",
    "This is the first and simplest version of the custom transformer assignment. We will provide you with a piece of code that correctly handles our data, and you have to rewrite is as a transformer! \n"
   ]
  },
  {
   "cell_type": "code",
   "execution_count": null,
   "metadata": {},
   "outputs": [],
   "source": [
    "import numpy as np"
   ]
  },
  {
   "cell_type": "markdown",
   "metadata": {},
   "source": [
    "## Part I\n",
    "Imagine we have a dataset with six columns of dummy variables. We want to perform feature selection and remove all the columns where the values are the same. "
   ]
  },
  {
   "cell_type": "code",
   "execution_count": null,
   "metadata": {},
   "outputs": [],
   "source": [
    "X = np.array(\n",
    "    [\n",
    "        [0, 0, 0, 0, 0],\n",
    "        [0, 0, 1, 0, 1],\n",
    "        [0, 0, 0, 0, 1],\n",
    "        [1, 1, 1, 1, 1],\n",
    "        [0, 1, 0, 1, 1],\n",
    "        [1, 1, 1, 1, 1],\n",
    "    ]\n",
    ").T\n",
    "X"
   ]
  },
  {
   "cell_type": "markdown",
   "metadata": {},
   "source": [
    "Luckily, we already know what piece of Python code would help us with this:"
   ]
  },
  {
   "cell_type": "code",
   "execution_count": null,
   "metadata": {},
   "outputs": [],
   "source": [
    "sums = np.sum(X, axis=0)\n",
    "idx = np.where(~(sums == 0) & ~(sums == 5))[0]\n",
    "removed_columns_X = X[:, idx]\n",
    "removed_columns_X"
   ]
  },
  {
   "cell_type": "markdown",
   "metadata": {},
   "source": [
    "However, we would like to create a scikit-learn transformer that does this for us, so it becomes part of the pipeline! Let's create this transformer.\n",
    "\n",
    "There are a couple of steps to take: \n",
    "* Your imports: Which classes do you import that your custom transformer should inherit from? _Hint:_ Checkout the [documentation](https://scikit-learn.org/stable/modules/classes.html#module-sklearn.base).\n",
    "* Define your class! We assume you will call it `CustomTransformer`, but it can be named anything. Keep in mind that the check later on assumes it's called CustomTransformer.\n",
    "* `.__init__()` method: This is where you pass arguments to that you'll need in your fit or transform method. Is that the case for this example? \n",
    "* `.fit()` method: this can take some arguments, but it should always return its own class (self) at the end. For now let's just return `self` and nothing else.\n",
    "* `.transform()` method: This is where the magic happens. Make sure you're not mutating the input data! "
   ]
  },
  {
   "cell_type": "code",
   "execution_count": null,
   "metadata": {},
   "outputs": [],
   "source": [
    "# Your code here."
   ]
  },
  {
   "cell_type": "code",
   "execution_count": null,
   "metadata": {},
   "outputs": [],
   "source": [
    "# %load ../answers/simple_part_1.py"
   ]
  },
  {
   "cell_type": "markdown",
   "metadata": {},
   "source": [
    "Let's check our implementation!"
   ]
  },
  {
   "cell_type": "code",
   "execution_count": null,
   "metadata": {},
   "outputs": [],
   "source": [
    "transformer = CustomTransformer()\n",
    "transformer.fit_transform(X)"
   ]
  },
  {
   "cell_type": "markdown",
   "metadata": {},
   "source": [
    "_Bonus_: Show how you can use your CustomTransformer in a pipeline. Create a pipeline with your CustomTransformer and a KMeans clustering model (as we have no _y_).\n",
    "\n",
    "## Part 2\n",
    "\n",
    "Now, let's say we have some new data. Our transformer was fitted on the original data; this means that on our new data, the same columns (indices) should be deleted as for the original dataset - even if, in this case, these columns _do_ contain dissimilar values.\n",
    "\n",
    "Edit the transformer from Part 1 to store in its internal state which columns should be kept when the transformation is applied."
   ]
  },
  {
   "cell_type": "code",
   "execution_count": null,
   "metadata": {},
   "outputs": [],
   "source": [
    "X_test = np.array(\n",
    "    [\n",
    "        [0, 0, 1, 0, 0],\n",
    "        [1, 0, 0, 0, 0],\n",
    "        [0, 0, 1, 1, 1],\n",
    "        [1, 1, 0, 0, 1],\n",
    "        [0, 0, 0, 0, 0],\n",
    "        [1, 0, 1, 1, 1],\n",
    "    ]\n",
    ").T\n",
    "X_test"
   ]
  },
  {
   "cell_type": "code",
   "execution_count": null,
   "metadata": {},
   "outputs": [],
   "source": [
    "# Your new transformer code here."
   ]
  },
  {
   "cell_type": "code",
   "execution_count": null,
   "metadata": {},
   "outputs": [],
   "source": [
    "# %load ../answers/simple_part_2.py"
   ]
  },
  {
   "cell_type": "code",
   "execution_count": null,
   "metadata": {},
   "outputs": [],
   "source": [
    "X_test_transformed = transformer.transform(X_test)\n",
    "X_test_transformed"
   ]
  },
  {
   "cell_type": "markdown",
   "metadata": {},
   "source": [
    "Run the cell below to test whether your implementation has performed the implementation as expected."
   ]
  },
  {
   "cell_type": "code",
   "execution_count": null,
   "metadata": {},
   "outputs": [],
   "source": [
    "# Test cell\n",
    "answer = np.array([[1, 0, 0], [0, 0, 0], [0, 1, 0], [0, 1, 0], [0, 1, 0]])\n",
    "assert np.all(answer == X_test_transformed)"
   ]
  }
 ],
 "metadata": {
  "kernelspec": {
   "display_name": "Python 3 (ipykernel)",
   "language": "python",
   "name": "python3"
  },
  "language_info": {
   "codemirror_mode": {
    "name": "ipython",
    "version": 3
   },
   "file_extension": ".py",
   "mimetype": "text/x-python",
   "name": "python",
   "nbconvert_exporter": "python",
   "pygments_lexer": "ipython3",
   "version": "3.11.8"
  }
 },
 "nbformat": 4,
 "nbformat_minor": 4
}
