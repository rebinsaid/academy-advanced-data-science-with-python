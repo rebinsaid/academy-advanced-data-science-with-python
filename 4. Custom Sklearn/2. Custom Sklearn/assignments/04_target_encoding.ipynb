{
 "cells": [
  {
   "cell_type": "markdown",
   "id": "dab3d160-e5c1-4d67-a24c-40c516927286",
   "metadata": {},
   "source": [
    "<img src=\"../images/logo.png\" align='right' width=250px>\n",
    "\n",
    "# Target Encoder assignment\n",
    "\n",
    "Most machine learning algorithms require the input data to be numerical. This means that, at some point, we have to make a decision on how to convert categorical variables to numerical variables. In this notebook we will examine an alternate encooding strategy."
   ]
  },
  {
   "cell_type": "code",
   "execution_count": null,
   "id": "alternate-copper",
   "metadata": {},
   "outputs": [],
   "source": [
    "import pandas as pd\n",
    "import numpy as np"
   ]
  },
  {
   "cell_type": "markdown",
   "id": "2dccf325-2000-41f9-963f-834db9366b5f",
   "metadata": {},
   "source": [
    "In [label encoding](http://scikit-learn.org/stable/modules/generated/sklearn.preprocessing.LabelEncoder.html), an arbitrary numeric value is chosen for each category. However, this introduces a false relationship into the data: _cat_ and _hamster_ seem to be further apart than _cat_ and _dog_!\n",
    "\n",
    "| Feature | Label Encoding | Target |\n",
    "| --- | --- | --- |\n",
    "| cat | 0 | 1 |\n",
    "| dog | 1 | 1 |\n",
    "| cat | 0 | 0 |\n",
    "| hamster | 2 | 0 |\n",
    "\n",
    "A solution to this is [one-hot-encoding](http://scikit-learn.org/stable/modules/generated/sklearn.preprocessing.OneHotEncoder.html), which converts categorical variables to numerical variables by creating a binary column per category.\n",
    "\n",
    "| Feature | isCat | isDog | isHamster | Target |\n",
    "| --- | --- | --- | --- | --- |\n",
    "| cat | 1 | 0 | 0 |  1 |\n",
    "| dog | 0 | 1 | 0 |  1 |\n",
    "| cat | 1 | 0 | 0 |  0 |\n",
    "| hamster | 0 | 0 | 1 |  0 |\n",
    "\n",
    "However, if a variable has a lot of categories, then a one-hot encoding scheme will produce many columns which can cause memory issues. In such case, **target encoding** can be a solution. \n",
    "\n",
    "| Feature | Target Encoding | Target |\n",
    "| --- | --- | --- |\n",
    "| cat | .40 | 1 |\n",
    "| hamster | .50 | 0 |\n",
    "| cat | .40 | 0 |\n",
    "| cat | .40 | 1 |\n",
    "| dog | .67 | 1 |\n",
    "| hamster | .50 | 1 |\n",
    "| cat | .40 | 0 |\n",
    "| dog | .67 | 1 |\n",
    "| cat | .40 | 0 |\n",
    "| dog | .67 | 0 |\n",
    "\n",
    "For example, cat had a target value of 0 three times and 1 twice. This corresponds to a target encoding of $\\frac{2}{5}=0.40$.\n",
    "\n",
    "Further reading: [Target encoding done the right way](https://maxhalford.github.io/blog/target-encoding/) by Max Halford.\n",
    "\n",
    "\n",
    "### Assignment 1\n",
    "Create a `TargetEncoder` which transforms the data in the following way: \n",
    "1. Group the data by each category and count the number of occurences of each target\n",
    "2. Calculate the probability of the target/label given the category group\n",
    "3. Create a new column with the probabilities\n",
    "\n",
    "Keep in mind what data your transformer expects: a pandas DataFrame or a numpy array? "
   ]
  },
  {
   "cell_type": "code",
   "execution_count": null,
   "id": "forced-binary",
   "metadata": {},
   "outputs": [],
   "source": [
    "df = pd.DataFrame(\n",
    "    {\n",
    "        \"animals\": [\n",
    "            \"cat\",\n",
    "            \"hamster\",\n",
    "            \"cat\",\n",
    "            \"cat\",\n",
    "            \"dog\",\n",
    "            \"hamster\",\n",
    "            \"cat\",\n",
    "            \"dog\",\n",
    "            \"cat\",\n",
    "            \"dog\",\n",
    "        ],\n",
    "        \"label\": [1, 0, 0, 1, 1, 1, 0, 1, 0, 0],\n",
    "    }\n",
    ")\n",
    "\n",
    "df"
   ]
  },
  {
   "cell_type": "code",
   "execution_count": null,
   "id": "insured-trash",
   "metadata": {},
   "outputs": [],
   "source": [
    "# Your code."
   ]
  },
  {
   "cell_type": "code",
   "execution_count": null,
   "id": "increased-stage",
   "metadata": {},
   "outputs": [],
   "source": [
    "# %load ../answers/target_encoding_part_1_pandas.py"
   ]
  },
  {
   "cell_type": "code",
   "execution_count": null,
   "id": "presidential-toronto",
   "metadata": {},
   "outputs": [],
   "source": [
    "# %load ../answers/target_encoding_part_1_numpy.py"
   ]
  },
  {
   "cell_type": "markdown",
   "id": "union-daily",
   "metadata": {},
   "source": [
    "** Questions **\n",
    "1. Can you think of a way to adjust this implementation to also be usable for continuous variables? \n",
    "2. Can you think of a problem with this approach? What would would happen if the dataset was imbalanced? "
   ]
  },
  {
   "cell_type": "markdown",
   "id": "union-christopher",
   "metadata": {},
   "source": [
    "### Assignment 2\n",
    "\n",
    "A problem with target encoding is that the average value is not necessarily a reliable measure when the number of values used to calculate that value is low. \n",
    "\n",
    "Therefore, we are going to implement [_additive smoothing_](https://www.wikiwand.com/en/Additive_smoothing). This is also what IMDb uses to rate its movies to ensure that a movie with a few high ratings will not overtake the current first ranked movie (the Shawshank Redemption, 9.3 average based on 2,364,548 reviews). See [example](https://www.wikiwand.com/en/Bayes_estimator#/Practical_example_of_Bayes_estimators).\n",
    "\n",
    "Mathematically, this can be represented as: \n",
    "\n",
    "$\\mu = \\frac{n \\times \\bar{x} + m \\times w}{n + m}$\n",
    "\n",
    "where\n",
    "* $\\mu$ is going to replace our categorical value\n",
    "* $n$ is the number of values we have\n",
    "* $\\bar{x}$ is the estimated mean\n",
    "* $m$ is the weight you want to assign to the overall mean\n",
    "* $w$ is the overal mean\n",
    "\n",
    "This means that $m$ is a hyperparameter you have to set. The higher $m$, the more you rely on the overall mean. If $m$ is set to zero, you are not doing any smoothing whatsoever. "
   ]
  },
  {
   "cell_type": "code",
   "execution_count": null,
   "id": "identified-chambers",
   "metadata": {},
   "outputs": [],
   "source": [
    "# Your code."
   ]
  },
  {
   "cell_type": "code",
   "execution_count": null,
   "id": "disturbed-venue",
   "metadata": {},
   "outputs": [],
   "source": [
    "# %load ../answers/target_encoding_smoothing.py"
   ]
  }
 ],
 "metadata": {
  "kernelspec": {
   "display_name": "Python 3 (ipykernel)",
   "language": "python",
   "name": "python3"
  },
  "language_info": {
   "codemirror_mode": {
    "name": "ipython",
    "version": 3
   },
   "file_extension": ".py",
   "mimetype": "text/x-python",
   "name": "python",
   "nbconvert_exporter": "python",
   "pygments_lexer": "ipython3",
   "version": "3.11.8"
  }
 },
 "nbformat": 4,
 "nbformat_minor": 5
}
