{
 "cells": [
  {
   "cell_type": "markdown",
   "metadata": {},
   "source": [
    "\n",
    "\n",
    "<img src='images/gdd-logo.png' width='300px' align='right' style=\"padding: 15px\">\n",
    "\n",
    "# Decorators\n",
    "\n",
    "A decorator is a **design pattern** in Python that allows a user to **add new functionality** to an existing object **without modifying its structure**. For example, easily adding the functionality to time how long a function takes to run, without having to rewrite it. \n",
    "\n",
    "They are usually called before the definition of a function you want to decorate. \n",
    "\n",
    "Functions in Python are ***first class citizens***. This means they support operations such as being:\n",
    "- Passed as an argument\n",
    "- Returned from another function\n",
    "- Modified\n",
    "- Assigned to a variable \n",
    "\n",
    "A function being a ***first class citizen*** is a fundamental concept to understand to fully understand Python decorators. \n",
    "\n",
    "Therefore, notebook is split into two sections:\n",
    "<img src='images/python-paint.png' width='200px' align='right' style=\"padding: 15px\">\n",
    "\n",
    "**Decorator Pre-requisites**\n",
    "- [Assigning Functions to Variables](#assigning)\n",
    "- [Defining Functions Inside other Functions](#defining)\n",
    "- [Passing Functions as Arguments to other Functions](#passing)\n",
    "- [Functions Returning other Functions](#return)\n",
    "- [Nested Functions have access to the Enclosing Function's Variable Scope](#nested)\n",
    "\n",
    "**Creating Decorators**\n",
    "- [Motivation for Decorators](#motivate)\n",
    "- [Creating your first Decorator](#create)\n",
    "- [Applying Multiple Decorators](#applying)\n",
    "- [Accepting Arguments in Decorator Functions](#accepting)\n",
    "- [Defining General Purpose Decorators](#defining)\n",
    "\n",
    "[**Usecases of decorators**](#usecases)"
   ]
  },
  {
   "cell_type": "markdown",
   "metadata": {},
   "source": [
    "<a id='assigning'></a>\n",
    "## Decorator Pre-requisites\n",
    "\n",
    "### Assigning Functions to Variables\n",
    "\n",
    "Let's take a function, that will multiply a number by 2 and assign it to a variable. You can then use this variable to call the function."
   ]
  },
  {
   "cell_type": "code",
   "execution_count": null,
   "metadata": {},
   "outputs": [],
   "source": [
    "def times_two(number):\n",
    "    return number * 2\n",
    "\n",
    "multiply_two = times_two\n",
    "multiply_two(5)"
   ]
  },
  {
   "cell_type": "markdown",
   "metadata": {},
   "source": [
    "<a id='defining'></a>\n",
    "### Defining Functions Inside other Functions\n",
    "Next, let's define a function inside another function in Python. This becomes very relevant when creating and understanding decorators."
   ]
  },
  {
   "cell_type": "code",
   "execution_count": null,
   "metadata": {},
   "outputs": [],
   "source": [
    "def multiply_two(number):\n",
    "    def times_two(number):\n",
    "        return number * 2\n",
    "\n",
    "    result = times_two(number)\n",
    "    return result\n",
    "\n",
    "multiply_two(11)"
   ]
  },
  {
   "cell_type": "markdown",
   "metadata": {},
   "source": [
    "<a id='passing'></a>\n",
    "### Passing Functions as Arguments to other Functions\n",
    "Functions can also be passed as arguments to other functions. "
   ]
  },
  {
   "cell_type": "code",
   "execution_count": null,
   "metadata": {},
   "outputs": [],
   "source": [
    "def multiply_two(number):\n",
    "    return number * 2\n",
    "\n",
    "def function_call(function):\n",
    "    number_to_multiply = 5\n",
    "    return function(number_to_multiply)\n",
    "\n",
    "function_call(multiply_two)"
   ]
  },
  {
   "cell_type": "markdown",
   "metadata": {},
   "source": [
    "<a id='return'></a>\n",
    "### Functions Returning other Functions\n",
    "A function can also generate another function. "
   ]
  },
  {
   "cell_type": "code",
   "execution_count": null,
   "metadata": {},
   "outputs": [],
   "source": [
    "def hello_function():\n",
    "    \n",
    "    def say_hi():\n",
    "        return \"Hello!\"\n",
    "    \n",
    "    return say_hi\n",
    "\n",
    "hello = hello_function()\n",
    "hello()"
   ]
  },
  {
   "cell_type": "markdown",
   "metadata": {},
   "source": [
    "<a id='nested'></a>\n",
    "### Nested Functions have access to the Enclosing Function's Variable Scope\n",
    "Python allows a nested function to access the outer scope of the enclosing function. This is a critical concept in decorators -- this pattern is known as ***Closure***."
   ]
  },
  {
   "cell_type": "code",
   "execution_count": null,
   "metadata": {},
   "outputs": [],
   "source": [
    "def hello_function(name='World'):\n",
    "    \"Enclosing Function\"\n",
    "    \n",
    "    def say_hi():\n",
    "        \"Nested Function\"\n",
    "        print(f\"Hello, {name}!\")\n",
    "    \n",
    "    say_hi()\n",
    "\n",
    "hello_function()"
   ]
  },
  {
   "cell_type": "markdown",
   "metadata": {},
   "source": [
    "---\n",
    "<a id='motivate'></a>\n",
    "## Creating Decorators\n",
    "### Motivation\n",
    "\n",
    "Okay, now that you revisited the operations that you can perform on functions, lets look at how this ties in with Python Decorators:\n",
    "\n",
    "Below is a simple function that returns some text."
   ]
  },
  {
   "cell_type": "code",
   "execution_count": null,
   "metadata": {},
   "outputs": [],
   "source": [
    "def say_hi():\n",
    "    return 'hello, world!'\n",
    "say_hi()"
   ]
  },
  {
   "cell_type": "markdown",
   "metadata": {},
   "source": [
    "Let's imagine you wanted the option of returning the text in upper case. \n",
    "\n",
    "Of course, one option would be to simply rewrite our function. "
   ]
  },
  {
   "cell_type": "code",
   "execution_count": null,
   "metadata": {},
   "outputs": [],
   "source": [
    "def say_hi(upper=False):\n",
    "    if upper:\n",
    "        return 'hello, world!'.upper()\n",
    "    else:\n",
    "        return 'hello, world!'\n",
    "say_hi(upper=True)"
   ]
  },
  {
   "cell_type": "markdown",
   "metadata": {},
   "source": [
    "Alternatively, you could add this functionality by creating a decorator! This has the benefit of leaving our original function unchanged. Furthermore, it would allow you to add the functionality to other functions, too!"
   ]
  },
  {
   "cell_type": "markdown",
   "metadata": {},
   "source": [
    "<a id='create'></a>\n",
    "### Creating your first Decorator\n",
    "\n",
    "You will now create a simple decorator that can convert the output of a function to uppercase.\n",
    "\n",
    "How do you do this?\n",
    " 1. The decorator function takes a **function as an argument.**\n",
    " 2. You then create a **wrapper function**, which wraps around the function you passed and modifies its inputs or outputs.\n",
    " 3. Lastly, the decorator function **returns the wrapper function**."
   ]
  },
  {
   "cell_type": "code",
   "execution_count": null,
   "metadata": {},
   "outputs": [],
   "source": [
    "def uppercase_decorator(function):\n",
    "    \n",
    "    def wrapper():\n",
    "        return function().upper()\n",
    "\n",
    "    return wrapper"
   ]
  },
  {
   "cell_type": "markdown",
   "metadata": {},
   "source": [
    "Notice that the decorator takes a function as an argument and returns a different function!\n",
    "\n",
    "To modify your function, you could assign the decorator function that uses the say_hi as input to a variable that you could then call later on."
   ]
  },
  {
   "cell_type": "code",
   "execution_count": null,
   "metadata": {},
   "outputs": [],
   "source": [
    "def say_hi():\n",
    "    return 'hello, world!'\n",
    "\n",
    "decorate = uppercase_decorator(say_hi)\n",
    "decorate()"
   ]
  },
  {
   "cell_type": "markdown",
   "metadata": {},
   "source": [
    "However, Python provides a much easier way for you to apply decorators. You simply use the `@` symbol before the function you would like to decorate. Let's show that in practice below."
   ]
  },
  {
   "cell_type": "code",
   "execution_count": null,
   "metadata": {},
   "outputs": [],
   "source": [
    "@uppercase_decorator\n",
    "def say_hi():\n",
    "    return 'hello, world!'\n",
    "\n",
    "say_hi()"
   ]
  },
  {
   "cell_type": "markdown",
   "metadata": {},
   "source": [
    "### <mark>Exercise: Create a \"Split String\" decorator</mark>\n",
    "\n",
    "Create a decorator that would change a string into a list of words and test it on the `say_hi` function."
   ]
  },
  {
   "cell_type": "code",
   "execution_count": null,
   "metadata": {},
   "outputs": [],
   "source": []
  },
  {
   "cell_type": "code",
   "execution_count": null,
   "metadata": {},
   "outputs": [],
   "source": [
    "# %load answers/ex-decorators1.py"
   ]
  },
  {
   "cell_type": "markdown",
   "metadata": {},
   "source": [
    "<mark>**Bonus:**</mark> Create a decorator named `time_it` that prints the number of seconds a function needed to be executed.\n",
    "\n",
    "*Hint: Import the `time` package from base Python and use `time.time()` before and after the function execution to calculate a time difference.*"
   ]
  },
  {
   "cell_type": "code",
   "execution_count": null,
   "metadata": {},
   "outputs": [],
   "source": []
  },
  {
   "cell_type": "code",
   "execution_count": null,
   "metadata": {},
   "outputs": [],
   "source": [
    "# %load answers/ex-decorators1-bonus.py"
   ]
  },
  {
   "cell_type": "markdown",
   "metadata": {},
   "source": [
    "<a id='applying'></a>\n",
    "### Applying Multiple Decorators\n",
    "You can also apply multiple decorators to a single function. \n",
    "\n",
    "Let's apply both of our decorators to the `say_hi` function being mindful about order."
   ]
  },
  {
   "cell_type": "code",
   "execution_count": null,
   "metadata": {},
   "outputs": [],
   "source": [
    "# @split_string\n",
    "# @uppercase_decorator\n",
    "def say_hi():\n",
    "    return 'hello, world'\n",
    "\n",
    "say_hi()"
   ]
  },
  {
   "cell_type": "markdown",
   "metadata": {},
   "source": [
    "<mark>***Questions:***</mark>"
   ]
  },
  {
   "cell_type": "markdown",
   "metadata": {},
   "source": [
    "1. In what order do the decorators get applied? (top down or bottom up?)"
   ]
  },
  {
   "cell_type": "raw",
   "metadata": {},
   "source": []
  },
  {
   "cell_type": "markdown",
   "metadata": {},
   "source": [
    "2. Why can't you reverse the order of these decorators?"
   ]
  },
  {
   "cell_type": "raw",
   "metadata": {},
   "source": []
  },
  {
   "cell_type": "markdown",
   "metadata": {},
   "source": [
    "<details>\n",
    "    \n",
    "  <summary><span style=\"color:blue\">Show answers</span></summary>\n",
    "  \n",
    "1. First, the `uppercase_decorator` is applied and then the `split_string` decorator.\n",
    "2. Because the `uppercase_decorator` applies the `.upper()` method which does not work on lists (which you would have, if you applied `split_string` first). \n",
    "    \n",
    "</details>"
   ]
  },
  {
   "cell_type": "markdown",
   "metadata": {},
   "source": [
    "<a id='accepting'></a>\n",
    "\n",
    "### Accepting Arguments in Decorator Functions\n",
    "Sometimes, you might need to define a decorator that accepts arguments. You achieve this by **passing the arguments to the wrapper** function. You can then pass these arguments to the function that is being decorated at call time."
   ]
  },
  {
   "cell_type": "code",
   "execution_count": null,
   "metadata": {},
   "outputs": [],
   "source": [
    "# @uppercase_decorator\n",
    "def cities(city_one, city_two):\n",
    "    return f\"I travelled from {city_one} to {city_two}\"\n",
    "\n",
    "cities(\"Amsterdam\", \"New York\")"
   ]
  },
  {
   "cell_type": "code",
   "execution_count": null,
   "metadata": {},
   "outputs": [],
   "source": [
    "def decorator_with_arguments(function):\n",
    "    \n",
    "    def wrapper_accepting_arguments(arg1, arg2):\n",
    "        print(f\"My arguments are: {arg1}, {arg2}\")\n",
    "        result = function(arg1, arg2)\n",
    "        return result\n",
    "        \n",
    "    return wrapper_accepting_arguments\n",
    "\n",
    "\n",
    "@decorator_with_arguments\n",
    "def cities(city_one, city_two):\n",
    "    return f\"I travelled from {city_one} to {city_two}\"\n",
    "\n",
    "cities(\"Amsterdam\", \"New York\")"
   ]
  },
  {
   "cell_type": "markdown",
   "metadata": {},
   "source": [
    "<a id='defining'></a>\n",
    "\n",
    "### Defining General Purpose Decorators\n",
    "To define a general purpose decorator that can be applied to any function, you can use **positional arguments** (\"args\") and **keyword arguments** (\"kwargs\"). These `*args` and `**kwargs` collect all positional and keyword arguments and store them in the `args` (tuple) and `kwargs` (dictionary) variables. They allow you to pass as many arguments as you would like during function calls.\n",
    "\n",
    "Let's create `a_decorator_passing_arbitrary_arguments` & `a_wrapper_accepting_arbitrary_arguments`."
   ]
  },
  {
   "cell_type": "code",
   "execution_count": null,
   "metadata": {},
   "outputs": [],
   "source": [
    "def a_decorator_passing_arbitrary_arguments(function):\n",
    "    \n",
    "    def a_wrapper_accepting_arbitrary_arguments(*args, **kwargs):\n",
    "        print('Positional arguments:', args)\n",
    "        print('Keyword arguments:', kwargs)\n",
    "        result = function(*args, **kwargs)\n",
    "        return result\n",
    "    \n",
    "    return a_wrapper_accepting_arbitrary_arguments\n",
    "\n",
    "@a_decorator_passing_arbitrary_arguments\n",
    "def function_with_no_argument():\n",
    "    return \"No arguments here.\"\n",
    "\n",
    "function_with_no_argument()"
   ]
  },
  {
   "cell_type": "markdown",
   "metadata": {},
   "source": [
    "Let's see how you would use the decorator using positional arguments."
   ]
  },
  {
   "cell_type": "code",
   "execution_count": null,
   "metadata": {},
   "outputs": [],
   "source": [
    "@a_decorator_passing_arbitrary_arguments\n",
    "def function_with_arguments(a, b, c):\n",
    "    print(a, b, c)\n",
    "\n",
    "function_with_arguments(1,2,3)"
   ]
  },
  {
   "cell_type": "markdown",
   "metadata": {},
   "source": [
    "Keyword arguments are passed using keywords. An illustration of this is shown below."
   ]
  },
  {
   "cell_type": "code",
   "execution_count": null,
   "metadata": {},
   "outputs": [],
   "source": [
    "@a_decorator_passing_arbitrary_arguments\n",
    "def function_with_keyword_arguments(first_name, last_name):\n",
    "    print(f\"This has shown keyword arguments: {first_name} {last_name}\")\n",
    "\n",
    "function_with_keyword_arguments(first_name=\"Derrick\", last_name=\"Mwiti\")"
   ]
  },
  {
   "cell_type": "markdown",
   "metadata": {},
   "source": [
    "### Retaining a function's original documentation\n",
    "\n",
    "Let's look at this cities example..."
   ]
  },
  {
   "cell_type": "code",
   "execution_count": null,
   "metadata": {},
   "outputs": [],
   "source": [
    "def decorator_with_arguments(function):\n",
    "    \n",
    "    def wrapper_accepting_arguments(*args, **kwargs):\n",
    "        \"\"\"Wrapper function accepting arguments\"\"\"\n",
    "        print('Positional arguments:', args)\n",
    "        print('Keyword arguments:', kwargs)\n",
    "        result = function(*args, **kwargs)\n",
    "        return result\n",
    "    \n",
    "    return wrapper_accepting_arguments\n",
    "\n",
    "\n",
    "@decorator_with_arguments\n",
    "def cities(city_one, city_two):\n",
    "    \"\"\"Print sentence of cities travelled\"\"\"\n",
    "    \n",
    "    return f\"I travelled from {city_one} to {city_two}\"\n",
    "\n",
    "cities(city_one=\"Amsterdam\", city_two=\"New York\")"
   ]
  },
  {
   "cell_type": "markdown",
   "metadata": {},
   "source": [
    "When you wrap a decorator around a function, the function inherits the documentation from the decorator:"
   ]
  },
  {
   "cell_type": "code",
   "execution_count": null,
   "metadata": {},
   "outputs": [],
   "source": [
    "cities.__name__, cities.__doc__"
   ]
  },
  {
   "cell_type": "markdown",
   "metadata": {},
   "source": [
    "If using a decorator always meant losing this information about a function, it would be a serious problem. Luckily, there is a function called  `functools.wraps` which is itself a decorator. This takes a function used in a decorator and adds the functionality of copying over the function name, docstring, arguments list, etc. "
   ]
  },
  {
   "cell_type": "code",
   "execution_count": null,
   "metadata": {},
   "outputs": [],
   "source": [
    "from functools import wraps\n",
    "\n",
    "def decorator_with_arguments(function):\n",
    "    \n",
    "    @wraps(function)\n",
    "    def wrapper_accepting_arguments(*args, **kwargs):\n",
    "        \"\"\"Wrapper function accepting arguments\"\"\"\n",
    "        print('Positional arguments:', args)\n",
    "        print('Keyword arguments:', kwargs)\n",
    "        result = function(*args, **kwargs)\n",
    "        return result\n",
    "    \n",
    "    return wrapper_accepting_arguments\n",
    "\n",
    "\n",
    "@decorator_with_arguments\n",
    "def cities(city_one, city_two):\n",
    "    \"\"\"Print sentence of cities travelled\"\"\"\n",
    "    return f\"I travelled from {city_one} to {city_two}\"\n",
    "\n",
    "cities(city_one=\"Amsterdam\", city_two=\"New York\")"
   ]
  },
  {
   "cell_type": "markdown",
   "metadata": {},
   "source": [
    "Now, the `cities` function keeps the original name and docstring!"
   ]
  },
  {
   "cell_type": "code",
   "execution_count": null,
   "metadata": {},
   "outputs": [],
   "source": [
    "cities.__name__, cities.__doc__"
   ]
  },
  {
   "cell_type": "markdown",
   "metadata": {},
   "source": [
    "<a id='usecases'></a>\n",
    "## Usecases of decorators"
   ]
  },
  {
   "cell_type": "markdown",
   "metadata": {},
   "source": [
    "Decorators are widely used within libraries that provide some extensions designed to be used with user-defined functions.\n",
    "\n",
    "Some common examples include:\n",
    "* Defining fixtures for testing\n",
    "* Wraping functions with loggers for monitoring\n",
    "* Benchmarking functions\n",
    "* Using Python functions to define external interfaces (e.g. Typer, FastAPI)"
   ]
  },
  {
   "cell_type": "markdown",
   "metadata": {},
   "source": [
    "### <mark>Exercises</mark>\n",
    "\n",
    "Here is a function `get_factors` that returns a list of factors for an input number.\n",
    "\n",
    "*Note: Factors of a number are defined as numbers that divide the original number evenly or exactly. E.g. `[1,2,3,6]` for the number `6`.*"
   ]
  },
  {
   "cell_type": "code",
   "execution_count": null,
   "metadata": {},
   "outputs": [],
   "source": [
    "def get_factors(n):\n",
    "    \"Return the factors of n.\" \n",
    "    factors = [x for x in range(1, (n+1))\n",
    "               if n % x == 0] \n",
    "    return factors\n",
    "\n",
    "get_factors(6)"
   ]
  },
  {
   "cell_type": "markdown",
   "metadata": {},
   "source": [
    "★ Create a decorator that prints the positional/keyword arguments and wrap it around `get_factors`."
   ]
  },
  {
   "cell_type": "code",
   "execution_count": null,
   "metadata": {},
   "outputs": [],
   "source": []
  },
  {
   "cell_type": "markdown",
   "metadata": {},
   "source": [
    "★★ Create a decorator that prints the name of the function and use `wraps` from functools to retain the name of the function. Check it using `get_factors.__name__`!"
   ]
  },
  {
   "cell_type": "code",
   "execution_count": null,
   "metadata": {},
   "outputs": [],
   "source": []
  },
  {
   "cell_type": "markdown",
   "metadata": {},
   "source": [
    "★★★ Create a decorator `is_prime` that also checks whether a number is a prime number or not. Use (and if necessary modify) the `time_it` decorator from before to check how long this takes for bigger numbers. "
   ]
  },
  {
   "cell_type": "code",
   "execution_count": null,
   "metadata": {},
   "outputs": [],
   "source": []
  },
  {
   "cell_type": "markdown",
   "metadata": {},
   "source": [
    "**Hint:** A number is prime if it only has two factors: The number itself (`n`) and `1`."
   ]
  },
  {
   "cell_type": "markdown",
   "metadata": {},
   "source": [
    "**Answers:**"
   ]
  },
  {
   "cell_type": "code",
   "execution_count": null,
   "metadata": {},
   "outputs": [],
   "source": [
    "# %load answers/ex-decorators2.1.py"
   ]
  },
  {
   "cell_type": "code",
   "execution_count": null,
   "metadata": {},
   "outputs": [],
   "source": [
    "# %load answers/ex-decorators2.2.py"
   ]
  },
  {
   "cell_type": "code",
   "execution_count": null,
   "metadata": {},
   "outputs": [],
   "source": [
    "# %load answers/ex-decorators2.3.py"
   ]
  },
  {
   "cell_type": "markdown",
   "metadata": {},
   "source": [
    "<mark>**Bonus:**</mark> Investigate how to create decorators that accept arguments themselves.\n",
    "\n",
    "For example, decorator that either lowercases or uppercases the output of another function based on a parameter.\n",
    "\n",
    "```python \n",
    "@change_case(upper = True)\n",
    "def say_hi():\n",
    "    return \"Hello!\"\n",
    "\n",
    "say_hi(\"people\")\n",
    ">>> \"HELLO PEOPLE!\"\n",
    "```"
   ]
  },
  {
   "cell_type": "code",
   "execution_count": null,
   "metadata": {},
   "outputs": [],
   "source": [
    "# %load answers/ex-decorators2-bonus.py"
   ]
  }
 ],
 "metadata": {
  "kernelspec": {
   "display_name": "xd-academy-HicFGDgW-py3.11",
   "language": "python",
   "name": "python3"
  },
  "language_info": {
   "codemirror_mode": {
    "name": "ipython",
    "version": 3
   },
   "file_extension": ".py",
   "mimetype": "text/x-python",
   "name": "python",
   "nbconvert_exporter": "python",
   "pygments_lexer": "ipython3",
   "version": "3.11.6"
  }
 },
 "nbformat": 4,
 "nbformat_minor": 4
}
