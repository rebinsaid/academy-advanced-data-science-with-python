{
 "cells": [
  {
   "cell_type": "markdown",
   "metadata": {},
   "source": [
    "# Pure Functions\n",
    "\n",
    "The basic definition of a pure function is a function that doesn't cause or rely on side effects. The output of a pure function should only depend on its inputs.\n",
    "\n",
    "This notebook is going to give an overview of functions, args and kwargs, and finish off with best practice when writing functions.\n",
    "\n",
    "- [Functions intro](#intro)\n",
    "    - [<mark>Exercise</mark>](#ex-intro)\n",
    "- [Clean code](#clean)\n",
    "    - [<mark>Exercise</mark>](#ex-clean)\n",
    "\n",
    "\n",
    "When completing the <mark>exercises</mark>, consider the following star ratings\n",
    "\n",
    "- ★ Easy\n",
    "- ★★ Medium\n",
    "- ★★★ Hard"
   ]
  },
  {
   "cell_type": "markdown",
   "metadata": {},
   "source": [
    "----\n",
    "<a id='intro'></a>\n",
    "## Functions\n",
    "\n",
    "A function is a block of organised, reusable code which is used to perform a single, well-define action."
   ]
  },
  {
   "cell_type": "markdown",
   "metadata": {},
   "source": [
    "***Example: Determine whether a passed string is palindrome or not*** "
   ]
  },
  {
   "cell_type": "code",
   "execution_count": null,
   "metadata": {},
   "outputs": [],
   "source": [
    "def is_palindrome(string):\n",
    "    new_string = string.lower().replace(' ','')\n",
    "    return new_string[::-1]==new_string"
   ]
  },
  {
   "cell_type": "code",
   "execution_count": null,
   "metadata": {},
   "outputs": [],
   "source": [
    "is_palindrome('A man a plan a canal panama')"
   ]
  },
  {
   "cell_type": "markdown",
   "metadata": {},
   "source": [
    "***Example: Print the name and profession of a person***"
   ]
  },
  {
   "cell_type": "code",
   "execution_count": null,
   "metadata": {},
   "outputs": [],
   "source": [
    "def state_name_and_job(name='ross geller', job='paleontologist'):\n",
    "    return f\"{name.title()} works as a {job.title()}.\""
   ]
  },
  {
   "cell_type": "code",
   "execution_count": null,
   "metadata": {},
   "outputs": [],
   "source": [
    "state_name_and_job()"
   ]
  },
  {
   "cell_type": "markdown",
   "metadata": {},
   "source": [
    "<a id='ex-intro'></a>\n",
    "## <mark>Exercise: Build some larger functions</mark>"
   ]
  },
  {
   "cell_type": "markdown",
   "metadata": {},
   "source": [
    "★ Write a function that takes in a string parameter and counts the number of words in the string.\n",
    "\n",
    "*Extra: return a dictionary with the words as keys and lengths as the items.*"
   ]
  },
  {
   "cell_type": "code",
   "execution_count": null,
   "metadata": {},
   "outputs": [],
   "source": []
  },
  {
   "cell_type": "markdown",
   "metadata": {},
   "source": [
    "★★ Write a Python program that accepts a hyphen-separated sequence of words as input and prints the words in a hyphen-separated sequence after sorting them alphabetically. Go to the editor\n",
    "\n",
    "```\n",
    "Sample Items : green-red-yellow-black-white\n",
    "Expected Result : black-green-red-white-yellow\n",
    "```"
   ]
  },
  {
   "cell_type": "code",
   "execution_count": null,
   "metadata": {},
   "outputs": [],
   "source": []
  },
  {
   "cell_type": "markdown",
   "metadata": {},
   "source": [
    "★★★ Calculate the Hamming Distance between two DNA strands.\n",
    "\n",
    "Hamming distance is calculated by comparing two strands of DNA and counting the differences between them to see how many mistakes occurred when cells divide.\n",
    "\n",
    "Eg. two strands might look like this:\n",
    "\n",
    "```python\n",
    "GAGCCTACTAACGGGAT\n",
    "CATCGTAATGACGGCCT\n",
    "^ ^ ^  ^ ^    ^^\n",
    "```\n",
    "\n",
    "They have 7 differences, and therefore the Hamming Distance is 7.\n",
    "\n",
    "*Extra: raise a ValueError() if the strand lengths don't match.*"
   ]
  },
  {
   "cell_type": "code",
   "execution_count": null,
   "metadata": {},
   "outputs": [],
   "source": []
  },
  {
   "cell_type": "markdown",
   "metadata": {},
   "source": [
    "---\n",
    "<a id='clean'></a>\n",
    "## Philosophy on functions\n",
    "\n",
    "### <font color='brown'>Functions are the first line of organization in any program </font>\n",
    "\n",
    "1. **Small**\n",
    "    - The first rule of functions is that they should be small. The second rule of functions is that *they should be smaller than that*\n",
    "\n",
    "\n",
    "2. **Do one thing**\n",
    "    - FUNCTIONS SHOULD DO ONE THING. THEY SHOULD DO IT WELL. THEY SHOULD DO IT ONLY\n",
    "\n",
    "\n",
    "3. **Don't rely on non-local state (or magic numbers!)**\n",
    "    - The output of the function should only rely on the input and not be affected by any external state\n",
    "    \n",
    "    \n",
    "4. **Use Descriptive Names**\n",
    "    - You know you are working on clean code when each routine turns out to be pretty much what you expected\n",
    "    - A long descriptive name is better than a short enigmatic name\n",
    "    - Don’t be afraid to spend time choosing a name\n",
    "    \n",
    "    \n",
    "5. **Have No Side Effects**\n",
    "    - Side effects are lies. Your function promises to do one thing, but it also does other hidden things\n",
    "    "
   ]
  },
  {
   "cell_type": "markdown",
   "metadata": {},
   "source": [
    "<a id='ex-clean'></a>\n",
    "## <mark>Activity: Code reviews</mark>\n",
    "\n",
    "Look over the following functions, determine what the aim of each function. Which of Uncle Bob's philosophy do they break? Rewrite them so they aligned to best practice."
   ]
  },
  {
   "cell_type": "markdown",
   "metadata": {},
   "source": [
    "★ Easy"
   ]
  },
  {
   "cell_type": "code",
   "execution_count": null,
   "metadata": {},
   "outputs": [],
   "source": [
    "def get_num_letters_per_word(string):\n",
    "    string = string.split()\n",
    "    return [len(word) for word in string if word.isalpha()]\n",
    "\n",
    "get_num_letters_per_word('Twas the night before christmas and all through the house...')"
   ]
  },
  {
   "cell_type": "code",
   "execution_count": null,
   "metadata": {},
   "outputs": [],
   "source": [
    "# rewrite function here:\n"
   ]
  },
  {
   "cell_type": "markdown",
   "metadata": {},
   "source": [
    "★★ Medium"
   ]
  },
  {
   "cell_type": "code",
   "execution_count": null,
   "metadata": {},
   "outputs": [],
   "source": [
    "def sort_scores():\n",
    "    return scores.sort()\n",
    "\n",
    "def find_highest_score():\n",
    "    return scores[-1]\n",
    "\n",
    "def find_lowest_score():\n",
    "    return scores[0]\n",
    "\n",
    "scores = [65, 25, 20, 15, 35, 50, 75, 10]\n",
    "\n",
    "sort_scores()\n",
    "find_lowest_score(),find_highest_score()"
   ]
  },
  {
   "cell_type": "code",
   "execution_count": null,
   "metadata": {},
   "outputs": [],
   "source": [
    "# rewrite function here:\n"
   ]
  },
  {
   "cell_type": "markdown",
   "metadata": {},
   "source": [
    "★★★ Hard"
   ]
  },
  {
   "cell_type": "code",
   "execution_count": null,
   "metadata": {},
   "outputs": [],
   "source": [
    "def get_big_words_if_sentence_is_longer_than_100_chars():\n",
    "    \n",
    "    f = open('../data/Harry_Potter.txt', encoding=\"Latin-1\")\n",
    "    text = f.read()\n",
    "    \n",
    "    if len(text) > 100:\n",
    "        list = text.split()\n",
    "        new_list = []\n",
    "        for i in range(len(list)):\n",
    "            if len(list[i])>12 and list[i].isalpha():\n",
    "                new_list.append(list[i])\n",
    "    \n",
    "    return set(new_list)"
   ]
  },
  {
   "cell_type": "code",
   "execution_count": null,
   "metadata": {},
   "outputs": [],
   "source": [
    "# rewrite function here:\n"
   ]
  },
  {
   "cell_type": "markdown",
   "metadata": {},
   "source": [
    "★★★★ Extreme"
   ]
  },
  {
   "cell_type": "code",
   "execution_count": null,
   "metadata": {},
   "outputs": [],
   "source": [
    "def add_names(name, lst_names = []):\n",
    "    '''\n",
    "    Add name to an existing list if the first and last name begin with the same letter.\n",
    "    If no list is passed in create a new list\n",
    "    \n",
    "    name: str, 2 names\n",
    "    lst_names: list\n",
    "    '''\n",
    "    \n",
    "    name_to_list = name.split()\n",
    "    \n",
    "    if len(name_to_list) != 2:\n",
    "        raise ValueError('List must have two items in')\n",
    "    \n",
    "    if name_to_list[0][0].lower()==name_to_list[1][0].lower():\n",
    "        lst_names.append(name)\n",
    "    return lst_names"
   ]
  },
  {
   "cell_type": "code",
   "execution_count": null,
   "metadata": {},
   "outputs": [],
   "source": [
    "# rewrite function here:\n"
   ]
  },
  {
   "cell_type": "markdown",
   "metadata": {},
   "source": [
    "*Hint: Try this function out with a few examples - what is happening?:*\n",
    "```python\n",
    "add_names('Peter Pettigrew', ['Severus Snape','Minerva McGonagall'])\n",
    "add_names('Filius Flitwick')\n",
    "add_names('Helga Hufflepuff')\n",
    "```"
   ]
  },
  {
   "cell_type": "markdown",
   "metadata": {},
   "source": [
    "## Final words...\n",
    "\n",
    "<br>\n",
    "\n",
    "|**<font size = 4> The art of programming is, and has always been, the art of language design. </font>**|\n",
    "|:---:|\n",
    "|<font size = 2> Master programmers think of **systems as stories** to be told rather than programs to be written. If you follow Uncle Bob's philosophy in this notebook, your functions will be short, well named, and nicely organized. But never forget that your real goal is to **tell the story of the system**, and that the functions you write need to fit cleanly together into a **clear and precise language to help you with that telling**.</font>|\n",
    "    "
   ]
  }
 ],
 "metadata": {
  "kernelspec": {
   "display_name": "Python 3 (ipykernel)",
   "language": "python",
   "name": "python3"
  },
  "language_info": {
   "codemirror_mode": {
    "name": "ipython",
    "version": 3
   },
   "file_extension": ".py",
   "mimetype": "text/x-python",
   "name": "python",
   "nbconvert_exporter": "python",
   "pygments_lexer": "ipython3",
   "version": "3.11.5"
  }
 },
 "nbformat": 4,
 "nbformat_minor": 4
}
