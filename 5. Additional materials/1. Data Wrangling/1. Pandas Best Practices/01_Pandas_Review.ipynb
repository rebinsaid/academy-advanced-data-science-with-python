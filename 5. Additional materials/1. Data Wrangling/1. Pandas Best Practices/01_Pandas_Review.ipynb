{
 "cells": [
  {
   "cell_type": "markdown",
   "metadata": {},
   "source": [
    "<img src='images/gdd-logo.png' width='300px' align='right' style=\"padding: 15px\">\n",
    "\n",
    "# Pandas Essentials\n",
    "\n",
    "When performing machine learning tasks, one task that is often overlooked is the task of data wrangling and data cleaning. When in fact [cleaning data is the most time consuming task](https://www.forbes.com/sites/gilpress/2016/03/23/data-preparation-most-time-consuming-least-enjoyable-data-science-task-survey-says/) for a data scientist or data analyst.\n",
    "\n",
    "Why? Because data rarely comes in the perfect form as we'd like. Therefore the following topics have been selected as the most important things to know in Pandas.\n",
    "\n",
    "- [About the Data](#data)\n",
    "- [Common exploration methods](#simple)\n",
    "- [Selections](#se)\n",
    "    - [<mark>Exercises</mark>](#ex_select)\n",
    "- [Lambda expressions](#lambda) \n",
    "- [Filtering](#filter)\n",
    "    - [<mark>Exercises</mark>](#ex_filter)\n",
    "- [Aggregating data](#agg)\n",
    "- [Adding columns to data](#add)\n",
    "    - [<mark>Exercises</mark>](#ex_add)\n",
    "    \n",
    "\n",
    "### A note on how to work through this notebook...\n",
    "\n",
    "There are three parts to this notebook:\n",
    "\n",
    "- **Adding your own notes**: Work through the notebook and add notes in your own words explaining key elements. Look out for <mark>highlighted instructions</mark> to show you where you can add notes.\n",
    "\n",
    "- **Completing exercises**: Each section has a group of <mark>Exercises</mark> to complete. \n",
    "\n",
    "- **Bonus exercises**: If you complete the whole notebook you can all look at the further exercises at the end:\n",
    "\n",
    "    - [<mark>More Data Wrangling Exercises](#exercise)"
   ]
  },
  {
   "cell_type": "markdown",
   "metadata": {},
   "source": [
    "<a id='data'></a>\n",
    "\n",
    "## About the Data\n",
    "\n",
    "We will be looking at the banking data which tells us whether a customer has `exited` (left) the bank as a customer:\n",
    "\n",
    "| Column          | Description  |\n",
    "|:-----------------|:---|\n",
    "| customerid      | Unique customer ID  |\n",
    "| surname         | Surname of customer  |\n",
    "| creditscore     | Credit Score from external Credit Bureau  |\n",
    "| geography       | Country in which customer is located  |\n",
    "| age             | Age of customer  |\n",
    "| tenure          | Years of being a customer  |\n",
    "| balance         | Current savings balance  |\n",
    "| numofproducts   | Number of products with the bank - credit card, mortgage, loan etc.  |\n",
    "| hascrcard       | Flag if customer has credit card <br>1: has a credit card, 0: no credit card  |\n",
    "| isactivemember  | Has been active on one or more products in the last month  |\n",
    "| estimatedsalary | Yearly income (estimate)  |\n",
    "| exited          | Flag if customer left the bank <br>1: no longer customer after one year, 0: still customer after one year  |"
   ]
  },
  {
   "cell_type": "code",
   "execution_count": null,
   "metadata": {},
   "outputs": [],
   "source": [
    "import pandas as pd\n",
    "banking = pd.read_csv('data/banking.csv')"
   ]
  },
  {
   "cell_type": "markdown",
   "metadata": {},
   "source": [
    "You can get information about libraries available in Python, the functions they contain, or Python built-in function in three different ways (which give the same information):\n",
    "\n",
    "1. Use the help function: `help(pd.method)`\n",
    "2. Add a `?` after the function or method: `df.method?`\n",
    "3. Put your cursor on the function or method and press `<shift><tab>` on your keyboard\n",
    "\n",
    "<mark>**Exercise:** Try all of them out on the `pd.read_csv` method:</mark>"
   ]
  },
  {
   "cell_type": "code",
   "execution_count": null,
   "metadata": {},
   "outputs": [],
   "source": [
    "# add your code"
   ]
  },
  {
   "cell_type": "markdown",
   "metadata": {},
   "source": [
    "--- \n",
    "<a id='simple'></a>\n",
    "\n",
    "## <mark>Exercise: Common exploration methods</mark>\n",
    "\n",
    "Here are the most common methods one should know to make initial inspection of data very simple.\n",
    "\n",
    "1. Run the following cells\n",
    "2. Add a description to the comment above the Python code to explain what is happening.\n",
    "3. Use one of the ways to get to the documentation to see how your definitions compare to the documentation."
   ]
  },
  {
   "cell_type": "code",
   "execution_count": null,
   "metadata": {},
   "outputs": [],
   "source": [
    "# The head method...\n",
    "banking.head()"
   ]
  },
  {
   "cell_type": "code",
   "execution_count": null,
   "metadata": {},
   "outputs": [],
   "source": [
    "# The tail method...\n",
    "banking.tail()"
   ]
  },
  {
   "cell_type": "code",
   "execution_count": null,
   "metadata": {},
   "outputs": [],
   "source": [
    "# The shape attribute... \n",
    "banking.shape"
   ]
  },
  {
   "cell_type": "code",
   "execution_count": null,
   "metadata": {},
   "outputs": [],
   "source": [
    "# The info method...\n",
    "banking.info()"
   ]
  },
  {
   "cell_type": "code",
   "execution_count": null,
   "metadata": {},
   "outputs": [],
   "source": [
    "# The describe method...\n",
    "banking.describe()"
   ]
  },
  {
   "cell_type": "code",
   "execution_count": null,
   "metadata": {},
   "outputs": [],
   "source": [
    "# The isnull and sum methods... \n",
    "banking.isnull().sum()"
   ]
  },
  {
   "cell_type": "code",
   "execution_count": null,
   "metadata": {},
   "outputs": [],
   "source": [
    "# The columns attribute...\n",
    "banking.columns"
   ]
  },
  {
   "cell_type": "code",
   "execution_count": null,
   "metadata": {},
   "outputs": [],
   "source": [
    "# The value_counts method ..\n",
    "banking['geography'].value_counts()"
   ]
  },
  {
   "cell_type": "markdown",
   "metadata": {},
   "source": [
    "---\n",
    "<a id='se'></a>\n",
    "## Selections\n",
    "\n",
    "When using a dataframe you often want to select just part of the data. We know about the `.head()` and `.tail()` method, but there are a few other things you can do.\n",
    "\n",
    "When selecting columns you can select one column using\n",
    "- `df['column']`\n",
    "\n",
    "or two or more columns with\n",
    "- `df[['column_1', 'column_2', 'column_3', ...]]`\n",
    "\n",
    "Here it is in action:"
   ]
  },
  {
   "cell_type": "code",
   "execution_count": null,
   "metadata": {},
   "outputs": [],
   "source": [
    "banking['tenure']"
   ]
  },
  {
   "cell_type": "code",
   "execution_count": null,
   "metadata": {},
   "outputs": [],
   "source": [
    "banking[['numofproducts','hascrcard','isactivemember']]"
   ]
  },
  {
   "cell_type": "markdown",
   "metadata": {},
   "source": [
    "If you want to **select rows and columns** you can use the `.loc[]` method.\n",
    "\n",
    "- `df.loc[10:15]` to select only rows 10-15 (according to the index)\n",
    "- `df.loc[10:15, ['column_1', 'column_2']]` to select rows 10-15 (according to the index) and `column_1` and `column_2`\n",
    "- `df.loc[:, ['column_1', 'column_2']]` to select all rows from only `column_1` and `column_2`"
   ]
  },
  {
   "cell_type": "code",
   "execution_count": null,
   "metadata": {},
   "outputs": [],
   "source": [
    "banking.loc[9000:9005]"
   ]
  },
  {
   "cell_type": "code",
   "execution_count": null,
   "metadata": {},
   "outputs": [],
   "source": [
    "banking.loc[9000:9005, ['creditscore', 'geography']]"
   ]
  },
  {
   "cell_type": "code",
   "execution_count": null,
   "metadata": {},
   "outputs": [],
   "source": [
    "banking.loc[:, ['creditscore', 'geography']]"
   ]
  },
  {
   "cell_type": "markdown",
   "metadata": {},
   "source": [
    "<a id='ex_select'></a>\n",
    "\n",
    "### <mark>Exercises</mark>\n",
    "\n",
    "Answer the following questions by executing code in the code cell and type your answer in the cell below"
   ]
  },
  {
   "cell_type": "markdown",
   "metadata": {},
   "source": [
    "1. Use the Python function `len()` on the dataframe, what does this tell us? Compare this with `df.shape`."
   ]
  },
  {
   "cell_type": "code",
   "execution_count": null,
   "metadata": {},
   "outputs": [],
   "source": [
    "# code goes here\n"
   ]
  },
  {
   "cell_type": "raw",
   "metadata": {},
   "source": [
    "Answer: "
   ]
  },
  {
   "cell_type": "markdown",
   "metadata": {},
   "source": [
    "2. Alter the code below so you are selecting the column `'age'`. Call the type function to see how the output differs for these two styles.\n",
    "- `type(df['col']`\n",
    "- `type(df[['col']])` \n",
    "\n",
    "What is the type when you use single brackets vs double brackets?"
   ]
  },
  {
   "cell_type": "code",
   "execution_count": null,
   "metadata": {},
   "outputs": [],
   "source": [
    "# code goes here (update what's below)\n",
    "banking['surname']"
   ]
  },
  {
   "cell_type": "code",
   "execution_count": null,
   "metadata": {},
   "outputs": [],
   "source": [
    "# code goes here (update what's below)\n",
    "banking[['surname']]"
   ]
  },
  {
   "cell_type": "raw",
   "metadata": {},
   "source": [
    "Answer: "
   ]
  },
  {
   "cell_type": "markdown",
   "metadata": {},
   "source": [
    "3. Use `df.columns` to return a list of all the column names. Slice this so you only see the last 3 column names.\n",
    "\n",
    "What are the last three columns?\n",
    "\n",
    "Hint: To slice the list of columns to get the last `n` items you can use: `list_of_columns[-n:]`"
   ]
  },
  {
   "cell_type": "code",
   "execution_count": null,
   "metadata": {},
   "outputs": [],
   "source": [
    "# code goes here\n",
    "banking.columns"
   ]
  },
  {
   "cell_type": "raw",
   "metadata": {},
   "source": [
    "Answer: "
   ]
  },
  {
   "cell_type": "markdown",
   "metadata": {},
   "source": [
    "4. The four customers on rows 303 - 306 are all located in France. Which of those customer has 2 products?"
   ]
  },
  {
   "cell_type": "code",
   "execution_count": null,
   "metadata": {},
   "outputs": [],
   "source": [
    "# code goes here\n"
   ]
  },
  {
   "cell_type": "raw",
   "metadata": {},
   "source": [
    "Answer: "
   ]
  },
  {
   "cell_type": "markdown",
   "metadata": {},
   "source": [
    "### Answers"
   ]
  },
  {
   "cell_type": "code",
   "execution_count": null,
   "metadata": {},
   "outputs": [],
   "source": [
    "# %load answers/pandas-essentials/ex-selections-1.py"
   ]
  },
  {
   "cell_type": "code",
   "execution_count": null,
   "metadata": {},
   "outputs": [],
   "source": [
    "# %load answers/pandas-essentials/ex-selections-2.py"
   ]
  },
  {
   "cell_type": "code",
   "execution_count": null,
   "metadata": {},
   "outputs": [],
   "source": [
    "# %load answers/pandas-essentials/ex-selections-3.py"
   ]
  },
  {
   "cell_type": "code",
   "execution_count": null,
   "metadata": {},
   "outputs": [],
   "source": [
    "# %load answers/pandas-essentials/ex-selections-4.py"
   ]
  },
  {
   "cell_type": "markdown",
   "metadata": {},
   "source": [
    "--- \n",
    "<a id='lambda'></a>\n",
    "\n",
    "# Lambda expressions\n",
    "\n",
    "Once we start filtering our data, lambda functions become important. Let's do a quick recap of what they entail!\n",
    "\n",
    "<img src=\"images/lambda.png\" width=\"500\">\n",
    "\n",
    "Lambda expressions are also known as anonymous functions because they don't need a name. They can have as many arguments as you want, but only one expression. You can define them by using the keyword **lambda**. "
   ]
  },
  {
   "cell_type": "markdown",
   "metadata": {},
   "source": [
    "If we have a function that adds 3 to our given parameter and returns the result:"
   ]
  },
  {
   "cell_type": "code",
   "execution_count": null,
   "metadata": {},
   "outputs": [],
   "source": [
    "def add_three(number):\n",
    "    return number + 3\n",
    "\n",
    "add_three(4)"
   ]
  },
  {
   "cell_type": "markdown",
   "metadata": {},
   "source": [
    "We can write rewrite it as a lamdba function as follows:"
   ]
  },
  {
   "cell_type": "code",
   "execution_count": null,
   "metadata": {},
   "outputs": [],
   "source": [
    "(lambda number: number + 3)(4)"
   ]
  },
  {
   "cell_type": "markdown",
   "metadata": {},
   "source": [
    "### <mark>Exercises</mark>\n",
    "\n",
    "1. Rewrite the following function as a lambda expression and run it"
   ]
  },
  {
   "cell_type": "code",
   "execution_count": null,
   "metadata": {},
   "outputs": [],
   "source": [
    "def square(x):\n",
    "    return x ** 2\n",
    "\n",
    "square(7)"
   ]
  },
  {
   "cell_type": "code",
   "execution_count": null,
   "metadata": {},
   "outputs": [],
   "source": [
    "# code goes here\n"
   ]
  },
  {
   "cell_type": "markdown",
   "metadata": {},
   "source": [
    "2. Write a lambda function that takes in a Series and divides it by 12. Test it by calling it with the age column."
   ]
  },
  {
   "cell_type": "code",
   "execution_count": null,
   "metadata": {},
   "outputs": [],
   "source": [
    "# code goes here\n"
   ]
  },
  {
   "cell_type": "markdown",
   "metadata": {},
   "source": [
    "**Answer**"
   ]
  },
  {
   "cell_type": "code",
   "execution_count": null,
   "metadata": {},
   "outputs": [],
   "source": [
    "# %load answers/pandas-essentials/ex-lambda.py"
   ]
  },
  {
   "cell_type": "markdown",
   "metadata": {},
   "source": [
    "--- \n",
    "<a id='filter'></a>\n",
    "\n",
    "# Filtering\n",
    "\n",
    "Often we want to filter out certain aspects of our dataframe. For example, let's say we wanted to do analysis on only those customers that left (`exited==1`)"
   ]
  },
  {
   "cell_type": "markdown",
   "metadata": {},
   "source": [
    "To do this we need to make a boolean series, where the values are `True` when `exited==1` and `False` when `exited!=1`."
   ]
  },
  {
   "cell_type": "code",
   "execution_count": null,
   "metadata": {},
   "outputs": [],
   "source": [
    "banking['exited'] == 1"
   ]
  },
  {
   "cell_type": "markdown",
   "metadata": {},
   "source": [
    "Note how the index of the series matches our original dataframe.\n",
    "\n",
    "Now we can use this to filter `df.loc[boolean_mask]`:"
   ]
  },
  {
   "cell_type": "code",
   "execution_count": null,
   "metadata": {},
   "outputs": [],
   "source": [
    "banking.loc[banking['exited'] == 1]"
   ]
  },
  {
   "cell_type": "markdown",
   "metadata": {},
   "source": [
    "Alternatively, you can also pass a lambda function to the `.loc[]`."
   ]
  },
  {
   "cell_type": "code",
   "execution_count": null,
   "metadata": {},
   "outputs": [],
   "source": [
    "banking.loc[lambda df: df['exited'] == 1]"
   ]
  },
  {
   "cell_type": "markdown",
   "metadata": {},
   "source": [
    "Using lambda functions is the preferred approach to filter in pandas, so you should always use them for filtering.\n",
    "\n",
    "When passing a lambda function to `.loc[]`, it applies the filter to the output of the previous link in the method 'chain'. If we keep referencing the original DataFrame, we may obtain unexpected results.\n"
   ]
  },
  {
   "cell_type": "markdown",
   "metadata": {},
   "source": [
    "Let's look at an example where we apply multiple filters to our DataFrame without using lambda functions."
   ]
  },
  {
   "cell_type": "code",
   "execution_count": null,
   "metadata": {},
   "outputs": [],
   "source": [
    "(\n",
    "    banking\n",
    "    .loc[banking['geography'] == 'Germany']\n",
    "    .loc[banking['tenure'] < 2]\n",
    "    .loc[banking['numofproducts'] == 2]\n",
    "    .loc[banking['estimatedsalary'] > 195000]\n",
    ")"
   ]
  },
  {
   "cell_type": "markdown",
   "metadata": {},
   "source": [
    "The operation in this case produces the expected output, but notice that each call to `.loc[]` references the original data, instead of the data that arrives to each specific `.loc[]` method. If for some reason the index of the dataframe changes (in the cell bellow exemplified by calling `reset_index`), then this approach will produce incorrect results."
   ]
  },
  {
   "cell_type": "code",
   "execution_count": null,
   "metadata": {},
   "outputs": [],
   "source": [
    "(\n",
    "    banking\n",
    "    .loc[banking['geography'] == 'Germany']\n",
    "    .loc[banking['tenure'] < 2]\n",
    "    .reset_index(drop=True)\n",
    "    .loc[banking['numofproducts'] == 2]\n",
    "    .loc[banking['estimatedsalary'] > 195000]\n",
    ")"
   ]
  },
  {
   "cell_type": "markdown",
   "metadata": {},
   "source": [
    "The filters that were applied after the index reset have failed. This is because these filters reference the original `banking` DataFrame, which has a different index than the intermediate output of the `reset_index` method. We can solve this issue by using lambda functions, which allow you to filter whatever dataframe arrives to each call to `.loc[]`."
   ]
  },
  {
   "cell_type": "code",
   "execution_count": null,
   "metadata": {},
   "outputs": [],
   "source": [
    "(\n",
    "    banking\n",
    "    .loc[lambda df: df['geography'] == 'Germany']\n",
    "    .loc[lambda df: df['tenure'] < 2]\n",
    "    .reset_index(drop=True)\n",
    "    .loc[lambda df: df['numofproducts'] == 2]\n",
    "    .loc[lambda df: df['estimatedsalary'] > 195000]\n",
    ")"
   ]
  },
  {
   "cell_type": "markdown",
   "metadata": {},
   "source": [
    "Also, to perform multiple aggregations you can choose to do them one after the other..."
   ]
  },
  {
   "cell_type": "code",
   "execution_count": null,
   "metadata": {},
   "outputs": [],
   "source": [
    "(\n",
    "    banking\n",
    "    .loc[lambda df: df['geography'] == 'Spain']\n",
    "    .loc[lambda df: df['tenure'] > 3]\n",
    ")"
   ]
  },
  {
   "cell_type": "markdown",
   "metadata": {},
   "source": [
    "... or within the same `.loc[]` method. You can use the logical operators `&` (*and*) and `|` (*or*), and notice that you need to wrap each statement within parenthesis `()` for the syntax to be correct."
   ]
  },
  {
   "cell_type": "code",
   "execution_count": null,
   "metadata": {},
   "outputs": [],
   "source": [
    "(\n",
    "    banking\n",
    "    .loc[lambda df: (df['geography'] == 'Spain') & (df['tenure'] > 3)]\n",
    ")"
   ]
  },
  {
   "cell_type": "markdown",
   "metadata": {},
   "source": [
    "In general it's preferred to filter for multiple conditions within the same `.loc[]` method whenever possible, since it allows pandas to apply both filters at once which is computationally faster."
   ]
  },
  {
   "cell_type": "markdown",
   "metadata": {},
   "source": [
    "<a id='ex_filter'></a>\n",
    "\n",
    "### <mark>Exercises</mark>\n",
    "\n",
    "Complete the following exercises on filtering in the same way as above."
   ]
  },
  {
   "cell_type": "markdown",
   "metadata": {},
   "source": [
    "1. Filter the data to show only those with a balance of 240,000 or higher and you should find one person. What is the credit score of that person?"
   ]
  },
  {
   "cell_type": "code",
   "execution_count": null,
   "metadata": {},
   "outputs": [],
   "source": [
    "# code goes here\n"
   ]
  },
  {
   "cell_type": "raw",
   "metadata": {},
   "source": [
    "Answer: "
   ]
  },
  {
   "cell_type": "markdown",
   "metadata": {},
   "source": [
    "2. Filter so that you only see those with a surname beginning with the letters `Mill`. You can use the string method `.startswith`. To do this on a column use:\n",
    "```python\n",
    "df.loc[lambda df: df['column'].str.startswith('substring')]\n",
    "```\n",
    "**Bonus**: Use the `.unique()` method to see all the names which begin with Mill."
   ]
  },
  {
   "cell_type": "code",
   "execution_count": null,
   "metadata": {},
   "outputs": [],
   "source": [
    "# code goes here\n"
   ]
  },
  {
   "cell_type": "raw",
   "metadata": {},
   "source": [
    "Answer: "
   ]
  },
  {
   "cell_type": "markdown",
   "metadata": {},
   "source": [
    "3. There is a new product available on the Spanish market for students - the `Tarjeta Española`. To be eligible customers must match the following criteria:\n",
    "- Not have `exited` the bank (`exited is equal to 0`)\n",
    "- Have more than 2 products (`numofproducts`)\n",
    "- Be an active member **or** have a tenure of 3 (years) or more\n",
    "- Be located in Spain (`geography`)\n",
    "- Be younger than 25\n",
    "\n",
    "How many people are eligible for the `Tarjeta Española`?"
   ]
  },
  {
   "cell_type": "code",
   "execution_count": null,
   "metadata": {},
   "outputs": [],
   "source": [
    "# code goes here\n"
   ]
  },
  {
   "cell_type": "raw",
   "metadata": {},
   "source": [
    "Answer: "
   ]
  },
  {
   "cell_type": "markdown",
   "metadata": {},
   "source": [
    "### Answers"
   ]
  },
  {
   "cell_type": "code",
   "execution_count": null,
   "metadata": {},
   "outputs": [],
   "source": [
    "# %load answers/pandas-essentials/ex-filtering-1.py"
   ]
  },
  {
   "cell_type": "code",
   "execution_count": null,
   "metadata": {},
   "outputs": [],
   "source": [
    "# %load answers/pandas-essentials/ex-filtering-2.py"
   ]
  },
  {
   "cell_type": "code",
   "execution_count": null,
   "metadata": {},
   "outputs": [],
   "source": [
    "# %load answers/pandas-essentials/ex-filtering-2-bonus.py"
   ]
  },
  {
   "cell_type": "code",
   "execution_count": null,
   "metadata": {},
   "outputs": [],
   "source": [
    "# %load answers/pandas-essentials/ex-filtering-3.py"
   ]
  },
  {
   "cell_type": "markdown",
   "metadata": {},
   "source": [
    "--- \n",
    "<a id='agg'></a>\n",
    "\n",
    "# Aggregations\n",
    "\n",
    "Often we will need to see the **descriptive statistics**. We've seen we can get those statistics for the entirity of the data with `.describe()`:"
   ]
  },
  {
   "cell_type": "code",
   "execution_count": null,
   "metadata": {
    "scrolled": true
   },
   "outputs": [],
   "source": [
    "banking.describe()"
   ]
  },
  {
   "cell_type": "markdown",
   "metadata": {},
   "source": [
    "But maybe we want to compare the mean age of those customers who left and didn't:"
   ]
  },
  {
   "cell_type": "code",
   "execution_count": null,
   "metadata": {},
   "outputs": [],
   "source": [
    "banking.groupby('exited')['age'].mean()"
   ]
  },
  {
   "cell_type": "markdown",
   "metadata": {},
   "source": [
    "You can also do multiple aggregations using the `.agg()` method. You can use a keyword for the name of the output column and a tuple to specify the old columns and the aggregator to use:"
   ]
  },
  {
   "cell_type": "code",
   "execution_count": null,
   "metadata": {},
   "outputs": [],
   "source": [
    "(\n",
    "    banking\n",
    "    .groupby('exited')\n",
    "    .agg(\n",
    "        min_salary = ('estimatedsalary', 'min'),\n",
    "        max_salary = ('estimatedsalary', 'max'),\n",
    "    )\n",
    ")"
   ]
  },
  {
   "cell_type": "markdown",
   "metadata": {},
   "source": [
    "<mark>**Exercise:** Add the mean age to the example above.</mark>"
   ]
  },
  {
   "cell_type": "markdown",
   "metadata": {},
   "source": [
    "Note: The above funtionality became available in `pandas > 0.25`. To check your pandas version you can run the following cell:"
   ]
  },
  {
   "cell_type": "code",
   "execution_count": null,
   "metadata": {},
   "outputs": [],
   "source": [
    "import pandas as pd\n",
    "pd.__version__"
   ]
  },
  {
   "cell_type": "markdown",
   "metadata": {},
   "source": [
    "---\n",
    "<a id='add'></a>\n",
    "\n",
    "# Adding columns\n",
    "\n",
    "We want to convert our tenure from years to months for an adhoc piece of analysis. \n",
    "\n",
    "<mark>**Question:** Why would the following approaches be considered bad practice?</mark> (two cells to fill)"
   ]
  },
  {
   "cell_type": "code",
   "execution_count": null,
   "metadata": {},
   "outputs": [],
   "source": [
    "# option 1:\n",
    "banking['tenure_months'] = banking['tenure']*12\n",
    "banking.head()"
   ]
  },
  {
   "cell_type": "raw",
   "metadata": {},
   "source": [
    "Option 1 is considered bad practice because..."
   ]
  },
  {
   "cell_type": "code",
   "execution_count": null,
   "metadata": {},
   "outputs": [],
   "source": [
    "# option 2:\n",
    "banking_temp = banking.copy()\n",
    "banking_temp['tenure_months'] = banking_temp['tenure']*12\n",
    "banking_temp.head()"
   ]
  },
  {
   "cell_type": "raw",
   "metadata": {},
   "source": [
    "Option 2 is considered bad practice because..."
   ]
  },
  {
   "cell_type": "markdown",
   "metadata": {},
   "source": [
    "<details>\n",
    "    \n",
    "  <summary><span style=\"color:blue\">Show answers</span></summary>\n",
    "  \n",
    "Option 1 is considered bad practice because you're changing the original DataFrame in place.\n",
    "    \n",
    "Option 2 is considered bad practice because you'd have to create a new DataFame for every change you want to make. This gets confusing very quickly. \n",
    " \n",
    "</details>"
   ]
  },
  {
   "cell_type": "markdown",
   "metadata": {},
   "source": [
    "Better practice is to use the `assign` method:"
   ]
  },
  {
   "cell_type": "code",
   "execution_count": null,
   "metadata": {},
   "outputs": [],
   "source": [
    "banking = pd.read_csv('data/banking.csv')"
   ]
  },
  {
   "cell_type": "code",
   "execution_count": null,
   "metadata": {},
   "outputs": [],
   "source": [
    "(\n",
    "    banking\n",
    "    .assign(tenure_months = lambda df: df['tenure']*12)\n",
    ")"
   ]
  },
  {
   "cell_type": "markdown",
   "metadata": {},
   "source": [
    "Now we can start to see the positive effects of chaining methods and using our lambda functions. Let's say we want to now filter on the exited column AND this new column:"
   ]
  },
  {
   "cell_type": "code",
   "execution_count": null,
   "metadata": {},
   "outputs": [],
   "source": [
    "(\n",
    "    banking\n",
    "    .assign(tenure = lambda df: df['tenure']*12)\n",
    "    .loc[lambda df: (df['tenure'] >= 120) & (df['exited']==1)]\n",
    ")"
   ]
  },
  {
   "cell_type": "markdown",
   "metadata": {},
   "source": [
    "<mark>**Question:** Why don't we need to write `(df['can_vote']==True)` in the code below?</mark>"
   ]
  },
  {
   "cell_type": "code",
   "execution_count": null,
   "metadata": {
    "scrolled": true
   },
   "outputs": [],
   "source": [
    "(\n",
    "    banking\n",
    "    .assign(can_vote = lambda df: df['age'] >= 18)\n",
    "    .loc[lambda df: (df['can_vote']) & (df['exited']==1)]\n",
    ")"
   ]
  },
  {
   "cell_type": "raw",
   "metadata": {},
   "source": [
    "We don't need to write it because..."
   ]
  },
  {
   "cell_type": "markdown",
   "metadata": {},
   "source": [
    "<details>\n",
    "    \n",
    "  <summary><span style=\"color:blue\">Show answers</span></summary>\n",
    "  \n",
    "We don't need to write it because when filtering, we want to select all values for which the filtering statement is True. This means that we need a Series containing booleans. When we run the following line of code, a Series of booleans is indeed what we get:\n",
    "    \n",
    "```python\n",
    "banking['exited']==1\n",
    "```\n",
    "\n",
    "However, the `can_vote` column already consists of just booleans! We therefore don't have to check whether each value is equal to True or not, we can just select all rows where `can_vote` has the value 'True'.\n",
    " \n",
    "</details>"
   ]
  },
  {
   "cell_type": "markdown",
   "metadata": {},
   "source": [
    "<a id='ex_add'></a>\n",
    "### <mark>Exercises</mark>"
   ]
  },
  {
   "cell_type": "markdown",
   "metadata": {},
   "source": [
    "1. Create a new column `good_credit` that is `True` if the customer has a credit score over `800` and `False` otherwise.\n",
    "\n",
    "Select only the `good_credit` column and calculate the mean. What is the percentage of people who have \"good credit\"?\n",
    "\n",
    "- To find the mean you can use `df['col'].mean()`"
   ]
  },
  {
   "cell_type": "code",
   "execution_count": null,
   "metadata": {},
   "outputs": [],
   "source": [
    "# code goes here\n"
   ]
  },
  {
   "cell_type": "raw",
   "metadata": {},
   "source": [
    "Answer: "
   ]
  },
  {
   "cell_type": "markdown",
   "metadata": {},
   "source": [
    "2. In Europe the average savings is 15% of the annual salary. Use this to calculate the average estimated savings of all current customers (not those who exited). \n",
    "- Create a new column `savings_this_year` equal to 15% of the current `estimatedsalary` (`*0.15`)\n",
    "- Create a new column `balance_end_of_year` equal to `balance` + `savings_this_year`\n",
    "- Select only those customers who did not exit (`.loc[]`)\n",
    "- Select only the `['balance', 'balance_end_of_year']` columns and find the mean.\n",
    "\n",
    "**Bonus 1**: What is the difference between the average `balance` and `balance_end_of_year`? To answer this question you can substract both values manually, or you *could* try using the `numpy.diff()` function. Make sure to import numpy first.\n",
    "\n",
    "**Bonus 2**: Some customers have `NaN` for their salary. For these customers, fill their salary to be the average salary of everyone else. How does that change the result?"
   ]
  },
  {
   "cell_type": "code",
   "execution_count": null,
   "metadata": {},
   "outputs": [],
   "source": [
    "# code goes here\n"
   ]
  },
  {
   "cell_type": "raw",
   "metadata": {},
   "source": [
    "Answer: "
   ]
  },
  {
   "cell_type": "markdown",
   "metadata": {},
   "source": [
    "### Answers"
   ]
  },
  {
   "cell_type": "code",
   "execution_count": null,
   "metadata": {},
   "outputs": [],
   "source": [
    "# %load answers/pandas-essentials/ex-columns-1.py"
   ]
  },
  {
   "cell_type": "code",
   "execution_count": null,
   "metadata": {},
   "outputs": [],
   "source": [
    "# %load answers/pandas-essentials/ex-columns-2.py"
   ]
  },
  {
   "cell_type": "code",
   "execution_count": null,
   "metadata": {},
   "outputs": [],
   "source": [
    "# %load answers/pandas-essentials/ex-columns-2-bonus.py"
   ]
  },
  {
   "cell_type": "markdown",
   "metadata": {},
   "source": [
    "<a id='ex_wrangle'></a>\n",
    "\n",
    "----\n",
    "## <mark>Bonus exercises - Data Wrangling</mark>\n",
    "\n",
    "Use the above methods to answer the following questions. Show your solutions rounded to 2 decimal places (Hint: `df.round()`)"
   ]
  },
  {
   "cell_type": "markdown",
   "metadata": {},
   "source": [
    "1. What is the mean estimated salary of the entire data?"
   ]
  },
  {
   "cell_type": "code",
   "execution_count": null,
   "metadata": {},
   "outputs": [],
   "source": []
  },
  {
   "cell_type": "markdown",
   "metadata": {},
   "source": [
    "2. What is the mean age split by country location?"
   ]
  },
  {
   "cell_type": "code",
   "execution_count": null,
   "metadata": {},
   "outputs": [],
   "source": []
  },
  {
   "cell_type": "markdown",
   "metadata": {},
   "source": [
    "3. Count how many people can vote or not, by filtering on their age. (Hint: also use `value_counts()`)"
   ]
  },
  {
   "cell_type": "code",
   "execution_count": null,
   "metadata": {},
   "outputs": [],
   "source": []
  },
  {
   "cell_type": "markdown",
   "metadata": {},
   "source": [
    "4. Find out the mean estimated salary comparing those who can vote and those who can't. "
   ]
  },
  {
   "cell_type": "code",
   "execution_count": null,
   "metadata": {},
   "outputs": [],
   "source": []
  },
  {
   "cell_type": "markdown",
   "metadata": {},
   "source": [
    "5. Find out the mean estimated salary comparing those who can vote and those who can't but **only** for those who exited."
   ]
  },
  {
   "cell_type": "code",
   "execution_count": null,
   "metadata": {},
   "outputs": [],
   "source": []
  },
  {
   "cell_type": "markdown",
   "metadata": {},
   "source": [
    "**Answers**"
   ]
  },
  {
   "cell_type": "code",
   "execution_count": null,
   "metadata": {},
   "outputs": [],
   "source": [
    "# %load answers/pandas-essentials/ex-pandas-1.py"
   ]
  },
  {
   "cell_type": "code",
   "execution_count": null,
   "metadata": {},
   "outputs": [],
   "source": [
    "# %load answers/pandas-essentials/ex-pandas-2.py"
   ]
  },
  {
   "cell_type": "code",
   "execution_count": null,
   "metadata": {},
   "outputs": [],
   "source": [
    "# %load answers/pandas-essentials/ex-pandas-3.py"
   ]
  },
  {
   "cell_type": "code",
   "execution_count": null,
   "metadata": {},
   "outputs": [],
   "source": [
    "# %load answers/pandas-essentials/ex-pandas-4.py"
   ]
  },
  {
   "cell_type": "code",
   "execution_count": null,
   "metadata": {},
   "outputs": [],
   "source": [
    "# %load answers/pandas-essentials/ex-pandas-5.py"
   ]
  }
 ],
 "metadata": {
  "kernelspec": {
   "display_name": "Python 3 (ipykernel)",
   "language": "python",
   "name": "python3"
  },
  "language_info": {
   "codemirror_mode": {
    "name": "ipython",
    "version": 3
   },
   "file_extension": ".py",
   "mimetype": "text/x-python",
   "name": "python",
   "nbconvert_exporter": "python",
   "pygments_lexer": "ipython3",
   "version": "3.10.12"
  },
  "vscode": {
   "interpreter": {
    "hash": "01418a6d8d6879162f3975a8f268be07c03f54c31367a5d99b86f72c75071d58"
   }
  }
 },
 "nbformat": 4,
 "nbformat_minor": 4
}
