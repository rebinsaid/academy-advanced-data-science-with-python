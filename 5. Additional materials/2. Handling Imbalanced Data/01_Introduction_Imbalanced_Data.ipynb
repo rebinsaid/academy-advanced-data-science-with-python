{
 "cells": [
  {
   "cell_type": "markdown",
   "id": "57c404e1",
   "metadata": {},
   "source": [
    "### <img src=images/gdd-logo.png width=200px align=right>\n",
    "\n",
    "# Introduction to imbalanced data\n",
    "\n",
    "In this notebook, you will examine why imbalanced data can cause problems for machine learning and discuss how to pick an appropriate metric.\n",
    "\n",
    "### Outline\n",
    "- [When is data imbalanced?](#when)\n",
    "- [Why imbalanced data can cause problems](#why)\n",
    "- [Choosing a model evalution metric](#metric)\n",
    "- [Cross-validation on imbalanced data](#cross-val)"
   ]
  },
  {
   "cell_type": "code",
   "execution_count": null,
   "id": "c0057945",
   "metadata": {},
   "outputs": [],
   "source": [
    "import pandas as pd\n",
    "import seaborn as sns\n",
    "import numpy as np\n",
    "\n",
    "from sklearn.compose import ColumnTransformer\n",
    "from sklearn.preprocessing import OneHotEncoder\n",
    "from sklearn.model_selection import train_test_split\n",
    "from sklearn.pipeline import Pipeline\n",
    "from sklearn.preprocessing import MinMaxScaler\n",
    "from sklearn.metrics import accuracy_score"
   ]
  },
  {
   "cell_type": "markdown",
   "id": "307fc4fb",
   "metadata": {},
   "source": [
    "## About the data\n",
    "\n",
    "<img src='images/who.png' width='500px' align='right' style=\"padding: 15px\">\n",
    "\n",
    "According to the World Health Organization (WHO), strokes are the 2nd leading cause of death globally, responsible for approximately 11% of total deaths.\n",
    "\n",
    "You will use this dataset to build a model that can **predict whether a patient is likely to have a `stroke`** (based on input parameters like gender, age and whether or not they smoke). "
   ]
  },
  {
   "cell_type": "code",
   "execution_count": null,
   "id": "ccefdf26",
   "metadata": {},
   "outputs": [],
   "source": [
    "stroke = pd.read_csv('data/full_data.csv').rename(str.lower, axis='columns')\n",
    "stroke"
   ]
  },
  {
   "cell_type": "markdown",
   "id": "74b1897b",
   "metadata": {},
   "source": [
    "<a id = 'when'></a>\n",
    "\n",
    "## When is data imbalanced?"
   ]
  },
  {
   "cell_type": "markdown",
   "id": "3cf04f96",
   "metadata": {},
   "source": [
    "In machine learning, data is considered to be imbalanced when the class distribution is not equal. This means that there are significantly more examples of one class than the other.  \n",
    "\n",
    "For example, if you were trying to train a model to detect fraud in financial transactions, the number of fraudulent transactions would likely be much smaller than the number of non-fraudulent transactions. In this case, the data would be imbalanced, with the \"non-fraud\" class being much more prevalent than the \"fraud\" class.\n",
    "<br><br>\n",
    "\n",
    "<img src=images/imbalanced_visualisation.svg width=500px align=\"center\">\n",
    "\n",
    "<mark>**Question:** Can you think of other examples or fields where data will often be imbalanced?</mark>"
   ]
  },
  {
   "cell_type": "raw",
   "id": "f50b16ea",
   "metadata": {},
   "source": [
    "Answer: "
   ]
  },
  {
   "cell_type": "markdown",
   "id": "d749abbe",
   "metadata": {},
   "source": [
    "<details>\n",
    "\n",
    "  <summary><span style=\"color:blue\">Show examples</span></summary>\n",
    "\n",
    "E.g.\n",
    "    \n",
    "* Identification of rare diseases\n",
    "* Natural disasters\n",
    "* Spam emails\n",
    "* Machinery break-down\n",
    "...\n",
    "    \n",
    "</details>"
   ]
  },
  {
   "cell_type": "markdown",
   "id": "db02ac74",
   "metadata": {},
   "source": [
    "By examining the number of times each class occurs, you can see that the stroke dataset is also quite imbalanced."
   ]
  },
  {
   "cell_type": "code",
   "execution_count": null,
   "id": "dff90b2e",
   "metadata": {},
   "outputs": [],
   "source": [
    "stroke['stroke'].value_counts(normalize=True)"
   ]
  },
  {
   "cell_type": "markdown",
   "id": "f6c4ebdf",
   "metadata": {},
   "source": [
    "<a id = 'why'></a>\n",
    "\n",
    "## Why imbalanced data can cause problems"
   ]
  },
  {
   "cell_type": "markdown",
   "id": "0bd7d4a1",
   "metadata": {},
   "source": [
    "Imbalanced data can pose challenges in machine learning, as models may develop biases towards the dominant class. This occurs because the model has more instances to learn from that class, potentially leading it to prioritize the more prevalent class('s features). Consequently, this imbalance can result in poor performance when predicting the less prevalent class.\n",
    "\n",
    "Let's demonstrate this by training a Support Vector Cassifier (SVC) using scikit-learn."
   ]
  },
  {
   "cell_type": "code",
   "execution_count": null,
   "id": "3f112ac6",
   "metadata": {},
   "outputs": [],
   "source": [
    "categorical_columns = ['gender', 'ever_married', 'work_type', 'residence_type', 'smoking_status']\n",
    "target = 'stroke'\n",
    "\n",
    "def create_Xy(df, target_col):\n",
    "    return (\n",
    "        df.drop(columns=target_col),\n",
    "        df[target_col]\n",
    "    )\n",
    "\n",
    "X, y = create_Xy(stroke, \n",
    "                 target_col=target)\n",
    "\n",
    "X.shape, y.shape"
   ]
  },
  {
   "cell_type": "code",
   "execution_count": null,
   "id": "b3ae0b4f",
   "metadata": {},
   "outputs": [],
   "source": [
    "X_train, X_test, y_train, y_test = train_test_split(X, y, \n",
    "                                                    random_state=42, \n",
    "                                                    stratify=y)"
   ]
  },
  {
   "cell_type": "code",
   "execution_count": null,
   "id": "022f1285",
   "metadata": {},
   "outputs": [],
   "source": [
    "from sklearn.svm import SVC\n",
    "\n",
    "model = SVC()\n",
    "\n",
    "onehot = ColumnTransformer([\n",
    "    ('ct', OneHotEncoder(drop='first'), categorical_columns)\n",
    "])\n",
    "\n",
    "pipeline = Pipeline(steps=[\n",
    "    ('onehot', onehot),\n",
    "    ('scaler', MinMaxScaler()),\n",
    "    ('model', model)])\n",
    "\n",
    "pipeline.fit(X_train, y_train)\n",
    "y_pred = pipeline.predict(X_test)\n",
    "\n",
    "accuracy_score(y_test, y_pred)"
   ]
  },
  {
   "cell_type": "markdown",
   "id": "c34111ff",
   "metadata": {},
   "source": [
    "At first glance, this looks like a great result, because the resulting accuracy is really high. \n",
    "\n",
    "However, the confusion matrix reveals a difference picture:"
   ]
  },
  {
   "cell_type": "code",
   "execution_count": null,
   "id": "799a2b64",
   "metadata": {},
   "outputs": [],
   "source": [
    "from sklearn.metrics import ConfusionMatrixDisplay\n",
    "\n",
    "ConfusionMatrixDisplay.from_estimator(\n",
    "         pipeline, X_test, y_test)"
   ]
  },
  {
   "cell_type": "markdown",
   "id": "ed086ed8",
   "metadata": {},
   "source": [
    "Accuracy is defined as the number of correct predictions divided by the total number of predictions made. Therefore, if a model consistently predicts the majority class, it can attain a high accuracy score, especially when the majority class greatly outnumbers the minority class.\n",
    "\n",
    "This is precisely the situation we observe here: Our model consistently predicts 0. Consequently, it fails to identify instances of the minority class (1), which is undoubtedly problematic."
   ]
  },
  {
   "cell_type": "markdown",
   "id": "1795d34e",
   "metadata": {},
   "source": [
    "<a id = 'metric'></a>\n",
    "\n",
    "## Choosing a model evalution metric\n",
    "\n",
    "Clearly accuracy is not an appropriate metric for this problem, but how do you choose the right metric? \n",
    "\n",
    "This depends on the business problem at hand:\n",
    "- Do you want to predict **class labels or probabilities**? \n",
    "\n",
    "- What is the **cost of false positives** and **false negatives** (E.g. how much woud it cost to deny someone a loan when they are able to pay back vs. giving someone a loan that they will default on?)\n",
    "\n",
    "<mark>**Question:** What other things may you want to consider when choosing a metric?</mark>"
   ]
  },
  {
   "cell_type": "raw",
   "id": "29deafc0",
   "metadata": {},
   "source": [
    "Answer: "
   ]
  },
  {
   "cell_type": "markdown",
   "id": "5a19b545",
   "metadata": {},
   "source": [
    "<details>\n",
    "\n",
    "  <summary><span style=\"color:blue\">Show examples</span></summary>\n",
    "\n",
    "E.g.\n",
    "- Are both classes equally important or not?\n",
    "- Is there an imbalance in the classes?\n",
    "- Do you have a regression or classification problem?\n",
    "    \n",
    "</details>"
   ]
  },
  {
   "cell_type": "markdown",
   "id": "e01f017e",
   "metadata": {},
   "source": [
    "A cheat sheet like the one below can be helpful but really it's down to you, your understanding of the data and of the subject matter to make the final choice.\n",
    "\n",
    "<img src=images/metrics.png width=700px align=center source=https://machinelearningmastery.com/framework-for-imbalanced-classification-projects/*>\n",
    "\n",
    "[Source](https://machinelearningmastery.com/framework-for-imbalanced-classification-projects/)"
   ]
  },
  {
   "cell_type": "markdown",
   "id": "1dc08c58",
   "metadata": {},
   "source": [
    "## <mark>**Exercise: picking a metric**</mark>\n",
    "\n",
    "1. Discuss in groups what could be a good metric to use for our stroke prediction model (using the flow chart above). "
   ]
  },
  {
   "cell_type": "raw",
   "id": "b1320b38",
   "metadata": {},
   "source": [
    "[Metric] could be a good choice, because ..."
   ]
  },
  {
   "cell_type": "markdown",
   "id": "cdda3656",
   "metadata": {},
   "source": [
    "2. Once you've decided on a metric, look it up on the [metrics page of Scikit-Learn](https://scikit-learn.org/stable/modules/classes.html#classification-metrics). Import it and then calculate the score for the predictions `y_pred` made earlier. "
   ]
  },
  {
   "cell_type": "code",
   "execution_count": null,
   "id": "0f7f0988",
   "metadata": {},
   "outputs": [],
   "source": [
    "# Add your code here"
   ]
  },
  {
   "cell_type": "markdown",
   "id": "a912b506",
   "metadata": {},
   "source": [
    "3. How does the performance with the new metric compare to the result of the *accuracy_score()* function?"
   ]
  },
  {
   "cell_type": "raw",
   "id": "3cd873a8",
   "metadata": {},
   "source": [
    "Answer: "
   ]
  },
  {
   "cell_type": "markdown",
   "id": "396aa796",
   "metadata": {
    "scrolled": true
   },
   "source": [
    "<details>\n",
    "\n",
    "  <summary><span style=\"color:blue\">Show answer</span></summary>\n",
    "\n",
    "An example of a suitable metric in this case could the **F2 score**. This is because finding people who will have a stroke is more important (i.e. the positive class is more important). If we miss a stroke case, it will be more costly than if we falsely diagnose someone with a stroke (i.e. false negatives are more costly). \n",
    "    \n",
    "\n",
    "```python\n",
    "from sklearn.metrics import fbeta_score\n",
    "\n",
    "fbeta_score(y_test, y_pred, beta=2)\n",
    "```\n",
    "\n",
    "</details>"
   ]
  },
  {
   "cell_type": "markdown",
   "id": "dff6d478",
   "metadata": {},
   "source": [
    "Sklearn also provides a `classification_report` function which conveniently provides the basic metrics:"
   ]
  },
  {
   "cell_type": "code",
   "execution_count": null,
   "id": "b81bec81",
   "metadata": {},
   "outputs": [],
   "source": [
    "from sklearn.metrics import classification_report\n",
    "\n",
    "print(classification_report(y_test, y_pred,\n",
    "                            zero_division='warn'\n",
    "                            ))"
   ]
  },
  {
   "cell_type": "markdown",
   "id": "47c22a86",
   "metadata": {},
   "source": [
    "<a id = 'cross-val'></a>\n",
    "\n",
    "## Cross validation on an imbalanced dataset\n",
    "\n",
    "You can use cross-validation to give your model the opportunity to train on multiple train-test splits (e.g. K-fold). This gives you a better indication of how well your model will perform on unseen data.\n",
    "\n",
    "<img src=\"images/crossvalidation.png\" style=\"display: block;margin-left: auto;margin-right: auto;height: 200px\"/>"
   ]
  },
  {
   "cell_type": "markdown",
   "id": "3c25d585",
   "metadata": {},
   "source": [
    "In order to make sure the folds contain stratified data during cross-validation, you can use `StratifiedKFold`. "
   ]
  },
  {
   "cell_type": "markdown",
   "id": "c628d5ad",
   "metadata": {},
   "source": [
    "<mark>**Question:** Why is it important to make sure our imbalanced data is stratified when performing K-fold cross validation?<mark>\n",
    "    "
   ]
  },
  {
   "cell_type": "raw",
   "id": "12cfb743",
   "metadata": {},
   "source": [
    "Answer: "
   ]
  },
  {
   "cell_type": "markdown",
   "id": "b415fde0",
   "metadata": {},
   "source": [
    "<details>\n",
    "\n",
    "  <summary><span style=\"color:blue\">Show answer</span></summary>\n",
    "\n",
    "If you are for example using 10-fold cross validation, the data is randomly split into 10 folds. This makes it likely that one or more folds will have few or no examples from the minority class. This means that some or perhaps many of the model evaluations will be misleading, as the model need only predict the majority class correctly.\n",
    "    \n",
    "Note that a single run of [Stratified K-Fold](https://scikit-learn.org/stable/modules/generated/sklearn.model_selection.StratifiedKFold.html) may result in a noisy estimate of the model's performance, as different splits of the data might result in very different results. In such scenarios, [Repeated Stratified K-fold cross validation](https://scikit-learn.org/stable/modules/generated/sklearn.model_selection.RepeatedStratifiedKFold.html) can be used: it runs the process *n* times and reports the mean result across all *folds* from all *runs*. It has the benefit of providing more reliable results, at the cost of fitting and evaluating many more models. \n",
    "\n",
    "</details>"
   ]
  },
  {
   "cell_type": "markdown",
   "id": "20b9698e",
   "metadata": {},
   "source": [
    "In the code below we demonstrate how to implement `StratifiedKFold` cross-validaiton. \n",
    "\n",
    "The flow chart above suggests that the F2 score would be a suitable metric for this problem. It can be implemented through the `make_scorer` function."
   ]
  },
  {
   "cell_type": "code",
   "execution_count": null,
   "id": "50c3e234",
   "metadata": {},
   "outputs": [],
   "source": [
    "from sklearn.metrics import make_scorer, fbeta_score\n",
    "from sklearn.model_selection import StratifiedKFold, cross_val_score\n",
    "\n",
    "cv = StratifiedKFold(n_splits=10)\n",
    "ftwo_scorer = make_scorer(fbeta_score, beta=2)\n",
    "\n",
    "scores = cross_val_score(pipeline, X_train, y_train, scoring=ftwo_scorer, cv=cv)\n",
    "\n",
    "print(f\"Mean score: {np.round(np.mean(scores), 3)}\")"
   ]
  },
  {
   "cell_type": "markdown",
   "id": "b87602a1",
   "metadata": {},
   "source": [
    "The mean F2-score is zero (since the precision is always zero with no stroke predictions).\n",
    "\n",
    "Unlike the accuracy score we achieved previously, the [F2 score](https://machinelearningmastery.com/fbeta-measure-for-machine-learning/) suggests the model is not performing well.\n",
    "\n",
    "However, in the next notebook you will learn some techniques to help your models perform better on imbalanced data."
   ]
  },
  {
   "cell_type": "markdown",
   "id": "a121c4f2",
   "metadata": {},
   "source": [
    "## Summary\n",
    "\n",
    "In this notebook, you saw how imbalanced data can cause problems when training a machine learning model. You also discussed the considerations to make when choosing an evaluation metric."
   ]
  }
 ],
 "metadata": {
  "kernelspec": {
   "display_name": "Python 3 (ipykernel)",
   "language": "python",
   "name": "python3"
  },
  "language_info": {
   "codemirror_mode": {
    "name": "ipython",
    "version": 3
   },
   "file_extension": ".py",
   "mimetype": "text/x-python",
   "name": "python",
   "nbconvert_exporter": "python",
   "pygments_lexer": "ipython3",
   "version": "3.10.0"
  }
 },
 "nbformat": 4,
 "nbformat_minor": 5
}
