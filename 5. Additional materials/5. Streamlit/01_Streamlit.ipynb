{
 "cells": [
  {
   "cell_type": "markdown",
   "id": "c4d7059b-bffc-40d6-b122-69e3f9695361",
   "metadata": {},
   "source": [
    "<img src='images/gdd-logo.png' width='250px' align='right' style=\"padding: 15px\">\n",
    "\n",
    "# Streamlit\n",
    "\n",
    "Machine learning models are often built and evaluated in notebooks—but that’s not always how **end users** interact with them. Whether you're sharing results with stakeholders or building internal tools, it’s helpful to present your model in a more interactive way.\n",
    "\n",
    "Streamlit is a Python library for building **simple web apps directly from your data science code**. With just a few lines, you can create interactive dashboards and model demos that run in the browser. It's designed for data scientists, so you don’t need any front-end experience to use it.\n",
    "\n",
    "You’ll see how easy it is to turn a script into something that others can click through, explore, and use.\n",
    "\n",
    "<img src='images/streamlit-logo.png' width='250px' align='left' style=\"padding: 15px\">"
   ]
  },
  {
   "cell_type": "markdown",
   "id": "7916b0df-99ac-4527-8dbb-f6c6b58c5f24",
   "metadata": {},
   "source": [
    "## Exercises\n",
    "#### Exercise 0: explore an example app\n",
    "1. Have a look at the `widget_examples.py` file to see a demonstration of more interactive widgets you can add to your streamlit apps.\n",
    "2. Check the results by running streamlit running `streamlit run ./examples/widget_examples.py` from your terminal. "
   ]
  },
  {
   "cell_type": "raw",
   "id": "9930a227-7207-47d8-a052-2dd9bcce3d49",
   "metadata": {},
   "source": []
  },
  {
   "cell_type": "markdown",
   "id": "675e1064-4b82-4565-9482-c65791db5443",
   "metadata": {},
   "source": [
    "#### Exercise 1: run your first streamlit app\n",
    "1. Open the `1_simple_line_chart.py` file and inspect the code. \n",
    "2. Then run from the terminal: `streamlit run ./exercises/1_simple_line_chart.py`"
   ]
  },
  {
   "cell_type": "raw",
   "id": "4e63e53e-d671-4012-b30d-641cf7a6eaac",
   "metadata": {},
   "source": []
  },
  {
   "cell_type": "markdown",
   "id": "6a4db718-af8b-444e-a37c-cad1a9793753",
   "metadata": {},
   "source": [
    "#### Exercise 2: add interaction\n",
    "1. In the second exercise, you will add a slider, slider information and ... to your app.\n",
    "2. Once you're done, run from the terminal: `streamlit run ./exercises/2_line_chart_interaction.py`"
   ]
  },
  {
   "cell_type": "raw",
   "id": "55004ea9-28ae-468c-9fc8-8ec6ddd5e1ca",
   "metadata": {},
   "source": []
  },
  {
   "cell_type": "markdown",
   "id": "829291e4-08be-408a-a1d8-798b7233eca1",
   "metadata": {},
   "source": [
    "#### Exercise 3: slidebar\n",
    "1. Move your interactive sliders in your app to the sidebar.\n",
    "2. Once you're done, run from the terminal: `streamlit run ./exercises/3_sidebar.py`"
   ]
  },
  {
   "cell_type": "raw",
   "id": "23a8942b-cb9c-40fd-9c9f-0112df01a068",
   "metadata": {},
   "source": []
  },
  {
   "cell_type": "markdown",
   "id": "c1f0fae2-c72b-4db7-9ae5-5fa2ef145139",
   "metadata": {},
   "source": [
    "#### Exercise 4: using a dataset\n",
    "1. Instead of generated data, let's use a real dataset and allow users to use interactive filters.\n",
    "2. Once you're done, run from the terminal: `streamlit run ./exercises/4_pandas.py`"
   ]
  },
  {
   "cell_type": "raw",
   "id": "171d273d-86be-4be5-827d-86f93e846d97",
   "metadata": {},
   "source": []
  },
  {
   "cell_type": "markdown",
   "id": "d5faddcd-2819-4201-a746-fda7ceebe217",
   "metadata": {},
   "source": [
    "#### Exercise 5: using a dataset\n",
    "In this exercise you will plot the average weight of the chicks over time, per diet. You can use the existing pandas code to wrangle the data and plot it with `st.line_chart`.\n",
    "\n",
    "1. Write a title for your streamlit app and add any other labels you would like.\n",
    "2. Add a slidebar to be able to filter on the time column\n",
    "    - Create variables to store the min and max time (`min_col = df['col'].min()`)\n",
    "    - Use `st.sidebar.slider` with the min and max time to create streamlit variables\n",
    "    - Use the `.loc` method to filter (`df.loc[df['col'] <= min_col`)\n",
    "3. Add a multiselect checkbox to be able to filter on diet\n",
    "    - Use `st.sidebar.multiselect` with the unique diet variables\n",
    "    - Use the `.loc` method to filter (`df.loc[df['col'].isin(list_of_unique_values)`)\n",
    "4. Once you're done, run from the terminal: `streamlit run ./exercises/5_pandas_assignment.py`"
   ]
  },
  {
   "cell_type": "raw",
   "id": "da9f2866-fed9-4b85-8e77-37abfc952a1c",
   "metadata": {},
   "source": []
  },
  {
   "cell_type": "markdown",
   "id": "d7abea66-4940-4f42-967c-685c37b76da1",
   "metadata": {},
   "source": [
    "#### Exercise 6: caching\n",
    "Using the [`st.cache_data`](https://docs.streamlit.io/library/api-reference/performance/st.cache_data) decorator prevens you having to re-load the data when you make changes to a running application. This can be especially ueful when working with large datasets.\n",
    "\n",
    "1. To demonstrate this, load and visualize the NYC Uber Taxi dataset.\n",
    "2. Use the [st.date_input](https://docs.streamlit.io/library/api-reference/widgets/st.date_input) widget to select the range of dates you want to be shown.\n",
    "3. Add a [st.checkbox](https://docs.streamlit.io/library/api-reference/widgets/st.checkbox) to show the raw data."
   ]
  },
  {
   "cell_type": "raw",
   "id": "af21362a-35e6-47f1-8e6a-3688a3e77fc6",
   "metadata": {},
   "source": []
  }
 ],
 "metadata": {
  "kernelspec": {
   "display_name": "Python 3 (ipykernel)",
   "language": "python",
   "name": "python3"
  },
  "language_info": {
   "codemirror_mode": {
    "name": "ipython",
    "version": 3
   },
   "file_extension": ".py",
   "mimetype": "text/x-python",
   "name": "python",
   "nbconvert_exporter": "python",
   "pygments_lexer": "ipython3",
   "version": "3.11.8"
  }
 },
 "nbformat": 4,
 "nbformat_minor": 5
}
