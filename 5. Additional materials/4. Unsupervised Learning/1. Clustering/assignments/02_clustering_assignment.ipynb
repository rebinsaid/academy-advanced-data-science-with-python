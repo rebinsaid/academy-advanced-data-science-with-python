{
 "cells": [
  {
   "cell_type": "code",
   "execution_count": null,
   "metadata": {},
   "outputs": [],
   "source": [
    "import numpy as np\n",
    "import pandas as pd\n",
    "import matplotlib.pyplot as plt\n",
    "import seaborn as sns"
   ]
  },
  {
   "cell_type": "markdown",
   "metadata": {},
   "source": [
    "# Mall Customer data\n",
    "\n",
    "Clustering is a technique that groups together data points that behave similarly. A common application for this is customer segmentation. \n",
    "\n",
    "In this example, we have a collected dataset that features a customer ID, the gender, age, annual income (in thousands of $) and a spending cscore (between 1-100). Spending score is a score that the amount computed for each of their clients based on several criteria including, for instance, the number of times per week they come to the mall and the money they spent in a year. \n",
    "\n",
    "This is a typical clustering problem, as we don't know what the final categories are. Our target is to group together customers with a hierarchical clustering approach.\n",
    "\n",
    "![](../images/mall.png)"
   ]
  },
  {
   "cell_type": "code",
   "execution_count": null,
   "metadata": {},
   "outputs": [],
   "source": [
    "df = pd.read_csv('../data/mall.csv')\n",
    "df.head()"
   ]
  },
  {
   "cell_type": "markdown",
   "metadata": {},
   "source": [
    "Customer ID is not a useful feature for clustering, so we will drop that column. Gender might be interesting, but clustering does not work well with categorical values - hence, we drop this feature as well. Finally, we also drop Age to simplify our problem as this allows us to later on visualise our resulting clusters on two axis - Income and SpendingScore"
   ]
  },
  {
   "cell_type": "code",
   "execution_count": null,
   "metadata": {},
   "outputs": [],
   "source": [
    "X = df.drop(['CustomerID', 'Gender', 'Age'], axis=1)"
   ]
  },
  {
   "cell_type": "markdown",
   "metadata": {},
   "source": [
    "## Assignment\n",
    "\n",
    "Cluster the customers with hierarchical clustering. Steps to consider: \n",
    "\n",
    "- Create a dendrogram to determine the best number of clusters.\n",
    "- Experiment with different linkage methods.\n",
    "- Perform agglomerative clustering. Keep in mind to use the same linkage type as in your dendrogram! \n",
    "- Visualise your clusters on income vs. spending score. "
   ]
  },
  {
   "cell_type": "code",
   "execution_count": null,
   "metadata": {},
   "outputs": [],
   "source": []
  },
  {
   "cell_type": "code",
   "execution_count": null,
   "metadata": {},
   "outputs": [],
   "source": []
  }
 ],
 "metadata": {
  "kernelspec": {
   "display_name": "Python 3",
   "language": "python",
   "name": "python3"
  },
  "language_info": {
   "codemirror_mode": {
    "name": "ipython",
    "version": 3
   },
   "file_extension": ".py",
   "mimetype": "text/x-python",
   "name": "python",
   "nbconvert_exporter": "python",
   "pygments_lexer": "ipython3",
   "version": "3.8.3"
  }
 },
 "nbformat": 4,
 "nbformat_minor": 4
}
