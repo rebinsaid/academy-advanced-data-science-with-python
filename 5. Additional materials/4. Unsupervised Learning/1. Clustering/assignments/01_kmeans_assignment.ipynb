{
 "cells": [
  {
   "cell_type": "markdown",
   "metadata": {},
   "source": [
    "# Socioeconomic Country Clustering\n",
    "\n",
    "HELP International is an international humanitarian NGO that is committed to fighting poverty and providing the people of backward countries with basic amenities and relief during the time of disasters and natural calamities. It runs a lot of operational projects from time to time along with advocacy drives to raise awareness as well as for funding purposes.\n",
    "\n",
    "After the recent funding programmes, they have been able to raise around $ 10 million. Now the CEO of the NGO needs to decide how to use this money strategically and effectively. The significant issues that come while making this decision are mostly related to **choosing the countries that are in the direst need of aid.**\n",
    "\n",
    "And this is where you come in as a data analyst. Your job is to **categorise the countries** using some socio-economic and health factors that determine the overall development of the country. Then you need to suggest the countries which the CEO needs to focus on the most.\n",
    "\n",
    "<img src=\"../images/countries.png\" style=\"width: 500px\"/>"
   ]
  },
  {
   "cell_type": "markdown",
   "metadata": {},
   "source": [
    "## Data preparation\n",
    "\n",
    "For each country, the following attributes are available: \n",
    "* country: name of the country\n",
    "* child_mort: Deaths of children under 5 years of age per 1000 live births\n",
    "* exports: Exports of goods and services.* \n",
    "* health: Total health spending.* \n",
    "* imports: Imports of goods and services.*  \n",
    "* income: Net income per person\n",
    "* Inflation: The measurement of annual growth rate of the total GDP. \n",
    "* life_expec: The average number of years a new born child would live.\n",
    "* total_fer: The number of children that would be born to each woman if the current age-fertility rates remain the same\n",
    "* gdpp: The GDP per capita. Calculated as the Total GDP divided by the total population.\n",
    "\n",
    "\n",
    "\\* _Given as percentage of the Total GDP_"
   ]
  },
  {
   "cell_type": "code",
   "execution_count": null,
   "metadata": {},
   "outputs": [],
   "source": [
    "import numpy as np\n",
    "import pandas as pd\n",
    "import matplotlib.pyplot as plt\n",
    "import seaborn as sns"
   ]
  },
  {
   "cell_type": "code",
   "execution_count": null,
   "metadata": {},
   "outputs": [],
   "source": [
    "data = pd.DataFrame(pd.read_csv('../data/country-data.csv'))\n",
    "data.head()"
   ]
  },
  {
   "cell_type": "code",
   "execution_count": null,
   "metadata": {},
   "outputs": [],
   "source": [
    "X = data.drop(['country'], axis=1)\n",
    "y = data['country']"
   ]
  },
  {
   "cell_type": "code",
   "execution_count": null,
   "metadata": {},
   "outputs": [],
   "source": [
    "X.shape"
   ]
  },
  {
   "cell_type": "markdown",
   "metadata": {},
   "source": [
    "The data is preprocessed. There were no missing values.\n",
    "\n",
    "**Questions** \n",
    "1. How many features do you have? \n",
    "2. Do you have any categorical variables? Would that pose a problem for k-means? \n",
    "3. What does _y_ mean in this case?"
   ]
  },
  {
   "cell_type": "raw",
   "metadata": {},
   "source": [
    "1.\n",
    "2.\n",
    "3."
   ]
  },
  {
   "cell_type": "markdown",
   "metadata": {},
   "source": [
    "###  Exercise 1\n",
    "The ranges vary between the different features. Scale your data and create `X_scaled`."
   ]
  },
  {
   "cell_type": "code",
   "execution_count": null,
   "metadata": {},
   "outputs": [],
   "source": []
  },
  {
   "cell_type": "code",
   "execution_count": null,
   "metadata": {},
   "outputs": [],
   "source": [
    "# %load ../answers/kmeans_scaling.py"
   ]
  },
  {
   "cell_type": "markdown",
   "metadata": {},
   "source": [
    "## Number of clusters\n",
    "\n",
    "The downside of k-means is that it requires you to define in advance how many clusters there are expected to be in the data. You are going to use the Elbow method to get a first indication of what an appropriate number of clusters would be. \n",
    "\n",
    "###  Exercise 2\n",
    "Implement the Elbow method here. When instantiating your KMeans object, use `n_init=10` as one of its parameters."
   ]
  },
  {
   "cell_type": "code",
   "execution_count": null,
   "metadata": {},
   "outputs": [],
   "source": []
  },
  {
   "cell_type": "code",
   "execution_count": null,
   "metadata": {},
   "outputs": [],
   "source": [
    "# %load ../answers/kmeans_elbow.py"
   ]
  },
  {
   "cell_type": "markdown",
   "metadata": {},
   "source": [
    "**Question** \n",
    "Does the Elbow method give a clear answer? What would you say possible choices are? "
   ]
  },
  {
   "cell_type": "raw",
   "metadata": {},
   "source": [
    "Answer: "
   ]
  },
  {
   "cell_type": "markdown",
   "metadata": {},
   "source": [
    "### Exercise 3\n",
    "\n",
    "Next up is the Silhouette score. Implement silhouette score here. "
   ]
  },
  {
   "cell_type": "code",
   "execution_count": null,
   "metadata": {},
   "outputs": [],
   "source": []
  },
  {
   "cell_type": "code",
   "execution_count": null,
   "metadata": {},
   "outputs": [],
   "source": [
    "# %load ../answers/kmeans_silhouette.py"
   ]
  },
  {
   "cell_type": "markdown",
   "metadata": {},
   "source": [
    "**Question** What is your definite answer to the number of clusters appropriate for this data problem? "
   ]
  },
  {
   "cell_type": "raw",
   "metadata": {},
   "source": [
    "Answer: "
   ]
  },
  {
   "cell_type": "markdown",
   "metadata": {},
   "source": [
    "### Exercise 4\n",
    "You have prepared your data and scaled it, and determined the number of clusters to use. Let's get ready to use k-means! Implement k-means here. Don't forget to also set `n_init` when instantiating your object."
   ]
  },
  {
   "cell_type": "code",
   "execution_count": null,
   "metadata": {},
   "outputs": [],
   "source": []
  },
  {
   "cell_type": "code",
   "execution_count": null,
   "metadata": {},
   "outputs": [],
   "source": [
    "# %load ../answers/kmeans_kmeans.py"
   ]
  },
  {
   "cell_type": "markdown",
   "metadata": {},
   "source": [
    "### Exercise 5\n",
    "\n",
    "Exlain why it's best to set `n_init` to a number (much) higher than 1. What does this parameter do?"
   ]
  },
  {
   "cell_type": "raw",
   "metadata": {},
   "source": [
    "Answer: "
   ]
  },
  {
   "cell_type": "markdown",
   "metadata": {},
   "source": [
    "<details>\n",
    "    \n",
    "  <summary><span style=\"color:blue\">Show answer</span></summary>\n",
    "  \n",
    "K-means is pretty sensitive to initialisation. To ensure you have not become stuck in a local minima, you can run K-Means multiple times and choose the centroid for which the inertia is the lowest. \n",
    "\n",
    "</details>"
   ]
  },
  {
   "cell_type": "markdown",
   "metadata": {},
   "source": [
    "## Analyse result\n",
    "\n",
    "Let's convert your results to a pandas dataframe for easy data wrangling. Let's see how many points were assigned to each cluster."
   ]
  },
  {
   "cell_type": "code",
   "execution_count": null,
   "metadata": {},
   "outputs": [],
   "source": [
    "labels = pd.DataFrame(kmeans.labels_, columns = ['labels'])\n",
    "labels.value_counts() "
   ]
  },
  {
   "cell_type": "markdown",
   "metadata": {},
   "source": [
    "Hmmmh, there is something interesting going on here, wouldn't you say? Based on the number of countries assigned to each cluster, do you still think the previous choice of number of clusters based on the Elbow method and the Silhouette score was the right choice? Or is there a different value you would like to try out now? "
   ]
  },
  {
   "cell_type": "raw",
   "metadata": {},
   "source": [
    "Answer: "
   ]
  },
  {
   "cell_type": "markdown",
   "metadata": {},
   "source": [
    "### Exercise 6\n",
    "Retry k-means with a different number of clusters. "
   ]
  },
  {
   "cell_type": "code",
   "execution_count": null,
   "metadata": {},
   "outputs": [],
   "source": []
  },
  {
   "cell_type": "code",
   "execution_count": null,
   "metadata": {},
   "outputs": [],
   "source": [
    "# %load ../answers/kmeans_retry.py"
   ]
  },
  {
   "cell_type": "code",
   "execution_count": null,
   "metadata": {},
   "outputs": [],
   "source": [
    "labels = pd.DataFrame(kmeans.labels_, columns = ['labels'])\n",
    "labels.value_counts() "
   ]
  },
  {
   "cell_type": "markdown",
   "metadata": {},
   "source": [
    "This seems more like it! As there is no ground truth to compare your labels against, you cannot simply verify that the clustering was done correctly. However, you can investigate your features for the various labels and see if you can find some differentiating factors."
   ]
  },
  {
   "cell_type": "code",
   "execution_count": null,
   "metadata": {},
   "outputs": [],
   "source": [
    "data_kmeans = pd.concat([data.copy(), labels], axis=1)\n",
    "data_kmeans.head(10)"
   ]
  },
  {
   "cell_type": "code",
   "execution_count": null,
   "metadata": {},
   "outputs": [],
   "source": [
    "columns = data_kmeans.drop(['country', 'labels'], axis=1).columns\n",
    "\n",
    "for i, column in enumerate(columns): \n",
    "    plt.figure()\n",
    "    sns.boxplot(x='labels', y=column, data=data_kmeans)"
   ]
  },
  {
   "cell_type": "markdown",
   "metadata": {},
   "source": [
    "**Questions**\n",
    "1. For which features do there seem to be notable differences between the clusters? \n",
    "2. For which features do the differences seem **not** that notable? \n",
    "3. How would you characterise the different labels in terms of their features? "
   ]
  },
  {
   "cell_type": "raw",
   "metadata": {},
   "source": [
    "1.\n",
    "2.\n",
    "3."
   ]
  },
  {
   "cell_type": "markdown",
   "metadata": {},
   "source": [
    "### Conclusion \n",
    "\n",
    "What clusters have you found in the data and how would you characterise these clusters? Explore the data with their corresponding labels. Are these findings according to your own expectations? "
   ]
  },
  {
   "cell_type": "raw",
   "metadata": {},
   "source": [
    "Answer:"
   ]
  },
  {
   "cell_type": "markdown",
   "metadata": {},
   "source": [
    "### Bonus Exercise\n",
    "Investigate for what countries the clustering went awry on the first try. What is special about these countries that they were assigned to different clusters? "
   ]
  },
  {
   "cell_type": "raw",
   "metadata": {},
   "source": [
    "Answer: "
   ]
  }
 ],
 "metadata": {
  "kernelspec": {
   "display_name": "Python 3 (ipykernel)",
   "language": "python",
   "name": "python3"
  },
  "language_info": {
   "codemirror_mode": {
    "name": "ipython",
    "version": 3
   },
   "file_extension": ".py",
   "mimetype": "text/x-python",
   "name": "python",
   "nbconvert_exporter": "python",
   "pygments_lexer": "ipython3",
   "version": "3.10.12"
  }
 },
 "nbformat": 4,
 "nbformat_minor": 4
}
