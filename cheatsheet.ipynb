{
 "cells": [
  {
   "cell_type": "markdown",
   "id": "cc3bedfe",
   "metadata": {},
   "source": [
    "The following command can be useful in the future"
   ]
  },
  {
   "cell_type": "code",
   "execution_count": null,
   "id": "4831709c",
   "metadata": {},
   "outputs": [],
   "source": [
    "stroke = pd.read_csv('data/stroke.csv').rename(columns=str.lower) # load data and maak de kolom header lowercase\n",
    "stroke.head() # show the first 5 rows of the dataframe\n",
    "stroke.info() # show the info of the dataframe, including data types and non-null counts"
   ]
  },
  {
   "cell_type": "code",
   "execution_count": null,
   "id": "3d3aa996",
   "metadata": {},
   "outputs": [],
   "source": [
    "    # How will different types of features impact training a machine learning model?\n",
    "    # Answer: Categorical features will need to be encoded, numerical features may need scaling, and missing values will need to be handled appropriately.\n",
    "    # Categorical --> encode\n",
    "    # Numerical --> scale\n",
    "    # Missing values --> handle appropriately"
   ]
  },
  {
   "cell_type": "code",
   "execution_count": null,
   "id": "4ecf6fea",
   "metadata": {},
   "outputs": [],
   "source": [
    "from sklearn.model_selection import train_test_split\n",
    "\n",
    "X_train, X_test, y_train, y_test = train_test_split(X, y, \n",
    "                                                    test_size=0.25, \n",
    "                                                    random_state=42, \n",
    "                                                    stratify=y) \n",
    "\n",
    "# Bij gebruik van stratify=y zorgt train_test_split ervoor dat de verhouding tussen 0 en 1 in de trainingsset en testset hetzelfde blijft als in de originele data.\n",
    "# Dus als je bijvoorbeeld 10% 1 en 90% 0 hebt in je hele dataset, dan is die verhouding ook ongeveer zo in zowel de trainingsset als de testset.\n",
    "# Het aantal 0 en 1 hoeft niet exact gelijk te zijn, maar de verhouding blijft behouden."
   ]
  },
  {
   "cell_type": "markdown",
   "id": "eb666cbd",
   "metadata": {},
   "source": [
    "When training a model, the steps you will need to take in sklearn are always the same:\n",
    "1. First, choose a model class and import that model \n",
    "2. Choose the model hyperparameters by instantiating this class with desired values.\n",
    "3. Train the model to the preprocessed train data by calling the `fit()` method of the model instance.\n",
    "4. Evaluate the model's performance using suitable metrics"
   ]
  },
  {
   "cell_type": "code",
   "execution_count": null,
   "id": "b8eeb5d4",
   "metadata": {},
   "outputs": [],
   "source": [
    "# Step 1: Import model\n",
    "from sklearn.tree import DecisionTreeClassifier\n",
    "\n",
    "# Step 2: Instantiate model and set parameters\n",
    "tree_model = DecisionTreeClassifier(max_depth=3, \n",
    "                                    class_weight='balanced',\n",
    "                                    random_state=42)\n",
    "\n",
    "# Step 3: Train model\n",
    "tree_model.fit(X_train, y_train)\n",
    "\n",
    "# Step 4: Evaluate model\n",
    "from sklearn.metrics import roc_auc_score\n",
    "\n",
    "y_pred_test = tree_model.predict_proba(X_test)[:,1]\n",
    "y_pred_train = tree_model.predict_proba(X_train)[:,1]\n",
    "\n",
    "print(f'AUC score: {roc_auc_score(y_test, y_pred_test), roc_auc_score(y_train, y_pred_train)}')"
   ]
  },
  {
   "cell_type": "code",
   "execution_count": null,
   "id": "b0ca44d3",
   "metadata": {},
   "outputs": [],
   "source": [
    "#Vragen\n",
    "# 1- wat doet  random_state=42\n",
    "# 2- Hoe wordt de plot van decision tree gemaakt?\n",
    "# 3 - Wat doet log_model.predict_proba(X_test)[:,1]?\n"
   ]
  }
 ],
 "metadata": {
  "kernelspec": {
   "display_name": "Python 3",
   "language": "python",
   "name": "python3"
  },
  "language_info": {
   "codemirror_mode": {
    "name": "ipython",
    "version": 3
   },
   "file_extension": ".py",
   "mimetype": "text/x-python",
   "name": "python",
   "nbconvert_exporter": "python",
   "pygments_lexer": "ipython3",
   "version": "3.12.1"
  }
 },
 "nbformat": 4,
 "nbformat_minor": 5
}
