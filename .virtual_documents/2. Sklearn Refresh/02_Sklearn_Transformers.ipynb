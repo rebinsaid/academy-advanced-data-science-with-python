





import matplotlib.pyplot as plt
import pandas as pd
from sklearn.model_selection import train_test_split
from sklearn.metrics import roc_auc_score
from sklearn.tree import DecisionTreeClassifier


stroke = pd.read_csv('data/stroke.csv').rename(columns=str.lower)
stroke.head()





categorical_cols = ['work_type', 'smoking_status', 'who', 'gender', 'residence_type']
missing_cols = ['bmi', 'age']
drop_cols = ['id','address']

target = 'stroke'

# Function to split data into X and y
def create_Xy(df, drop_cols, target_col):
    df = df.drop(columns=drop_cols)
    return (
        df.drop(columns=target_col),
        df[target_col]
    )

X_baseline, y = stroke.pipe(create_Xy, 
                        drop_cols=drop_cols
                        + categorical_cols
                        + missing_cols, 
                        target_col='stroke')





train_test_params = {
    'test_size':0.25, 
    'random_state':42, 
    'stratify':y
}

X_baseline_train, X_baseline_test, y_train, y_test = train_test_split(
                                                                      X_baseline, 
                                                                      y, 
                                                                      **train_test_params)





# Step 1: Import model
from sklearn.tree import DecisionTreeClassifier

# Step 2: Instantiate model and set parameters
base_model = DecisionTreeClassifier(max_depth=3, 
                                    class_weight='balanced',
                                    random_state=42)

# Step 3: Train model
base_model.fit(X_baseline_train, y_train)


# Step 4: Evaluate model
y_baseline_train_probs = base_model.predict_proba(X_baseline_train)[:,1]
y_baseline_test_probs = base_model.predict_proba(X_baseline_test)[:,1]

print(f'AUC: {roc_auc_score(y_train, y_baseline_train_probs), roc_auc_score(y_test, y_baseline_test_probs)}')











drop_cols = ['id','address']

X, y = stroke.pipe(create_Xy, 
                   drop_cols=drop_cols, 
                   target_col='stroke')

X_train, X_test, y_train, y_test = train_test_split(X, y, **train_test_params)


X_train.head()





# Find columns of DType "object"
stroke.select_dtypes('O').columns


stroke['who'].value_counts()








from sklearn.preprocessing import OneHotEncoder

onehot = OneHotEncoder()
onehot.fit_transform(X_train).shape





onehot.get_feature_names_out()[:10]





from sklearn.preprocessing import OneHotEncoder, OrdinalEncoder
from sklearn.compose import ColumnTransformer

ct = ColumnTransformer([
    ('onehot', OneHotEncoder(), categorical_cols)],
    remainder='passthrough')
ct





X_train_encoded = ct.fit_transform(X_train)
X_test_encoded = ct.transform(X_test)


X_train.shape, X_train_encoded.shape





ct.get_feature_names_out()




















new_ct = ColumnTransformer([
    # your code here
])


# %load answers/02-ohe.py





missing_cols = list(stroke.columns[stroke.isnull().any()])
missing_cols





from sklearn.impute import SimpleImputer

impute = SimpleImputer(strategy='median')


X_train_imputed = impute.fit_transform(X_train_encoded)
X_test_imputed = impute.transform(X_test_encoded)





X_train['age'].median()


X_train['bmi'].median()











ct = ColumnTransformer([
    ('onehot', OneHotEncoder(drop="if_binary", sparse_output=False), categorical_cols),
    ], 
    remainder='passthrough', 
    )





from sklearn.pipeline import Pipeline

# Your code here


# %load answers/02-pipeline.py





pipeline['preprocessing']['ct']





all_features = pipeline['preprocessing']['ct'].get_feature_names_out()
all_features





pipeline.fit(X_train, y_train)





from sklearn.metrics import RocCurveDisplay

fig, ax = plt.subplots(1, 2, figsize=(16,6))

RocCurveDisplay.from_estimator(base_model, X_baseline_train, y_train, ax=ax[0], name='Baseline')
RocCurveDisplay.from_estimator(pipeline, X_train, y_train, ax=ax[0], name='Improved Model')
ax[0].set(title='Train');

RocCurveDisplay.from_estimator(base_model, X_baseline_test, y_test, ax=ax[1], name='Baseline')
RocCurveDisplay.from_estimator(pipeline, X_test, y_test, ax=ax[1], name='Improved Model')
ax[1].set(title='Test')





from sklearn.tree import plot_tree
import matplotlib.pyplot as plt

fig,ax = plt.subplots(figsize=(20,20))

plot_tree(pipeline.named_steps['model'], 
          feature_names=list(all_features),
          ax=ax);



