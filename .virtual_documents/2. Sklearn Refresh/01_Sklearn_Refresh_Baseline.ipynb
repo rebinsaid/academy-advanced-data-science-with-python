


import matplotlib.pyplot as plt
import seaborn as sns
import pandas as pd
import numpy as np








stroke = pd.read_csv('data/stroke.csv').rename(columns=str.lower)
stroke.head()











# %load answers/01-data-exploration-1.py











# %load answers/01-data-exploration-2.py








stroke['stroke'].value_counts(
    # normalize = True
    )











# dropping columns 

categorical_cols = ['work_type', 'smoking_status', 'who', 'gender', 'residence_type']
missing_cols = ['bmi', 'age']
drop_cols = ['id','address']

target = 'stroke'

X = stroke.drop(columns = drop_cols 
                        + categorical_cols
                        + missing_cols
                        + [target])
y = stroke[target]


X.head()


y.head()





from sklearn.model_selection import train_test_split

X_train, X_test, y_train, y_test = train_test_split(X, y, 
                                                    test_size=0.25, 
                                                    random_state=42, 
                                                    stratify=y)


X_train.shape, X_test.shape











# Step 1: Import model
from sklearn.tree import DecisionTreeClassifier

# Step 2: Instantiate model and set parameters
tree_model = DecisionTreeClassifier(max_depth=3, 
                                    class_weight='balanced',
                                    random_state=42)

# Step 3: Train model
tree_model.fit(X_train, y_train)





# Step 4: Evaluate model
from sklearn.metrics import roc_auc_score

y_pred_test = tree_model.predict_proba(X_test)[:,1]
y_pred_train = tree_model.predict_proba(X_train)[:,1]

print(f'AUC score: {roc_auc_score(y_test, y_pred_test), roc_auc_score(y_train, y_pred_train)}')





from sklearn.tree import plot_tree

fig,ax = plt.subplots(figsize=(16,4))

plot_tree(tree_model, 
          ax=ax, 
          feature_names=list(X_train.columns), 
          class_names=['no stroke', 'stroke'],
          );








# %load answers/01-logistic_regression.py





from sklearn.metrics import ConfusionMatrixDisplay

ConfusionMatrixDisplay.from_estimator(
         tree_model, 
         X_test, y_test,);














from custom_threshold import CustomThreshold

thresholds = [0, 0.25, 0.5]

fig, ax = plt.subplots(1,len(thresholds), figsize=(16,8))

for idx, threshold in enumerate(thresholds):

    tree = CustomThreshold(tree_model, threshold)
    
    ConfusionMatrixDisplay.from_estimator(
         tree, 
         X_test, y_test,
         ax=ax[idx], colorbar=False)








from sklearn.metrics import RocCurveDisplay

fig, ax = plt.subplots(1, 2, figsize=(16,6))

RocCurveDisplay.from_estimator(tree_model, X_train, y_train, ax=ax[0], name='Train')
RocCurveDisplay.from_estimator(tree_model, X_test, y_test, ax=ax[0], name='Test')
ax[0].set(title='Decision Tree model');

# RocCurveDisplay.from_estimator(logistic_model, X_train, y_train, ax=ax[1], name='Train')
# RocCurveDisplay.from_estimator(logistic_model, X_test, y_test, ax=ax[1], name='Test')
# ax[1].set(title='Logistic model')
























