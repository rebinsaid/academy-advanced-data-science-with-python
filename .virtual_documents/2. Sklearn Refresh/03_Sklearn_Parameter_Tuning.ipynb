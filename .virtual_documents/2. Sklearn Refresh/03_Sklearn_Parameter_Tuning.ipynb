


import pandas as pd
import numpy as np
import matplotlib.pyplot as plt

from sklearn.model_selection import train_test_split
from sklearn.pipeline import Pipeline
from sklearn.tree import DecisionTreeClassifier
from sklearn.impute import SimpleImputer
from sklearn.preprocessing import OneHotEncoder
from sklearn.compose import ColumnTransformer
from sklearn.metrics import RocCurveDisplay





stroke = pd.read_csv('data/stroke.csv').rename(columns=str.lower)
stroke.head()





# Variable definitions
categorical_cols = ['work_type', 'smoking_status', 'who', 'gender', 'residence_type']
missing_cols = ['age','bmi']
drop_cols = ['id','address']

target = 'stroke'

def create_Xy(df, drop_cols, target_col):
    df = df.drop(columns=drop_cols)
    return (
        df.drop(columns=target_col),
        df[target_col]
    )

# Create X and y
X, y = stroke.pipe(create_Xy, 
                   drop_cols=drop_cols, 
                   target_col=target,
                   )

# Train-test split
X_train, X_test, y_train, y_test = train_test_split(X,
                                                    y,
                                                    test_size = 0.25,
                                                    random_state = 42,
                                                    stratify = y,
                                                    )


# Step 1: import model
from sklearn.tree import DecisionTreeClassifier

# Step 2: Instantiate model and set parameters
model = DecisionTreeClassifier(max_depth=3, 
                               class_weight='balanced', 
                               random_state=123)

ct = ColumnTransformer([
    ('onehot', OneHotEncoder(drop="if_binary"), categorical_cols)
], remainder='passthrough')

preprocessing = Pipeline(steps=[
    ('onehot', ct),
    ('impute', SimpleImputer(strategy='mean')),
])

pipeline = Pipeline(steps=[
    ('preprocessing', preprocessing),
    ('model', model)
])

# Step 3: Train model
pipeline.fit(X_train,y_train)


# Step 4: Evaluate model
fig, ax = plt.subplots()
RocCurveDisplay.from_estimator(pipeline, X_train, y_train, ax=ax, name='Train')
RocCurveDisplay.from_estimator(pipeline, X_test, y_test, ax=ax, name='Test')





# Change the parameters!
new_model = DecisionTreeClassifier(
    max_depth=3,
    # add other parameters here
    class_weight='balanced', 
    random_state=123)

new_pipeline = Pipeline(steps=[
    ('preprocessing', preprocessing),
    ('model', new_model)
])

new_pipeline.fit(X_train,y_train)

fig, ax = plt.subplots()
RocCurveDisplay.from_estimator(new_pipeline, X_train, y_train, ax=ax, name='Train')
RocCurveDisplay.from_estimator(new_pipeline, X_test, y_test, ax=ax, name='Test')


# %load answers/03-changing-hyperparameters.py





from sklearn.metrics import classification_report

# your code here


# %load answers/03-metrics-classification-report.py





from sklearn.tree import plot_tree

fig,ax = plt.subplots(figsize=(20,20))

plot_tree(new_pipeline.named_steps['model'], ax=ax);











from sklearn.model_selection import GridSearchCV





params = {
    'preprocessing__impute__strategy': ['mean', 'median'],
    'model__max_depth': range(1, 21),
    'model__criterion': ['gini','entropy',],
}





grid = GridSearchCV(pipeline, params, scoring='roc_auc', cv = 3)


grid.fit(X_train, y_train)


cv_results = pd.DataFrame(grid.cv_results_).sort_values('rank_test_score')
cv_results.head()


(
    cv_results
    .groupby('param_model__max_depth')
    ['mean_test_score']
    .mean()
    .plot(title = 'Test AUC by max_depth', 
          xticks = range(0,21,2)
          )
);





model_best = grid.best_estimator_
model_best


model_best.score(X_train, y_train), model_best.score(X_test, y_test)


fig, ax = plt.subplots(1, 2, figsize=(16,6))

RocCurveDisplay.from_estimator(pipeline, X_train, y_train, ax=ax[0], name='Train')
RocCurveDisplay.from_estimator(pipeline, X_test, y_test, ax=ax[0], name='Test')
ax[0].set(title='Base model')

RocCurveDisplay.from_estimator(model_best, X_train, y_train, ax=ax[1], name='Train')
RocCurveDisplay.from_estimator(model_best, X_test, y_test, ax=ax[1], name='Test')
ax[1].set(title='Tuned model');





from sklearn.ensemble import RandomForestClassifier, GradientBoostingClassifier
from sklearn.svm import SVC

# # your code here


# %load answers/03-better-model.py






